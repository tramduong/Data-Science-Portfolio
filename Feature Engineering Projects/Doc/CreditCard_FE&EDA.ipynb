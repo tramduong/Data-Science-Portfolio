{
 "cells": [
  {
   "cell_type": "markdown",
   "metadata": {},
   "source": [
    "## Feature Engineering & EDA  For Credit Card Data\n",
    "    Tram Duong\n",
    "    September 14, 2020 "
   ]
  },
  {
   "cell_type": "markdown",
   "metadata": {},
   "source": [
    "## Table of Contents:\n",
    "* [Introduction](#intro)\n",
    "* [Initial EDA](#initial_eda)\n",
    "* [Feature 1](#feature1)\n",
    "* [Feature 2](#feature2)\n",
    "* [Feature 3](#feature3)\n",
    "* [Feature 4](#feature4)\n",
    "* [Feature 5](#feature5)\n",
    "* [Feature 6](#feature6)\n",
    "* [Feature 7](#feature7)\n",
    "* [Feature 8](#feature8)\n",
    "* [Feature 9](#feature9)\n",
    "* [Feature 10](#feature10)\n",
    "* [Feature 11](#feature11)\n",
    "* [Feature 12](#feature12)\n",
    "* [Feature 13](#feature13)\n",
    "* [Feature 14](#feature14)\n",
    "* [Feature 15](#feature15)\n",
    "* [Feature 16](#feature16)\n",
    "* [Feature 17](#feature17)\n",
    "* [Feature 18](#feature18)\n",
    "* [Feature 19](#feature19)\n",
    "* [Feature 20](#feature20)"
   ]
  },
  {
   "cell_type": "markdown",
   "metadata": {},
   "source": [
    "### Introduction <a class=\"anchor\" id=\"intro\"></a>\n",
    "\n",
    "This dataset contains information on purchases made through the purchase card programs administered by the State of Oklahoma and higher education institutions. \n",
    "\n",
    "In this report, I will complete the following tasks.\n",
    "\n",
    "- Create new features and conduct exploratory data analysis. \n",
    "- Each feature or discussion is a new lead. Structure your EDA for different leads with sub-sections. Each sub-section will cover the following:\n",
    "    - Lead: Write what you are going to do in two to three sentences.\n",
    "    - Analysis: your EDA\n",
    "    - Conclusion: What is the business insight? How can this feature help prediction? Write a short conclusion in the end of each sub-section. "
   ]
  },
  {
   "cell_type": "markdown",
   "metadata": {},
   "source": [
    "#### Load Data and Libraries"
   ]
  },
  {
   "cell_type": "code",
   "execution_count": 1,
   "metadata": {},
   "outputs": [],
   "source": [
    "#install.packages(\"plotly\")\n",
    "#install.packages(\"DataExplorer\")\n",
    "#install.packages(\"githubinstall\")\n",
    "#library(githubinstall)\n",
    "#githubinstall(\"xda\")"
   ]
  },
  {
   "cell_type": "code",
   "execution_count": 2,
   "metadata": {},
   "outputs": [
    {
     "name": "stderr",
     "output_type": "stream",
     "text": [
      "\n",
      "Attaching package: 'dplyr'\n",
      "\n",
      "The following objects are masked from 'package:stats':\n",
      "\n",
      "    filter, lag\n",
      "\n",
      "The following objects are masked from 'package:base':\n",
      "\n",
      "    intersect, setdiff, setequal, union\n",
      "\n",
      "Warning message:\n",
      "\"package 'DataExplorer' was built under R version 3.6.3\"Warning message:\n",
      "\"package 'plotly' was built under R version 3.6.3\"\n",
      "Attaching package: 'plotly'\n",
      "\n",
      "The following object is masked from 'package:ggplot2':\n",
      "\n",
      "    last_plot\n",
      "\n",
      "The following object is masked from 'package:stats':\n",
      "\n",
      "    filter\n",
      "\n",
      "The following object is masked from 'package:graphics':\n",
      "\n",
      "    layout\n",
      "\n",
      "\n",
      "Attaching package: 'lubridate'\n",
      "\n",
      "The following object is masked from 'package:base':\n",
      "\n",
      "    date\n",
      "\n"
     ]
    }
   ],
   "source": [
    "library(dplyr, quietly = TRUE)\n",
    "library(DataExplorer, quietly = TRUE)\n",
    "library(xda, quietly = TRUE)\n",
    "library(ggplot2, quietly = TRUE)\n",
    "library(plotly, quietly = TRUE)\n",
    "library(lubridate, quietly = TRUE)"
   ]
  },
  {
   "cell_type": "code",
   "execution_count": 3,
   "metadata": {},
   "outputs": [],
   "source": [
    "setwd(\"C:/github/Data-Science-Portfolio/Feature Engineering & ModelingDoc/\")\n",
    "ccard <- read.csv(\"res_purchase_card_(pcard)_fiscal_year_2014_3pcd-aiuu.csv\")"
   ]
  },
  {
   "cell_type": "code",
   "execution_count": 4,
   "metadata": {},
   "outputs": [
    {
     "data": {
      "text/html": [
       "<ol class=list-inline>\n",
       "\t<li>'Year.Month'</li>\n",
       "\t<li>'Agency.Number'</li>\n",
       "\t<li>'Agency.Name'</li>\n",
       "\t<li>'Cardholder.Last.Name'</li>\n",
       "\t<li>'Cardholder.First.Initial'</li>\n",
       "\t<li>'Description'</li>\n",
       "\t<li>'Amount'</li>\n",
       "\t<li>'Vendor'</li>\n",
       "\t<li>'Transaction.Date'</li>\n",
       "\t<li>'Posted.Date'</li>\n",
       "\t<li>'Merchant.Category.Code..MCC.'</li>\n",
       "</ol>\n"
      ],
      "text/latex": [
       "\\begin{enumerate*}\n",
       "\\item 'Year.Month'\n",
       "\\item 'Agency.Number'\n",
       "\\item 'Agency.Name'\n",
       "\\item 'Cardholder.Last.Name'\n",
       "\\item 'Cardholder.First.Initial'\n",
       "\\item 'Description'\n",
       "\\item 'Amount'\n",
       "\\item 'Vendor'\n",
       "\\item 'Transaction.Date'\n",
       "\\item 'Posted.Date'\n",
       "\\item 'Merchant.Category.Code..MCC.'\n",
       "\\end{enumerate*}\n"
      ],
      "text/markdown": [
       "1. 'Year.Month'\n",
       "2. 'Agency.Number'\n",
       "3. 'Agency.Name'\n",
       "4. 'Cardholder.Last.Name'\n",
       "5. 'Cardholder.First.Initial'\n",
       "6. 'Description'\n",
       "7. 'Amount'\n",
       "8. 'Vendor'\n",
       "9. 'Transaction.Date'\n",
       "10. 'Posted.Date'\n",
       "11. 'Merchant.Category.Code..MCC.'\n",
       "\n",
       "\n"
      ],
      "text/plain": [
       " [1] \"Year.Month\"                   \"Agency.Number\"               \n",
       " [3] \"Agency.Name\"                  \"Cardholder.Last.Name\"        \n",
       " [5] \"Cardholder.First.Initial\"     \"Description\"                 \n",
       " [7] \"Amount\"                       \"Vendor\"                      \n",
       " [9] \"Transaction.Date\"             \"Posted.Date\"                 \n",
       "[11] \"Merchant.Category.Code..MCC.\""
      ]
     },
     "metadata": {},
     "output_type": "display_data"
    }
   ],
   "source": [
    "colnames(ccard)"
   ]
  },
  {
   "cell_type": "code",
   "execution_count": 5,
   "metadata": {},
   "outputs": [],
   "source": [
    "colnames(ccard)<-c('Year_Month', 'Agency_Number', 'Agency_Name', 'Cardholder_Last_Name',\n",
    "      'Cardholder_First_Initial', 'Description', 'Amount', 'Vendor', 'Transaction_Date',\n",
    "      'Posted_Date', 'Merchant_Category')"
   ]
  },
  {
   "cell_type": "code",
   "execution_count": 6,
   "metadata": {
    "scrolled": true
   },
   "outputs": [
    {
     "data": {
      "text/html": [
       "442458"
      ],
      "text/latex": [
       "442458"
      ],
      "text/markdown": [
       "442458"
      ],
      "text/plain": [
       "[1] 442458"
      ]
     },
     "metadata": {},
     "output_type": "display_data"
    },
    {
     "data": {
      "text/html": [
       "<table>\n",
       "<thead><tr><th scope=col>Year_Month</th><th scope=col>Agency_Number</th><th scope=col>Agency_Name</th><th scope=col>Cardholder_Last_Name</th><th scope=col>Cardholder_First_Initial</th><th scope=col>Description</th><th scope=col>Amount</th><th scope=col>Vendor</th><th scope=col>Transaction_Date</th><th scope=col>Posted_Date</th><th scope=col>Merchant_Category</th></tr></thead>\n",
       "<tbody>\n",
       "\t<tr><td>201307                                                   </td><td>1000                                                     </td><td>OKLAHOMA STATE UNIVERSITY                                </td><td>Mason                                                    </td><td>C                                                        </td><td>GENERAL PURCHASE                                         </td><td>890.00                                                   </td><td>NACAS                                                    </td><td>07/30/2013 12:00:00 AM                                   </td><td>07/31/2013 12:00:00 AM                                   </td><td>CHARITABLE AND SOCIAL SERVICE ORGANIZATIONS              </td></tr>\n",
       "\t<tr><td>201307                                                   </td><td>1000                                                     </td><td>OKLAHOMA STATE UNIVERSITY                                </td><td>Mason                                                    </td><td>C                                                        </td><td>ROOM CHARGES                                             </td><td>368.96                                                   </td><td>SHERATON HOTEL                                           </td><td>07/30/2013 12:00:00 AM                                   </td><td>07/31/2013 12:00:00 AM                                   </td><td>SHERATON                                                 </td></tr>\n",
       "\t<tr><td>201307                                                   </td><td>1000                                                     </td><td>OKLAHOMA STATE UNIVERSITY                                </td><td>Massey                                                   </td><td>J                                                        </td><td>GENERAL PURCHASE                                         </td><td>165.82                                                   </td><td>SEARS.COM 9300                                           </td><td>07/29/2013 12:00:00 AM                                   </td><td>07/31/2013 12:00:00 AM                                   </td><td>DIRCT MARKETING/DIRCT MARKETERS--NOT ELSEWHERE CLASSIFIED</td></tr>\n",
       "\t<tr><td>201307                                                   </td><td>1000                                                     </td><td>OKLAHOMA STATE UNIVERSITY                                </td><td>Massey                                                   </td><td>T                                                        </td><td>GENERAL PURCHASE                                         </td><td> 96.39                                                   </td><td>WAL-MART #0137                                           </td><td>07/30/2013 12:00:00 AM                                   </td><td>07/31/2013 12:00:00 AM                                   </td><td>GROCERY STORES,AND SUPERMARKETS                          </td></tr>\n",
       "\t<tr><td>201307                                                   </td><td>1000                                                     </td><td>OKLAHOMA STATE UNIVERSITY                                </td><td>Mauro-Herrera                                            </td><td>M                                                        </td><td>HAMMERMILL COPY PLUS COPY EA                             </td><td>125.96                                                   </td><td>STAPLES DIRECT                                           </td><td>07/30/2013 12:00:00 AM                                   </td><td>07/31/2013 12:00:00 AM                                   </td><td>STATIONERY, OFFICE SUPPLIES, PRINTING AND WRITING PAPER  </td></tr>\n",
       "\t<tr><td>201307                                                   </td><td>1000                                                     </td><td>OKLAHOMA STATE UNIVERSITY                                </td><td>Mauro-Herrera                                            </td><td>M                                                        </td><td>GENERAL PURCHASE                                         </td><td>394.28                                                   </td><td>KYOCERA DOCUMENT SOLUTION                                </td><td>07/29/2013 12:00:00 AM                                   </td><td>07/31/2013 12:00:00 AM                                   </td><td>OFFICE, PHOTOGRAPHIC, PHOTOCOPY, AND MICROFILM EQUIPMENT </td></tr>\n",
       "</tbody>\n",
       "</table>\n"
      ],
      "text/latex": [
       "\\begin{tabular}{r|lllllllllll}\n",
       " Year\\_Month & Agency\\_Number & Agency\\_Name & Cardholder\\_Last\\_Name & Cardholder\\_First\\_Initial & Description & Amount & Vendor & Transaction\\_Date & Posted\\_Date & Merchant\\_Category\\\\\n",
       "\\hline\n",
       "\t 201307                                                    & 1000                                                      & OKLAHOMA STATE UNIVERSITY                                 & Mason                                                     & C                                                         & GENERAL PURCHASE                                          & 890.00                                                    & NACAS                                                     & 07/30/2013 12:00:00 AM                                    & 07/31/2013 12:00:00 AM                                    & CHARITABLE AND SOCIAL SERVICE ORGANIZATIONS              \\\\\n",
       "\t 201307                                                    & 1000                                                      & OKLAHOMA STATE UNIVERSITY                                 & Mason                                                     & C                                                         & ROOM CHARGES                                              & 368.96                                                    & SHERATON HOTEL                                            & 07/30/2013 12:00:00 AM                                    & 07/31/2013 12:00:00 AM                                    & SHERATON                                                 \\\\\n",
       "\t 201307                                                    & 1000                                                      & OKLAHOMA STATE UNIVERSITY                                 & Massey                                                    & J                                                         & GENERAL PURCHASE                                          & 165.82                                                    & SEARS.COM 9300                                            & 07/29/2013 12:00:00 AM                                    & 07/31/2013 12:00:00 AM                                    & DIRCT MARKETING/DIRCT MARKETERS--NOT ELSEWHERE CLASSIFIED\\\\\n",
       "\t 201307                                                    & 1000                                                      & OKLAHOMA STATE UNIVERSITY                                 & Massey                                                    & T                                                         & GENERAL PURCHASE                                          &  96.39                                                    & WAL-MART \\#0137                                          & 07/30/2013 12:00:00 AM                                    & 07/31/2013 12:00:00 AM                                    & GROCERY STORES,AND SUPERMARKETS                          \\\\\n",
       "\t 201307                                                    & 1000                                                      & OKLAHOMA STATE UNIVERSITY                                 & Mauro-Herrera                                             & M                                                         & HAMMERMILL COPY PLUS COPY EA                              & 125.96                                                    & STAPLES DIRECT                                            & 07/30/2013 12:00:00 AM                                    & 07/31/2013 12:00:00 AM                                    & STATIONERY, OFFICE SUPPLIES, PRINTING AND WRITING PAPER  \\\\\n",
       "\t 201307                                                    & 1000                                                      & OKLAHOMA STATE UNIVERSITY                                 & Mauro-Herrera                                             & M                                                         & GENERAL PURCHASE                                          & 394.28                                                    & KYOCERA DOCUMENT SOLUTION                                 & 07/29/2013 12:00:00 AM                                    & 07/31/2013 12:00:00 AM                                    & OFFICE, PHOTOGRAPHIC, PHOTOCOPY, AND MICROFILM EQUIPMENT \\\\\n",
       "\\end{tabular}\n"
      ],
      "text/markdown": [
       "\n",
       "| Year_Month | Agency_Number | Agency_Name | Cardholder_Last_Name | Cardholder_First_Initial | Description | Amount | Vendor | Transaction_Date | Posted_Date | Merchant_Category |\n",
       "|---|---|---|---|---|---|---|---|---|---|---|\n",
       "| 201307                                                    | 1000                                                      | OKLAHOMA STATE UNIVERSITY                                 | Mason                                                     | C                                                         | GENERAL PURCHASE                                          | 890.00                                                    | NACAS                                                     | 07/30/2013 12:00:00 AM                                    | 07/31/2013 12:00:00 AM                                    | CHARITABLE AND SOCIAL SERVICE ORGANIZATIONS               |\n",
       "| 201307                                                    | 1000                                                      | OKLAHOMA STATE UNIVERSITY                                 | Mason                                                     | C                                                         | ROOM CHARGES                                              | 368.96                                                    | SHERATON HOTEL                                            | 07/30/2013 12:00:00 AM                                    | 07/31/2013 12:00:00 AM                                    | SHERATON                                                  |\n",
       "| 201307                                                    | 1000                                                      | OKLAHOMA STATE UNIVERSITY                                 | Massey                                                    | J                                                         | GENERAL PURCHASE                                          | 165.82                                                    | SEARS.COM 9300                                            | 07/29/2013 12:00:00 AM                                    | 07/31/2013 12:00:00 AM                                    | DIRCT MARKETING/DIRCT MARKETERS--NOT ELSEWHERE CLASSIFIED |\n",
       "| 201307                                                    | 1000                                                      | OKLAHOMA STATE UNIVERSITY                                 | Massey                                                    | T                                                         | GENERAL PURCHASE                                          |  96.39                                                    | WAL-MART #0137                                            | 07/30/2013 12:00:00 AM                                    | 07/31/2013 12:00:00 AM                                    | GROCERY STORES,AND SUPERMARKETS                           |\n",
       "| 201307                                                    | 1000                                                      | OKLAHOMA STATE UNIVERSITY                                 | Mauro-Herrera                                             | M                                                         | HAMMERMILL COPY PLUS COPY EA                              | 125.96                                                    | STAPLES DIRECT                                            | 07/30/2013 12:00:00 AM                                    | 07/31/2013 12:00:00 AM                                    | STATIONERY, OFFICE SUPPLIES, PRINTING AND WRITING PAPER   |\n",
       "| 201307                                                    | 1000                                                      | OKLAHOMA STATE UNIVERSITY                                 | Mauro-Herrera                                             | M                                                         | GENERAL PURCHASE                                          | 394.28                                                    | KYOCERA DOCUMENT SOLUTION                                 | 07/29/2013 12:00:00 AM                                    | 07/31/2013 12:00:00 AM                                    | OFFICE, PHOTOGRAPHIC, PHOTOCOPY, AND MICROFILM EQUIPMENT  |\n",
       "\n"
      ],
      "text/plain": [
       "  Year_Month Agency_Number Agency_Name               Cardholder_Last_Name\n",
       "1 201307     1000          OKLAHOMA STATE UNIVERSITY Mason               \n",
       "2 201307     1000          OKLAHOMA STATE UNIVERSITY Mason               \n",
       "3 201307     1000          OKLAHOMA STATE UNIVERSITY Massey              \n",
       "4 201307     1000          OKLAHOMA STATE UNIVERSITY Massey              \n",
       "5 201307     1000          OKLAHOMA STATE UNIVERSITY Mauro-Herrera       \n",
       "6 201307     1000          OKLAHOMA STATE UNIVERSITY Mauro-Herrera       \n",
       "  Cardholder_First_Initial Description                  Amount\n",
       "1 C                        GENERAL PURCHASE             890.00\n",
       "2 C                        ROOM CHARGES                 368.96\n",
       "3 J                        GENERAL PURCHASE             165.82\n",
       "4 T                        GENERAL PURCHASE              96.39\n",
       "5 M                        HAMMERMILL COPY PLUS COPY EA 125.96\n",
       "6 M                        GENERAL PURCHASE             394.28\n",
       "  Vendor                    Transaction_Date       Posted_Date           \n",
       "1 NACAS                     07/30/2013 12:00:00 AM 07/31/2013 12:00:00 AM\n",
       "2 SHERATON HOTEL            07/30/2013 12:00:00 AM 07/31/2013 12:00:00 AM\n",
       "3 SEARS.COM 9300            07/29/2013 12:00:00 AM 07/31/2013 12:00:00 AM\n",
       "4 WAL-MART #0137            07/30/2013 12:00:00 AM 07/31/2013 12:00:00 AM\n",
       "5 STAPLES DIRECT            07/30/2013 12:00:00 AM 07/31/2013 12:00:00 AM\n",
       "6 KYOCERA DOCUMENT SOLUTION 07/29/2013 12:00:00 AM 07/31/2013 12:00:00 AM\n",
       "  Merchant_Category                                        \n",
       "1 CHARITABLE AND SOCIAL SERVICE ORGANIZATIONS              \n",
       "2 SHERATON                                                 \n",
       "3 DIRCT MARKETING/DIRCT MARKETERS--NOT ELSEWHERE CLASSIFIED\n",
       "4 GROCERY STORES,AND SUPERMARKETS                          \n",
       "5 STATIONERY, OFFICE SUPPLIES, PRINTING AND WRITING PAPER  \n",
       "6 OFFICE, PHOTOGRAPHIC, PHOTOCOPY, AND MICROFILM EQUIPMENT "
      ]
     },
     "metadata": {},
     "output_type": "display_data"
    }
   ],
   "source": [
    "nrow(ccard)\n",
    "head(ccard)"
   ]
  },
  {
   "cell_type": "code",
   "execution_count": 7,
   "metadata": {
    "scrolled": true
   },
   "outputs": [
    {
     "data": {
      "text/plain": [
       "   Year_Month     Agency_Number  \n",
       " Min.   :201307   Min.   : 1000  \n",
       " 1st Qu.:201309   1st Qu.: 1000  \n",
       " Median :201401   Median :47700  \n",
       " Mean   :201357   Mean   :42786  \n",
       " 3rd Qu.:201404   3rd Qu.:76000  \n",
       " Max.   :201406   Max.   :98000  \n",
       "                                 \n",
       "                                Agency_Name    \n",
       " OKLAHOMA STATE UNIVERSITY            :115995  \n",
       " UNIVERSITY OF OKLAHOMA               : 76143  \n",
       " UNIV. OF OKLA. HEALTH SCIENCES CENTER: 58247  \n",
       " DEPARTMENT OF CORRECTIONS            : 22322  \n",
       " DEPARTMENT OF TOURISM AND RECREATION : 17232  \n",
       " DEPARTMENT OF TRANSPORTATION         : 15689  \n",
       " (Other)                              :136830  \n",
       "               Cardholder_Last_Name Cardholder_First_Initial\n",
       " JOURNEY HOUSE TRAVEL INC: 10137    J      : 55031          \n",
       " UNIVERSITY AMERICAN     :  7219    G      : 42251          \n",
       " JOURNEY HOUSE TRAVEL    :  4693    D      : 38120          \n",
       " Heusel                  :  4212    M      : 35352          \n",
       " Hines                   :  3423    S      : 34698          \n",
       " Bowers                  :  2448    C      : 33213          \n",
       " (Other)                 :410326    (Other):203793          \n",
       "                        Description         Amount         \n",
       " GENERAL PURCHASE             :247187   Min.   : -42863.0  \n",
       " AIR TRAVEL                   : 29584   1st Qu.:     30.9  \n",
       " ROOM CHARGES                 : 18120   Median :    104.9  \n",
       " AT&T SERVICE PAYMENT ITM     :  2657   Mean   :    425.0  \n",
       " 001 Priority          1LB PCE:  2005   3rd Qu.:    345.0  \n",
       " 000000000000000000000000     :  1828   Max.   :1903858.4  \n",
       " (Other)                      :141077                      \n",
       "                       Vendor                     Transaction_Date \n",
       " STAPLES                  : 14842   09/11/2013 12:00:00 AM:  2122  \n",
       " AMAZON MKTPLACE PMTS     : 12197   08/07/2013 12:00:00 AM:  2108  \n",
       " WW GRAINGER              : 12076   01/14/2014 12:00:00 AM:  2059  \n",
       " Amazon.com               : 10766   01/16/2014 12:00:00 AM:  2009  \n",
       " BILL WARREN OFFICE PRODUC:  4479   09/05/2013 12:00:00 AM:  1999  \n",
       " LOWES #00241             :  4231   10/01/2013 12:00:00 AM:  1996  \n",
       " (Other)                  :383867   (Other)               :430165  \n",
       "                 Posted_Date    \n",
       " 01/13/2014 12:00:00 AM:  3256  \n",
       " 04/14/2014 12:00:00 AM:  3163  \n",
       " 03/10/2014 12:00:00 AM:  3139  \n",
       " 03/03/2014 12:00:00 AM:  3101  \n",
       " 09/16/2013 12:00:00 AM:  3062  \n",
       " 01/20/2014 12:00:00 AM:  3032  \n",
       " (Other)               :423705  \n",
       "                                               Merchant_Category \n",
       " STATIONERY, OFFICE SUPPLIES, PRINTING AND WRITING PAPER: 24860  \n",
       " BOOK STORES                                            : 21981  \n",
       " INDUSTRIAL SUPPLIES NOT ELSEWHERE CLASSIFIED           : 21669  \n",
       " DENTAL/LABORATORY/MEDICAL/OPHTHALMIC HOSP EQIP AND SUP.: 20183  \n",
       " GROCERY STORES,AND SUPERMARKETS                        : 17152  \n",
       " MISCELLANEOUS AND SPECIALTY RETAIL STORES              : 13335  \n",
       " (Other)                                                :323278  "
      ]
     },
     "metadata": {},
     "output_type": "display_data"
    }
   ],
   "source": [
    "summary(ccard)"
   ]
  },
  {
   "cell_type": "markdown",
   "metadata": {},
   "source": [
    "### Exploratory Data Analysis (EDA) <a class=\"anchor\" id=\"initial_eda\"></a>"
   ]
  },
  {
   "cell_type": "markdown",
   "metadata": {},
   "source": [
    "#### Visualization by Agency Name\n",
    "\n",
    "I started by looking at the agency name and calculating the statistical values for each agency, then created visualizations for some important statistical values, such as mean, sum, min, max, etc."
   ]
  },
  {
   "cell_type": "code",
   "execution_count": 8,
   "metadata": {},
   "outputs": [],
   "source": [
    "# Create statistic tables by agency\n",
    "stat_by_agency <- ccard %>% group_by(Agency_Name) %>%\n",
    "    summarise(count = n(),\n",
    "              amount = sum(Amount),\n",
    "              mean = mean(Amount),\n",
    "              min = min(Amount),\n",
    "              max = max(Amount)\n",
    "             ) %>%\n",
    "    arrange(desc(amount)) %>% ungroup()\n",
    "\n",
    "# Calculate the percentage of total values of transactions per agency\n",
    "stat_by_agency <- stat_by_agency %>%\n",
    "    mutate(row = rep(1:nrow(stat_by_agency)),\n",
    "          Agency_Name_ind = paste(row,Agency_Name,sep=\"_\"),\n",
    "          percent = amount/sum(amount)) %>%\n",
    "          arrange(desc(percent)) %>%\n",
    "    select(Agency_Name_ind,count, amount, percent,mean, min, max)"
   ]
  },
  {
   "cell_type": "markdown",
   "metadata": {},
   "source": [
    "The stat_by_agency shows the percent of total amount of transactions of each agency in descending order. "
   ]
  },
  {
   "cell_type": "code",
   "execution_count": 9,
   "metadata": {},
   "outputs": [
    {
     "data": {
      "text/html": [
       "<table>\n",
       "<thead><tr><th scope=col>Agency_Name_ind</th><th scope=col>count</th><th scope=col>amount</th><th scope=col>percent</th><th scope=col>mean</th><th scope=col>min</th><th scope=col>max</th></tr></thead>\n",
       "<tbody>\n",
       "\t<tr><td>1_OKLAHOMA STATE UNIVERSITY            </td><td>115995                                 </td><td>33778840                               </td><td>0.17963575                             </td><td> 291.2094                              </td><td> -6266.53                              </td><td>  27967.38                             </td></tr>\n",
       "\t<tr><td>2_UNIVERSITY OF OKLAHOMA               </td><td> 76143                                 </td><td>24886383                               </td><td>0.13234570                             </td><td> 326.8374                              </td><td>-41740.00                              </td><td> 114203.17                             </td></tr>\n",
       "\t<tr><td>3_UNIV. OF OKLA. HEALTH SCIENCES CENTER</td><td> 58247                                 </td><td>24527325                               </td><td>0.13043623                             </td><td> 421.0916                              </td><td> -7188.61                              </td><td>1903858.37                             </td></tr>\n",
       "\t<tr><td>4_GRAND RIVER DAM AUTH.                </td><td> 10427                                 </td><td>22213829                               </td><td>0.11813306                             </td><td>2130.4142                              </td><td> -9000.00                              </td><td>1089180.00                             </td></tr>\n",
       "\t<tr><td>5_DEPARTMENT OF TRANSPORTATION         </td><td> 15689                                 </td><td>14399262                               </td><td>0.07657522                             </td><td> 917.7935                              </td><td>-34108.00                              </td><td> 348053.75                             </td></tr>\n",
       "\t<tr><td>6_DEPARTMENT OF CORRECTIONS            </td><td> 22322                                 </td><td>13988872                               </td><td>0.07439277                             </td><td> 626.6854                              </td><td>-20000.00                              </td><td>  96190.38                             </td></tr>\n",
       "</tbody>\n",
       "</table>\n"
      ],
      "text/latex": [
       "\\begin{tabular}{r|lllllll}\n",
       " Agency\\_Name\\_ind & count & amount & percent & mean & min & max\\\\\n",
       "\\hline\n",
       "\t 1\\_OKLAHOMA STATE UNIVERSITY             & 115995                                    & 33778840                                  & 0.17963575                                &  291.2094                                 &  -6266.53                                 &   27967.38                               \\\\\n",
       "\t 2\\_UNIVERSITY OF OKLAHOMA                &  76143                                    & 24886383                                  & 0.13234570                                &  326.8374                                 & -41740.00                                 &  114203.17                               \\\\\n",
       "\t 3\\_UNIV. OF OKLA. HEALTH SCIENCES CENTER &  58247                                    & 24527325                                  & 0.13043623                                &  421.0916                                 &  -7188.61                                 & 1903858.37                               \\\\\n",
       "\t 4\\_GRAND RIVER DAM AUTH.                 &  10427                                    & 22213829                                  & 0.11813306                                & 2130.4142                                 &  -9000.00                                 & 1089180.00                               \\\\\n",
       "\t 5\\_DEPARTMENT OF TRANSPORTATION          &  15689                                    & 14399262                                  & 0.07657522                                &  917.7935                                 & -34108.00                                 &  348053.75                               \\\\\n",
       "\t 6\\_DEPARTMENT OF CORRECTIONS             &  22322                                    & 13988872                                  & 0.07439277                                &  626.6854                                 & -20000.00                                 &   96190.38                               \\\\\n",
       "\\end{tabular}\n"
      ],
      "text/markdown": [
       "\n",
       "| Agency_Name_ind | count | amount | percent | mean | min | max |\n",
       "|---|---|---|---|---|---|---|\n",
       "| 1_OKLAHOMA STATE UNIVERSITY             | 115995                                  | 33778840                                | 0.17963575                              |  291.2094                               |  -6266.53                               |   27967.38                              |\n",
       "| 2_UNIVERSITY OF OKLAHOMA                |  76143                                  | 24886383                                | 0.13234570                              |  326.8374                               | -41740.00                               |  114203.17                              |\n",
       "| 3_UNIV. OF OKLA. HEALTH SCIENCES CENTER |  58247                                  | 24527325                                | 0.13043623                              |  421.0916                               |  -7188.61                               | 1903858.37                              |\n",
       "| 4_GRAND RIVER DAM AUTH.                 |  10427                                  | 22213829                                | 0.11813306                              | 2130.4142                               |  -9000.00                               | 1089180.00                              |\n",
       "| 5_DEPARTMENT OF TRANSPORTATION          |  15689                                  | 14399262                                | 0.07657522                              |  917.7935                               | -34108.00                               |  348053.75                              |\n",
       "| 6_DEPARTMENT OF CORRECTIONS             |  22322                                  | 13988872                                | 0.07439277                              |  626.6854                               | -20000.00                               |   96190.38                              |\n",
       "\n"
      ],
      "text/plain": [
       "  Agency_Name_ind                         count  amount   percent    mean     \n",
       "1 1_OKLAHOMA STATE UNIVERSITY             115995 33778840 0.17963575  291.2094\n",
       "2 2_UNIVERSITY OF OKLAHOMA                 76143 24886383 0.13234570  326.8374\n",
       "3 3_UNIV. OF OKLA. HEALTH SCIENCES CENTER  58247 24527325 0.13043623  421.0916\n",
       "4 4_GRAND RIVER DAM AUTH.                  10427 22213829 0.11813306 2130.4142\n",
       "5 5_DEPARTMENT OF TRANSPORTATION           15689 14399262 0.07657522  917.7935\n",
       "6 6_DEPARTMENT OF CORRECTIONS              22322 13988872 0.07439277  626.6854\n",
       "  min       max       \n",
       "1  -6266.53   27967.38\n",
       "2 -41740.00  114203.17\n",
       "3  -7188.61 1903858.37\n",
       "4  -9000.00 1089180.00\n",
       "5 -34108.00  348053.75\n",
       "6 -20000.00   96190.38"
      ]
     },
     "metadata": {},
     "output_type": "display_data"
    }
   ],
   "source": [
    "head(stat_by_agency)"
   ]
  },
  {
   "cell_type": "code",
   "execution_count": 10,
   "metadata": {},
   "outputs": [],
   "source": [
    "# Subtract the table \n",
    "temp <-stat_by_agency[1:30,]"
   ]
  },
  {
   "cell_type": "code",
   "execution_count": 11,
   "metadata": {},
   "outputs": [
    {
     "data": {
      "image/png": "[encoded data removed]",
      "text/plain": [
       "plot without title"
      ]
     },
     "metadata": {},
     "output_type": "display_data"
    }
   ],
   "source": [
    "gg<- ggplot() + geom_bar(aes(reorder(temp$Agency_Name_ind,temp$percent),temp$percent), stat = 'identity',\n",
    "                        color = \"blue\" , fill = \"steelblue\") + \n",
    "  theme_minimal() + \n",
    "  theme(axis.text.x = element_text(angle = 90, hjust = 1)) + labs(\n",
    "    title = \"Percentage of Total Expense by Agency\",\n",
    "    x = \"Agency Name\",\n",
    "    y = \"Percentage\") \n",
    "\n",
    "gg + coord_flip()"
   ]
  },
  {
   "cell_type": "markdown",
   "metadata": {},
   "source": [
    "#### Feature Selection & Engineering\n",
    "\n",
    "The dataset contains of information of agency number, agency name, cardholder, purchase description, amount, vendor, transaction, merchant category. The variables we are going to use are:\n",
    "- Agency_number: unique ID of each agency\n",
    "- Agency_name: Name of agency\n",
    "- Cardholder_Last_Name: Last name of cardholder under each business\n",
    "- Cardholder.First.Initial: First initial name of cardholder under each business\n",
    "- Description: Informaion of expense\n",
    "- Amount: The amount spend for each transaction. \n",
    "- Vendor: The recipient of the expense  \n",
    "- Transaction_date: The transaction's date\n",
    "- Posted_date: The date that the transaction went through\n",
    "- Merchant_Category: Expense category"
   ]
  },
  {
   "cell_type": "markdown",
   "metadata": {},
   "source": [
    "**First Step: Data Preprocessing**\n",
    "  - Setting format for Transaction_Date and Posted_Date variables.\n",
    "  - Creating Time variable to see the duration from transaction date to post date for each transaction. \n",
    "  - Creating a month_yr variables."
   ]
  },
  {
   "cell_type": "code",
   "execution_count": 12,
   "metadata": {
    "collapsed": true
   },
   "outputs": [
    {
     "data": {
      "text/html": [
       "<table>\n",
       "<thead><tr><th scope=col>Agency_Number</th><th scope=col>Agency_Name</th><th scope=col>Transaction_Date</th><th scope=col>Posted_Date</th><th scope=col>Vendor</th><th scope=col>Merchant_Category</th><th scope=col>Description</th><th scope=col>Amount</th><th scope=col>Time</th><th scope=col>month_yr</th></tr></thead>\n",
       "<tbody>\n",
       "\t<tr><td>26500                                                  </td><td>`DEPARTMENT OF EDUCATION                               </td><td>2013-06-29                                             </td><td>2013-07-01                                             </td><td>FACEBK  CK7ZD4WK52                                     </td><td>ADVERTISING SERVICES                                   </td><td>GENERAL PURCHASE                                       </td><td> 415.85                                                </td><td>2 days                                                 </td><td>2013-06                                                </td></tr>\n",
       "\t<tr><td>26500                                                  </td><td>`DEPARTMENT OF EDUCATION                               </td><td>2013-07-01                                             </td><td>2013-07-01                                             </td><td>FACEBK  MB2EF4WL52                                     </td><td>ADVERTISING SERVICES                                   </td><td>GENERAL PURCHASE                                       </td><td>  96.14                                                </td><td>0 days                                                 </td><td>2013-07                                                </td></tr>\n",
       "\t<tr><td>26500                                                  </td><td>`DEPARTMENT OF EDUCATION                               </td><td>2013-07-01                                             </td><td>2013-07-02                                             </td><td>Amazon.com                                             </td><td>BOOK STORES                                            </td><td>Magna Cart Personal Hand T PCE                         </td><td>  68.00                                                </td><td>1 days                                                 </td><td>2013-07                                                </td></tr>\n",
       "\t<tr><td>26500                                                  </td><td>`DEPARTMENT OF EDUCATION                               </td><td>2013-07-03                                             </td><td>2013-07-04                                             </td><td>WAL-MART #2804                                         </td><td>GROCERY STORES,AND SUPERMARKETS                        </td><td>GENERAL PURCHASE                                       </td><td>  82.28                                                </td><td>1 days                                                 </td><td>2013-07                                                </td></tr>\n",
       "\t<tr><td>26500                                                  </td><td>`DEPARTMENT OF EDUCATION                               </td><td>2013-07-03                                             </td><td>2013-07-04                                             </td><td>WAL-MART #2804                                         </td><td>GROCERY STORES,AND SUPERMARKETS                        </td><td>GENERAL PURCHASE                                       </td><td>  -2.58                                                </td><td>1 days                                                 </td><td>2013-07                                                </td></tr>\n",
       "\t<tr><td>26500                                                  </td><td>`DEPARTMENT OF EDUCATION                               </td><td>2013-07-03                                             </td><td>2013-07-04                                             </td><td>TECH-LOCK INC                                          </td><td>BUSINESS SERVICES NOT ELSEWHERE CLASSIFIED             </td><td>GENERAL PURCHASE                                       </td><td>   9.50                                                </td><td>1 days                                                 </td><td>2013-07                                                </td></tr>\n",
       "\t<tr><td>26500                                                  </td><td>`DEPARTMENT OF EDUCATION                               </td><td>2013-07-03                                             </td><td>2013-07-04                                             </td><td>JOURNYHSE   HUGHES                                     </td><td>TRAVEL AGENCIES                                        </td><td>GENERAL PURCHASE                                       </td><td>  25.00                                                </td><td>1 days                                                 </td><td>2013-07                                                </td></tr>\n",
       "\t<tr><td>26500                                                  </td><td>`DEPARTMENT OF EDUCATION                               </td><td>2013-07-03                                             </td><td>2013-07-04                                             </td><td>JOURNYHSE   KNIGHT                                     </td><td>TRAVEL AGENCIES                                        </td><td>GENERAL PURCHASE                                       </td><td>  25.00                                                </td><td>1 days                                                 </td><td>2013-07                                                </td></tr>\n",
       "\t<tr><td>26500                                                  </td><td>`DEPARTMENT OF EDUCATION                               </td><td>2013-07-03                                             </td><td>2013-07-04                                             </td><td>JOURNYHSE   HONEYSUCKL                                 </td><td>TRAVEL AGENCIES                                        </td><td>GENERAL PURCHASE                                       </td><td>  25.00                                                </td><td>1 days                                                 </td><td>2013-07                                                </td></tr>\n",
       "\t<tr><td>26500                                                  </td><td>`DEPARTMENT OF EDUCATION                               </td><td>2013-07-03                                             </td><td>2013-07-05                                             </td><td>AMERICAN AI 0017289901645                              </td><td>AMERICAN AIRLINES                                      </td><td>AIR TRAVEL                                             </td><td> 721.60                                                </td><td>2 days                                                 </td><td>2013-07                                                </td></tr>\n",
       "\t<tr><td>26500                                                  </td><td>`DEPARTMENT OF EDUCATION                               </td><td>2013-07-03                                             </td><td>2013-07-05                                             </td><td>AMERICAN AI 0017289901648                              </td><td>AMERICAN AIRLINES                                      </td><td>AIR TRAVEL                                             </td><td> 851.60                                                </td><td>2 days                                                 </td><td>2013-07                                                </td></tr>\n",
       "\t<tr><td>26500                                                  </td><td>`DEPARTMENT OF EDUCATION                               </td><td>2013-07-03                                             </td><td>2013-07-05                                             </td><td>GAYLORD NATIONAL F/D                                   </td><td>GAYLORD OPRYLAND                                       </td><td>GENERAL PURCHASE                                       </td><td> -76.32                                                </td><td>2 days                                                 </td><td>2013-07                                                </td></tr>\n",
       "\t<tr><td>26500                                                  </td><td>`DEPARTMENT OF EDUCATION                               </td><td>2013-07-03                                             </td><td>2013-07-05                                             </td><td>OFFICE DEPOT #1079                                     </td><td>COMBINATION CATALOG AND RETAIL MERCHANT                </td><td>CHAIRMIDBACKLEATHERBL NMB                              </td><td> 179.99                                                </td><td>2 days                                                 </td><td>2013-07                                                </td></tr>\n",
       "\t<tr><td>26500                                                  </td><td>`DEPARTMENT OF EDUCATION                               </td><td>2013-07-03                                             </td><td>2013-07-05                                             </td><td>AMERICAN AI 0017289901722                              </td><td>AMERICAN AIRLINES                                      </td><td>AIR TRAVEL                                             </td><td> 721.60                                                </td><td>2 days                                                 </td><td>2013-07                                                </td></tr>\n",
       "\t<tr><td>26500                                                  </td><td>`DEPARTMENT OF EDUCATION                               </td><td>2013-07-03                                             </td><td>2013-07-09                                             </td><td>TOYS FOR SPECIAL CHILDREN                              </td><td>HOBBY,TOY,AND GAME STORES                              </td><td>GENERAL PURCHASE                                       </td><td>1005.55                                                </td><td>6 days                                                 </td><td>2013-07                                                </td></tr>\n",
       "\t<tr><td>26500                                                  </td><td>`DEPARTMENT OF EDUCATION                               </td><td>2013-07-05                                             </td><td>2013-07-08                                             </td><td>AMERICAN AI 0017290513281                              </td><td>AMERICAN AIRLINES                                      </td><td>AIR TRAVEL                                             </td><td> 620.60                                                </td><td>3 days                                                 </td><td>2013-07                                                </td></tr>\n",
       "\t<tr><td>26500                                                  </td><td>`DEPARTMENT OF EDUCATION                               </td><td>2013-07-05                                             </td><td>2013-07-08                                             </td><td>JOURNYHSE   BLUNDELL                                   </td><td>TRAVEL AGENCIES                                        </td><td>GENERAL PURCHASE                                       </td><td>  25.00                                                </td><td>3 days                                                 </td><td>2013-07                                                </td></tr>\n",
       "\t<tr><td>26500                                                  </td><td>`DEPARTMENT OF EDUCATION                               </td><td>2013-07-08                                             </td><td>2013-07-09                                             </td><td>JOURNYHSE   SHARP                                      </td><td>TRAVEL AGENCIES                                        </td><td>GENERAL PURCHASE                                       </td><td>  25.00                                                </td><td>1 days                                                 </td><td>2013-07                                                </td></tr>\n",
       "\t<tr><td>26500                                                  </td><td>`DEPARTMENT OF EDUCATION                               </td><td>2013-07-08                                             </td><td>2013-07-09                                             </td><td>JOURNYHSE   REEVES                                     </td><td>TRAVEL AGENCIES                                        </td><td>GENERAL PURCHASE                                       </td><td>  25.00                                                </td><td>1 days                                                 </td><td>2013-07                                                </td></tr>\n",
       "\t<tr><td>26500                                                  </td><td>`DEPARTMENT OF EDUCATION                               </td><td>2013-07-08                                             </td><td>2013-07-09                                             </td><td>JOURNYHSE   VALENZUELA                                 </td><td>TRAVEL AGENCIES                                        </td><td>GENERAL PURCHASE                                       </td><td>  25.00                                                </td><td>1 days                                                 </td><td>2013-07                                                </td></tr>\n",
       "\t<tr><td>26500                                                  </td><td>`DEPARTMENT OF EDUCATION                               </td><td>2013-07-08                                             </td><td>2013-07-09                                             </td><td>JOURNYHSE   LOFTIN                                     </td><td>TRAVEL AGENCIES                                        </td><td>GENERAL PURCHASE                                       </td><td>  25.00                                                </td><td>1 days                                                 </td><td>2013-07                                                </td></tr>\n",
       "\t<tr><td>26500                                                  </td><td>`DEPARTMENT OF EDUCATION                               </td><td>2013-07-08                                             </td><td>2013-07-10                                             </td><td>AMERICAN AI 0017290513339                              </td><td>AMERICAN AIRLINES                                      </td><td>AIR TRAVEL                                             </td><td> 721.60                                                </td><td>2 days                                                 </td><td>2013-07                                                </td></tr>\n",
       "\t<tr><td>26500                                                  </td><td>`DEPARTMENT OF EDUCATION                               </td><td>2013-07-08                                             </td><td>2013-07-10                                             </td><td>AMERICAN AI 0017290513361                              </td><td>AMERICAN AIRLINES                                      </td><td>AIR TRAVEL                                             </td><td> 721.60                                                </td><td>2 days                                                 </td><td>2013-07                                                </td></tr>\n",
       "\t<tr><td>26500                                                  </td><td>`DEPARTMENT OF EDUCATION                               </td><td>2013-07-08                                             </td><td>2013-07-10                                             </td><td>AMERICAN AI 0017290513338                              </td><td>AMERICAN AIRLINES                                      </td><td>AIR TRAVEL                                             </td><td> 721.60                                                </td><td>2 days                                                 </td><td>2013-07                                                </td></tr>\n",
       "\t<tr><td>26500                                                  </td><td>`DEPARTMENT OF EDUCATION                               </td><td>2013-07-08                                             </td><td>2013-07-10                                             </td><td>AMERICAN AI 0017290513360                              </td><td>AMERICAN AIRLINES                                      </td><td>AIR TRAVEL                                             </td><td> 721.60                                                </td><td>2 days                                                 </td><td>2013-07                                                </td></tr>\n",
       "\t<tr><td>26500                                                  </td><td>`DEPARTMENT OF EDUCATION                               </td><td>2013-07-09                                             </td><td>2013-07-10                                             </td><td>STAPLES                                                </td><td>STATIONERY, OFFICE SUPPLIES, PRINTING AND WRITING PAPER</td><td>CLEANING PAD CRT SCREEN TW BX                          </td><td>  17.38                                                </td><td>1 days                                                 </td><td>2013-07                                                </td></tr>\n",
       "\t<tr><td>26500                                                  </td><td>`DEPARTMENT OF EDUCATION                               </td><td>2013-07-09                                             </td><td>2013-07-10                                             </td><td>JOURNYHSE   BARRESI                                    </td><td>TRAVEL AGENCIES                                        </td><td>GENERAL PURCHASE                                       </td><td>  25.00                                                </td><td>1 days                                                 </td><td>2013-07                                                </td></tr>\n",
       "\t<tr><td>26500                                                  </td><td>`DEPARTMENT OF EDUCATION                               </td><td>2013-07-09                                             </td><td>2013-07-10                                             </td><td>STAPLES                                                </td><td>STATIONERY, OFFICE SUPPLIES, PRINTING AND WRITING PAPER</td><td>BATTERY ALKALN D 12/PK PK|STAPLES PAD PERF LTR WHI     </td><td>  35.09                                                </td><td>1 days                                                 </td><td>2013-07                                                </td></tr>\n",
       "\t<tr><td>26500                                                  </td><td>`DEPARTMENT OF EDUCATION                               </td><td>2013-07-09                                             </td><td>2013-07-11                                             </td><td>HOBBY LOBBY #124                                       </td><td>HOBBY,TOY,AND GAME STORES                              </td><td>GENERAL PURCHASE                                       </td><td> 114.47                                                </td><td>2 days                                                 </td><td>2013-07                                                </td></tr>\n",
       "\t<tr><td>26500                                                  </td><td>`DEPARTMENT OF EDUCATION                               </td><td>2013-07-09                                             </td><td>2013-07-11                                             </td><td>AMERICAN AI 0017290513398                              </td><td>AMERICAN AIRLINES                                      </td><td>AIR TRAVEL                                             </td><td> 583.60                                                </td><td>2 days                                                 </td><td>2013-07                                                </td></tr>\n",
       "\t<tr><td>...</td><td>...</td><td>...</td><td>...</td><td>...</td><td>...</td><td>...</td><td>...</td><td>...</td><td>...</td></tr>\n",
       "\t<tr><td>88000                                                        </td><td>WILL ROGERS MEMORIAL COMMISSION                              </td><td>2014-03-11                                                   </td><td>2014-03-12                                                   </td><td>AMAZON MKTPLACE PMTS                                         </td><td>BOOK STORES                                                  </td><td>VIZIO E241-A1 24-inch 1080 PCE                               </td><td>225.49                                                       </td><td>1 days                                                       </td><td>2014-03                                                      </td></tr>\n",
       "\t<tr><td>88000                                                        </td><td>WILL ROGERS MEMORIAL COMMISSION                              </td><td>2014-03-11                                                   </td><td>2014-03-12                                                   </td><td>Amazon.com                                                   </td><td>COMPUTER NETWORK/INFORMATION SERVICES                        </td><td>VIZIO E320i-B2 32-Inch 720 PCE                               </td><td>294.74                                                       </td><td>1 days                                                       </td><td>2014-03                                                      </td></tr>\n",
       "\t<tr><td>88000                                                        </td><td>WILL ROGERS MEMORIAL COMMISSION                              </td><td>2014-03-19                                                   </td><td>2014-03-20                                                   </td><td>PRYOR PRINTING INC                                           </td><td>MISCELLANEOUS PUBLISHING AND PRINTING SERVICES               </td><td>GENERAL PURCHASE                                             </td><td>294.89                                                       </td><td>1 days                                                       </td><td>2014-03                                                      </td></tr>\n",
       "\t<tr><td>88000                                                        </td><td>WILL ROGERS MEMORIAL COMMISSION                              </td><td>2014-03-21                                                   </td><td>2014-03-24                                                   </td><td>BACKBLAZE BACKUP                                             </td><td>COMPUTERS, COMPUTER PERIPHERAL EQUIPMENT, SOFTWARE           </td><td>GENERAL PURCHASE                                             </td><td>450.00                                                       </td><td>3 days                                                       </td><td>2014-03                                                      </td></tr>\n",
       "\t<tr><td>88000                                                                                                </td><td>WILL ROGERS MEMORIAL COMMISSION                                                                      </td><td>2014-03-24                                                                                           </td><td>2014-03-24                                                                                           </td><td><span style=white-space:pre-wrap>RACKSPACE EMAIL &amp; APPS   </span>                                </td><td><span style=white-space:pre-wrap>COMPUTER NETWORK/INFORMATION SERVICES                        </span></td><td><span style=white-space:pre-wrap>GENERAL PURCHASE                                  </span>           </td><td>109.00                                                                                               </td><td>0 days                                                                                               </td><td>2014-03                                                                                              </td></tr>\n",
       "\t<tr><td>88000                                                        </td><td>WILL ROGERS MEMORIAL COMMISSION                              </td><td>2014-04-09                                                   </td><td>2014-04-09                                                   </td><td>GOTPRINT.COM                                                 </td><td>MISCELLANEOUS PUBLISHING AND PRINTING SERVICES               </td><td>GENERAL PURCHASE                                             </td><td> 55.29                                                       </td><td>0 days                                                       </td><td>2014-04                                                      </td></tr>\n",
       "\t<tr><td>88000                                                        </td><td>WILL ROGERS MEMORIAL COMMISSION                              </td><td>2014-04-22                                                   </td><td>2014-04-23                                                   </td><td>USPS 39174902033603861                                       </td><td>POSTAGE STAMPS                                               </td><td>GENERAL PURCHASE                                             </td><td> 51.00                                                       </td><td>1 days                                                       </td><td>2014-04                                                      </td></tr>\n",
       "\t<tr><td>88000                                                                                                </td><td>WILL ROGERS MEMORIAL COMMISSION                                                                      </td><td>2014-04-24                                                                                           </td><td>2014-04-24                                                                                           </td><td><span style=white-space:pre-wrap>RACKSPACE EMAIL &amp; APPS   </span>                                </td><td><span style=white-space:pre-wrap>COMPUTER NETWORK/INFORMATION SERVICES                        </span></td><td><span style=white-space:pre-wrap>GENERAL PURCHASE                                  </span>           </td><td>109.00                                                                                               </td><td>0 days                                                                                               </td><td>2014-04                                                                                              </td></tr>\n",
       "\t<tr><td>88000                                                        </td><td>WILL ROGERS MEMORIAL COMMISSION                              </td><td>2014-04-25                                                   </td><td>2014-04-28                                                   </td><td>TULSAWORLD.COM                                               </td><td>BUSINESS SERVICES NOT ELSEWHERE CLASSIFIED                   </td><td>30 DAY JOB POSTING   30 DA                                   </td><td>350.00                                                       </td><td>3 days                                                       </td><td>2014-04                                                      </td></tr>\n",
       "\t<tr><td>88000                                                        </td><td>WILL ROGERS MEMORIAL COMMISSION                              </td><td>2014-04-25                                                   </td><td>2014-04-28                                                   </td><td>JOBTARGET LLC                                                </td><td>EMPLOYMENT AGENCIES AND TEMPORARY HELP SERVICES              </td><td>GENERAL PURCHASE                                             </td><td>250.00                                                       </td><td>3 days                                                       </td><td>2014-04                                                      </td></tr>\n",
       "\t<tr><td>88000                                                        </td><td>WILL ROGERS MEMORIAL COMMISSION                              </td><td>2014-05-01                                                   </td><td>2014-05-05                                                   </td><td>SOUTH CENTRAL INDUSTRIES                                     </td><td>DIRCT MARKETING/DIRCT MARKETERS--NOT ELSEWHERE CLASSIFIED    </td><td>GENERAL PURCHASE                                             </td><td>503.84                                                       </td><td>4 days                                                       </td><td>2014-05                                                      </td></tr>\n",
       "\t<tr><td>88000                                                        </td><td>WILL ROGERS MEMORIAL COMMISSION                              </td><td>2014-05-06                                                   </td><td>2014-05-07                                                   </td><td>AMAZON MKTPLACE PMTS                                         </td><td>BOOK STORES                                                  </td><td>Cutler Hammer BAB3050H 50A PCE                               </td><td>120.98                                                       </td><td>1 days                                                       </td><td>2014-05                                                      </td></tr>\n",
       "\t<tr><td>88000                                                        </td><td>WILL ROGERS MEMORIAL COMMISSION                              </td><td>2014-05-14                                                   </td><td>2014-05-15                                                   </td><td>ADVENTURE AWNINGS AND SIG                                    </td><td>DURABLE GOODS, NOT ELSEWHERE CLASSIFIED                      </td><td>GENERAL PURCHASE                                             </td><td> 40.00                                                       </td><td>1 days                                                       </td><td>2014-05                                                      </td></tr>\n",
       "\t<tr><td>88000                                                        </td><td>WILL ROGERS MEMORIAL COMMISSION                              </td><td>2014-05-15                                                   </td><td>2014-05-16                                                   </td><td>Amazon.com                                                   </td><td>BOOK STORES                                                  </td><td>VIZIO E420i-B0 42-Inch 108 PCE                               </td><td>428.00                                                       </td><td>1 days                                                       </td><td>2014-05                                                      </td></tr>\n",
       "\t<tr><td>88000                                                                                                </td><td>WILL ROGERS MEMORIAL COMMISSION                                                                      </td><td>2014-05-24                                                                                           </td><td>2014-05-26                                                                                           </td><td><span style=white-space:pre-wrap>RACKSPACE EMAIL &amp; APPS   </span>                                </td><td><span style=white-space:pre-wrap>COMPUTER NETWORK/INFORMATION SERVICES                        </span></td><td><span style=white-space:pre-wrap>GENERAL PURCHASE                                  </span>           </td><td>109.00                                                                                               </td><td>2 days                                                                                               </td><td>2014-05                                                                                              </td></tr>\n",
       "\t<tr><td>88000                                                        </td><td>WILL ROGERS MEMORIAL COMMISSION                              </td><td>2014-05-30                                                   </td><td>2014-06-02                                                   </td><td>BUDDY'S GRILL                                                </td><td>EATING PLACES AND RESTAURANTS                                </td><td>GENERAL PURCHASE                                             </td><td>494.00                                                       </td><td>3 days                                                       </td><td>2014-05                                                      </td></tr>\n",
       "\t<tr><td>88000                                                                                                </td><td>WILL ROGERS MEMORIAL COMMISSION                                                                      </td><td>2014-06-24                                                                                           </td><td>2014-06-24                                                                                           </td><td><span style=white-space:pre-wrap>RACKSPACE EMAIL &amp; APPS   </span>                                </td><td><span style=white-space:pre-wrap>COMPUTER NETWORK/INFORMATION SERVICES                        </span></td><td><span style=white-space:pre-wrap>GENERAL PURCHASE                                  </span>           </td><td>109.00                                                                                               </td><td>0 days                                                                                               </td><td>2014-06                                                                                              </td></tr>\n",
       "\t<tr><td>88000                                                        </td><td>WILL ROGERS MEMORIAL COMMISSION                              </td><td>2014-06-28                                                   </td><td>2014-06-30                                                   </td><td>ATT BILL PAYMENT                                             </td><td>CABLE, SATELLITE, AND OTHER PAY TELEVISION AND RADIO SERVICES</td><td>132186573 ITM                                                </td><td> 98.00                                                       </td><td>2 days                                                       </td><td>2014-06                                                      </td></tr>\n",
       "\t<tr><td>86500                                                        </td><td>WORKER'S COMP. COMMISSION                                    </td><td>2014-03-12                                                   </td><td>2014-03-14                                                   </td><td>STONECE.COM                                                  </td><td>BUSINESS AND SECRETARIAL SCHOOLS                             </td><td>GENERAL PURCHASE                                             </td><td> 60.00                                                       </td><td>2 days                                                       </td><td>2014-03                                                      </td></tr>\n",
       "\t<tr><td>36900                                                        </td><td>WORKERS COMPENSATION COURT                                   </td><td>2013-07-24                                                   </td><td>2013-07-24                                                   </td><td>DMI  DELL K-12/GOVT                                          </td><td>COMPUTERS, COMPUTER PERIPHERAL EQUIPMENT, SOFTWARE           </td><td>EAR CUSHION FOAM 2 CS351 C PCE|EAR CUSHIONS LTHR 2           </td><td> 41.76                                                       </td><td>0 days                                                       </td><td>2013-07                                                      </td></tr>\n",
       "\t<tr><td>36900                                                        </td><td>WORKERS COMPENSATION COURT                                   </td><td>2013-07-24                                                   </td><td>2013-07-24                                                   </td><td>DMI  DELL K-12/GOVT                                          </td><td>COMPUTERS, COMPUTER PERIPHERAL EQUIPMENT, SOFTWARE           </td><td>American Power Conversion PCE                                </td><td>130.82                                                       </td><td>0 days                                                       </td><td>2013-07                                                      </td></tr>\n",
       "\t<tr><td>36900                                                        </td><td>WORKERS COMPENSATION COURT                                   </td><td>2013-08-02                                                   </td><td>2013-08-05                                                   </td><td>SHI CORP                                                     </td><td>COMPUTERS, COMPUTER PERIPHERAL EQUIPMENT, SOFTWARE           </td><td>GENERAL PURCHASE                                             </td><td>217.00                                                       </td><td>3 days                                                       </td><td>2013-08                                                      </td></tr>\n",
       "\t<tr><td>36900                                                        </td><td>WORKERS COMPENSATION COURT                                   </td><td>2013-08-16                                                   </td><td>2013-08-19                                                   </td><td>DMI  DELL K-12/GOVT                                          </td><td>COMPUTERS, COMPUTER PERIPHERAL EQUIPMENT, SOFTWARE           </td><td>EAR CUSHION FOAM 2 CS351 C PCE|SPAREEAR CUSHIONLEA           </td><td> 83.52                                                       </td><td>3 days                                                       </td><td>2013-08                                                      </td></tr>\n",
       "\t<tr><td>36900                                                        </td><td>WORKERS COMPENSATION COURT                                   </td><td>2013-08-27                                                   </td><td>2013-08-29                                                   </td><td>SHI CORP                                                     </td><td>COMPUTERS, COMPUTER PERIPHERAL EQUIPMENT, SOFTWARE           </td><td>GENERAL PURCHASE                                             </td><td> 87.00                                                       </td><td>2 days                                                       </td><td>2013-08                                                      </td></tr>\n",
       "\t<tr><td>36900                                                        </td><td>WORKERS COMPENSATION COURT                                   </td><td>2013-08-28                                                   </td><td>2013-08-28                                                   </td><td>DMI  DELL K-12/GOVT                                          </td><td>COMPUTERS, COMPUTER PERIPHERAL EQUIPMENT, SOFTWARE           </td><td>Dell Wireless Mouse Blue PCE                                 </td><td>107.95                                                       </td><td>0 days                                                       </td><td>2013-08                                                      </td></tr>\n",
       "\t<tr><td>36900                                                        </td><td>WORKERS COMPENSATION COURT                                   </td><td>2013-09-26                                                   </td><td>2013-09-27                                                   </td><td>CDW GOVERNMENT                                               </td><td>CATALOG MERCHANTS                                            </td><td>KINGSTON 8GB DT 101 GEN PCB                                  </td><td> 31.00                                                       </td><td>1 days                                                       </td><td>2013-09                                                      </td></tr>\n",
       "\t<tr><td>36900                                                        </td><td>WORKERS COMPENSATION COURT                                   </td><td>2013-10-22                                                   </td><td>2013-10-23                                                   </td><td>CDW GOVERNMENT                                               </td><td>CATALOG MERCHANTS                                            </td><td>APC BATTERY UPS SURGE 10 PCB                                 </td><td>195.00                                                       </td><td>1 days                                                       </td><td>2013-10                                                      </td></tr>\n",
       "\t<tr><td>36900                                                        </td><td>WORKERS COMPENSATION COURT                                   </td><td>2014-01-07                                                   </td><td>2014-01-08                                                   </td><td>SHI CORP                                                     </td><td>COMPUTERS, COMPUTER PERIPHERAL EQUIPMENT, SOFTWARE           </td><td>GENERAL PURCHASE                                             </td><td>217.00                                                       </td><td>1 days                                                       </td><td>2014-01                                                      </td></tr>\n",
       "\t<tr><td>36900                                                        </td><td>WORKERS COMPENSATION COURT                                   </td><td>2014-01-08                                                   </td><td>2014-01-09                                                   </td><td>CDW GOVERNMENT                                               </td><td>CATALOG MERCHANTS                                            </td><td>STARTECH 6FT DVI DUAL LI PCB                                 </td><td> 50.00                                                       </td><td>1 days                                                       </td><td>2014-01                                                      </td></tr>\n",
       "\t<tr><td>36900                                                        </td><td>WORKERS COMPENSATION COURT                                   </td><td>2014-01-27                                                   </td><td>2014-01-28                                                   </td><td>SYNERGY DATACOM SUPPLY                                       </td><td>TELECOMMUNICATION EQUIPMENT AND TELEPHONE SALES              </td><td>Telecommunication Services EA                                </td><td>324.71                                                       </td><td>1 days                                                       </td><td>2014-01                                                      </td></tr>\n",
       "</tbody>\n",
       "</table>\n"
      ],
      "text/latex": [
       "\\begin{tabular}{r|llllllllll}\n",
       " Agency\\_Number & Agency\\_Name & Transaction\\_Date & Posted\\_Date & Vendor & Merchant\\_Category & Description & Amount & Time & month\\_yr\\\\\n",
       "\\hline\n",
       "\t 26500                                                   & `DEPARTMENT OF EDUCATION                                & 2013-06-29                                              & 2013-07-01                                              & FACEBK  CK7ZD4WK52                                      & ADVERTISING SERVICES                                    & GENERAL PURCHASE                                        &  415.85                                                 & 2 days                                                  & 2013-06                                                \\\\\n",
       "\t 26500                                                   & `DEPARTMENT OF EDUCATION                                & 2013-07-01                                              & 2013-07-01                                              & FACEBK  MB2EF4WL52                                      & ADVERTISING SERVICES                                    & GENERAL PURCHASE                                        &   96.14                                                 & 0 days                                                  & 2013-07                                                \\\\\n",
       "\t 26500                                                   & `DEPARTMENT OF EDUCATION                                & 2013-07-01                                              & 2013-07-02                                              & Amazon.com                                              & BOOK STORES                                             & Magna Cart Personal Hand T PCE                          &   68.00                                                 & 1 days                                                  & 2013-07                                                \\\\\n",
       "\t 26500                                                   & `DEPARTMENT OF EDUCATION                                & 2013-07-03                                              & 2013-07-04                                              & WAL-MART \\#2804                                        & GROCERY STORES,AND SUPERMARKETS                         & GENERAL PURCHASE                                        &   82.28                                                 & 1 days                                                  & 2013-07                                                \\\\\n",
       "\t 26500                                                   & `DEPARTMENT OF EDUCATION                                & 2013-07-03                                              & 2013-07-04                                              & WAL-MART \\#2804                                        & GROCERY STORES,AND SUPERMARKETS                         & GENERAL PURCHASE                                        &   -2.58                                                 & 1 days                                                  & 2013-07                                                \\\\\n",
       "\t 26500                                                   & `DEPARTMENT OF EDUCATION                                & 2013-07-03                                              & 2013-07-04                                              & TECH-LOCK INC                                           & BUSINESS SERVICES NOT ELSEWHERE CLASSIFIED              & GENERAL PURCHASE                                        &    9.50                                                 & 1 days                                                  & 2013-07                                                \\\\\n",
       "\t 26500                                                   & `DEPARTMENT OF EDUCATION                                & 2013-07-03                                              & 2013-07-04                                              & JOURNYHSE   HUGHES                                      & TRAVEL AGENCIES                                         & GENERAL PURCHASE                                        &   25.00                                                 & 1 days                                                  & 2013-07                                                \\\\\n",
       "\t 26500                                                   & `DEPARTMENT OF EDUCATION                                & 2013-07-03                                              & 2013-07-04                                              & JOURNYHSE   KNIGHT                                      & TRAVEL AGENCIES                                         & GENERAL PURCHASE                                        &   25.00                                                 & 1 days                                                  & 2013-07                                                \\\\\n",
       "\t 26500                                                   & `DEPARTMENT OF EDUCATION                                & 2013-07-03                                              & 2013-07-04                                              & JOURNYHSE   HONEYSUCKL                                  & TRAVEL AGENCIES                                         & GENERAL PURCHASE                                        &   25.00                                                 & 1 days                                                  & 2013-07                                                \\\\\n",
       "\t 26500                                                   & `DEPARTMENT OF EDUCATION                                & 2013-07-03                                              & 2013-07-05                                              & AMERICAN AI 0017289901645                               & AMERICAN AIRLINES                                       & AIR TRAVEL                                              &  721.60                                                 & 2 days                                                  & 2013-07                                                \\\\\n",
       "\t 26500                                                   & `DEPARTMENT OF EDUCATION                                & 2013-07-03                                              & 2013-07-05                                              & AMERICAN AI 0017289901648                               & AMERICAN AIRLINES                                       & AIR TRAVEL                                              &  851.60                                                 & 2 days                                                  & 2013-07                                                \\\\\n",
       "\t 26500                                                   & `DEPARTMENT OF EDUCATION                                & 2013-07-03                                              & 2013-07-05                                              & GAYLORD NATIONAL F/D                                    & GAYLORD OPRYLAND                                        & GENERAL PURCHASE                                        &  -76.32                                                 & 2 days                                                  & 2013-07                                                \\\\\n",
       "\t 26500                                                   & `DEPARTMENT OF EDUCATION                                & 2013-07-03                                              & 2013-07-05                                              & OFFICE DEPOT \\#1079                                    & COMBINATION CATALOG AND RETAIL MERCHANT                 & CHAIRMIDBACKLEATHERBL NMB                               &  179.99                                                 & 2 days                                                  & 2013-07                                                \\\\\n",
       "\t 26500                                                   & `DEPARTMENT OF EDUCATION                                & 2013-07-03                                              & 2013-07-05                                              & AMERICAN AI 0017289901722                               & AMERICAN AIRLINES                                       & AIR TRAVEL                                              &  721.60                                                 & 2 days                                                  & 2013-07                                                \\\\\n",
       "\t 26500                                                   & `DEPARTMENT OF EDUCATION                                & 2013-07-03                                              & 2013-07-09                                              & TOYS FOR SPECIAL CHILDREN                               & HOBBY,TOY,AND GAME STORES                               & GENERAL PURCHASE                                        & 1005.55                                                 & 6 days                                                  & 2013-07                                                \\\\\n",
       "\t 26500                                                   & `DEPARTMENT OF EDUCATION                                & 2013-07-05                                              & 2013-07-08                                              & AMERICAN AI 0017290513281                               & AMERICAN AIRLINES                                       & AIR TRAVEL                                              &  620.60                                                 & 3 days                                                  & 2013-07                                                \\\\\n",
       "\t 26500                                                   & `DEPARTMENT OF EDUCATION                                & 2013-07-05                                              & 2013-07-08                                              & JOURNYHSE   BLUNDELL                                    & TRAVEL AGENCIES                                         & GENERAL PURCHASE                                        &   25.00                                                 & 3 days                                                  & 2013-07                                                \\\\\n",
       "\t 26500                                                   & `DEPARTMENT OF EDUCATION                                & 2013-07-08                                              & 2013-07-09                                              & JOURNYHSE   SHARP                                       & TRAVEL AGENCIES                                         & GENERAL PURCHASE                                        &   25.00                                                 & 1 days                                                  & 2013-07                                                \\\\\n",
       "\t 26500                                                   & `DEPARTMENT OF EDUCATION                                & 2013-07-08                                              & 2013-07-09                                              & JOURNYHSE   REEVES                                      & TRAVEL AGENCIES                                         & GENERAL PURCHASE                                        &   25.00                                                 & 1 days                                                  & 2013-07                                                \\\\\n",
       "\t 26500                                                   & `DEPARTMENT OF EDUCATION                                & 2013-07-08                                              & 2013-07-09                                              & JOURNYHSE   VALENZUELA                                  & TRAVEL AGENCIES                                         & GENERAL PURCHASE                                        &   25.00                                                 & 1 days                                                  & 2013-07                                                \\\\\n",
       "\t 26500                                                   & `DEPARTMENT OF EDUCATION                                & 2013-07-08                                              & 2013-07-09                                              & JOURNYHSE   LOFTIN                                      & TRAVEL AGENCIES                                         & GENERAL PURCHASE                                        &   25.00                                                 & 1 days                                                  & 2013-07                                                \\\\\n",
       "\t 26500                                                   & `DEPARTMENT OF EDUCATION                                & 2013-07-08                                              & 2013-07-10                                              & AMERICAN AI 0017290513339                               & AMERICAN AIRLINES                                       & AIR TRAVEL                                              &  721.60                                                 & 2 days                                                  & 2013-07                                                \\\\\n",
       "\t 26500                                                   & `DEPARTMENT OF EDUCATION                                & 2013-07-08                                              & 2013-07-10                                              & AMERICAN AI 0017290513361                               & AMERICAN AIRLINES                                       & AIR TRAVEL                                              &  721.60                                                 & 2 days                                                  & 2013-07                                                \\\\\n",
       "\t 26500                                                   & `DEPARTMENT OF EDUCATION                                & 2013-07-08                                              & 2013-07-10                                              & AMERICAN AI 0017290513338                               & AMERICAN AIRLINES                                       & AIR TRAVEL                                              &  721.60                                                 & 2 days                                                  & 2013-07                                                \\\\\n",
       "\t 26500                                                   & `DEPARTMENT OF EDUCATION                                & 2013-07-08                                              & 2013-07-10                                              & AMERICAN AI 0017290513360                               & AMERICAN AIRLINES                                       & AIR TRAVEL                                              &  721.60                                                 & 2 days                                                  & 2013-07                                                \\\\\n",
       "\t 26500                                                   & `DEPARTMENT OF EDUCATION                                & 2013-07-09                                              & 2013-07-10                                              & STAPLES                                                 & STATIONERY, OFFICE SUPPLIES, PRINTING AND WRITING PAPER & CLEANING PAD CRT SCREEN TW BX                           &   17.38                                                 & 1 days                                                  & 2013-07                                                \\\\\n",
       "\t 26500                                                   & `DEPARTMENT OF EDUCATION                                & 2013-07-09                                              & 2013-07-10                                              & JOURNYHSE   BARRESI                                     & TRAVEL AGENCIES                                         & GENERAL PURCHASE                                        &   25.00                                                 & 1 days                                                  & 2013-07                                                \\\\\n",
       "\t 26500                                                        & `DEPARTMENT OF EDUCATION                                     & 2013-07-09                                                   & 2013-07-10                                                   & STAPLES                                                      & STATIONERY, OFFICE SUPPLIES, PRINTING AND WRITING PAPER      & BATTERY ALKALN D 12/PK PK\\textbar{}STAPLES PAD PERF LTR WHI &   35.09                                                      & 1 days                                                       & 2013-07                                                     \\\\\n",
       "\t 26500                                                   & `DEPARTMENT OF EDUCATION                                & 2013-07-09                                              & 2013-07-11                                              & HOBBY LOBBY \\#124                                      & HOBBY,TOY,AND GAME STORES                               & GENERAL PURCHASE                                        &  114.47                                                 & 2 days                                                  & 2013-07                                                \\\\\n",
       "\t 26500                                                   & `DEPARTMENT OF EDUCATION                                & 2013-07-09                                              & 2013-07-11                                              & AMERICAN AI 0017290513398                               & AMERICAN AIRLINES                                       & AIR TRAVEL                                              &  583.60                                                 & 2 days                                                  & 2013-07                                                \\\\\n",
       "\t ... & ... & ... & ... & ... & ... & ... & ... & ... & ...\\\\\n",
       "\t 88000                                                         & WILL ROGERS MEMORIAL COMMISSION                               & 2014-03-11                                                    & 2014-03-12                                                    & AMAZON MKTPLACE PMTS                                          & BOOK STORES                                                   & VIZIO E241-A1 24-inch 1080 PCE                                & 225.49                                                        & 1 days                                                        & 2014-03                                                      \\\\\n",
       "\t 88000                                                         & WILL ROGERS MEMORIAL COMMISSION                               & 2014-03-11                                                    & 2014-03-12                                                    & Amazon.com                                                    & COMPUTER NETWORK/INFORMATION SERVICES                         & VIZIO E320i-B2 32-Inch 720 PCE                                & 294.74                                                        & 1 days                                                        & 2014-03                                                      \\\\\n",
       "\t 88000                                                         & WILL ROGERS MEMORIAL COMMISSION                               & 2014-03-19                                                    & 2014-03-20                                                    & PRYOR PRINTING INC                                            & MISCELLANEOUS PUBLISHING AND PRINTING SERVICES                & GENERAL PURCHASE                                              & 294.89                                                        & 1 days                                                        & 2014-03                                                      \\\\\n",
       "\t 88000                                                         & WILL ROGERS MEMORIAL COMMISSION                               & 2014-03-21                                                    & 2014-03-24                                                    & BACKBLAZE BACKUP                                              & COMPUTERS, COMPUTER PERIPHERAL EQUIPMENT, SOFTWARE            & GENERAL PURCHASE                                              & 450.00                                                        & 3 days                                                        & 2014-03                                                      \\\\\n",
       "\t 88000                                                         & WILL ROGERS MEMORIAL COMMISSION                               & 2014-03-24                                                    & 2014-03-24                                                    & RACKSPACE EMAIL \\& APPS                                      & COMPUTER NETWORK/INFORMATION SERVICES                         & GENERAL PURCHASE                                              & 109.00                                                        & 0 days                                                        & 2014-03                                                      \\\\\n",
       "\t 88000                                                         & WILL ROGERS MEMORIAL COMMISSION                               & 2014-04-09                                                    & 2014-04-09                                                    & GOTPRINT.COM                                                  & MISCELLANEOUS PUBLISHING AND PRINTING SERVICES                & GENERAL PURCHASE                                              &  55.29                                                        & 0 days                                                        & 2014-04                                                      \\\\\n",
       "\t 88000                                                         & WILL ROGERS MEMORIAL COMMISSION                               & 2014-04-22                                                    & 2014-04-23                                                    & USPS 39174902033603861                                        & POSTAGE STAMPS                                                & GENERAL PURCHASE                                              &  51.00                                                        & 1 days                                                        & 2014-04                                                      \\\\\n",
       "\t 88000                                                         & WILL ROGERS MEMORIAL COMMISSION                               & 2014-04-24                                                    & 2014-04-24                                                    & RACKSPACE EMAIL \\& APPS                                      & COMPUTER NETWORK/INFORMATION SERVICES                         & GENERAL PURCHASE                                              & 109.00                                                        & 0 days                                                        & 2014-04                                                      \\\\\n",
       "\t 88000                                                         & WILL ROGERS MEMORIAL COMMISSION                               & 2014-04-25                                                    & 2014-04-28                                                    & TULSAWORLD.COM                                                & BUSINESS SERVICES NOT ELSEWHERE CLASSIFIED                    & 30 DAY JOB POSTING   30 DA                                    & 350.00                                                        & 3 days                                                        & 2014-04                                                      \\\\\n",
       "\t 88000                                                         & WILL ROGERS MEMORIAL COMMISSION                               & 2014-04-25                                                    & 2014-04-28                                                    & JOBTARGET LLC                                                 & EMPLOYMENT AGENCIES AND TEMPORARY HELP SERVICES               & GENERAL PURCHASE                                              & 250.00                                                        & 3 days                                                        & 2014-04                                                      \\\\\n",
       "\t 88000                                                         & WILL ROGERS MEMORIAL COMMISSION                               & 2014-05-01                                                    & 2014-05-05                                                    & SOUTH CENTRAL INDUSTRIES                                      & DIRCT MARKETING/DIRCT MARKETERS--NOT ELSEWHERE CLASSIFIED     & GENERAL PURCHASE                                              & 503.84                                                        & 4 days                                                        & 2014-05                                                      \\\\\n",
       "\t 88000                                                         & WILL ROGERS MEMORIAL COMMISSION                               & 2014-05-06                                                    & 2014-05-07                                                    & AMAZON MKTPLACE PMTS                                          & BOOK STORES                                                   & Cutler Hammer BAB3050H 50A PCE                                & 120.98                                                        & 1 days                                                        & 2014-05                                                      \\\\\n",
       "\t 88000                                                         & WILL ROGERS MEMORIAL COMMISSION                               & 2014-05-14                                                    & 2014-05-15                                                    & ADVENTURE AWNINGS AND SIG                                     & DURABLE GOODS, NOT ELSEWHERE CLASSIFIED                       & GENERAL PURCHASE                                              &  40.00                                                        & 1 days                                                        & 2014-05                                                      \\\\\n",
       "\t 88000                                                         & WILL ROGERS MEMORIAL COMMISSION                               & 2014-05-15                                                    & 2014-05-16                                                    & Amazon.com                                                    & BOOK STORES                                                   & VIZIO E420i-B0 42-Inch 108 PCE                                & 428.00                                                        & 1 days                                                        & 2014-05                                                      \\\\\n",
       "\t 88000                                                         & WILL ROGERS MEMORIAL COMMISSION                               & 2014-05-24                                                    & 2014-05-26                                                    & RACKSPACE EMAIL \\& APPS                                      & COMPUTER NETWORK/INFORMATION SERVICES                         & GENERAL PURCHASE                                              & 109.00                                                        & 2 days                                                        & 2014-05                                                      \\\\\n",
       "\t 88000                                                         & WILL ROGERS MEMORIAL COMMISSION                               & 2014-05-30                                                    & 2014-06-02                                                    & BUDDY'S GRILL                                                 & EATING PLACES AND RESTAURANTS                                 & GENERAL PURCHASE                                              & 494.00                                                        & 3 days                                                        & 2014-05                                                      \\\\\n",
       "\t 88000                                                         & WILL ROGERS MEMORIAL COMMISSION                               & 2014-06-24                                                    & 2014-06-24                                                    & RACKSPACE EMAIL \\& APPS                                      & COMPUTER NETWORK/INFORMATION SERVICES                         & GENERAL PURCHASE                                              & 109.00                                                        & 0 days                                                        & 2014-06                                                      \\\\\n",
       "\t 88000                                                         & WILL ROGERS MEMORIAL COMMISSION                               & 2014-06-28                                                    & 2014-06-30                                                    & ATT BILL PAYMENT                                              & CABLE, SATELLITE, AND OTHER PAY TELEVISION AND RADIO SERVICES & 132186573 ITM                                                 &  98.00                                                        & 2 days                                                        & 2014-06                                                      \\\\\n",
       "\t 86500                                                         & WORKER'S COMP. COMMISSION                                     & 2014-03-12                                                    & 2014-03-14                                                    & STONECE.COM                                                   & BUSINESS AND SECRETARIAL SCHOOLS                              & GENERAL PURCHASE                                              &  60.00                                                        & 2 days                                                        & 2014-03                                                      \\\\\n",
       "\t 36900                                                         & WORKERS COMPENSATION COURT                                    & 2013-07-24                                                    & 2013-07-24                                                    & DMI  DELL K-12/GOVT                                           & COMPUTERS, COMPUTER PERIPHERAL EQUIPMENT, SOFTWARE            & EAR CUSHION FOAM 2 CS351 C PCE\\textbar{}EAR CUSHIONS LTHR 2  &  41.76                                                        & 0 days                                                        & 2013-07                                                      \\\\\n",
       "\t 36900                                                         & WORKERS COMPENSATION COURT                                    & 2013-07-24                                                    & 2013-07-24                                                    & DMI  DELL K-12/GOVT                                           & COMPUTERS, COMPUTER PERIPHERAL EQUIPMENT, SOFTWARE            & American Power Conversion PCE                                 & 130.82                                                        & 0 days                                                        & 2013-07                                                      \\\\\n",
       "\t 36900                                                         & WORKERS COMPENSATION COURT                                    & 2013-08-02                                                    & 2013-08-05                                                    & SHI CORP                                                      & COMPUTERS, COMPUTER PERIPHERAL EQUIPMENT, SOFTWARE            & GENERAL PURCHASE                                              & 217.00                                                        & 3 days                                                        & 2013-08                                                      \\\\\n",
       "\t 36900                                                         & WORKERS COMPENSATION COURT                                    & 2013-08-16                                                    & 2013-08-19                                                    & DMI  DELL K-12/GOVT                                           & COMPUTERS, COMPUTER PERIPHERAL EQUIPMENT, SOFTWARE            & EAR CUSHION FOAM 2 CS351 C PCE\\textbar{}SPAREEAR CUSHIONLEA  &  83.52                                                        & 3 days                                                        & 2013-08                                                      \\\\\n",
       "\t 36900                                                         & WORKERS COMPENSATION COURT                                    & 2013-08-27                                                    & 2013-08-29                                                    & SHI CORP                                                      & COMPUTERS, COMPUTER PERIPHERAL EQUIPMENT, SOFTWARE            & GENERAL PURCHASE                                              &  87.00                                                        & 2 days                                                        & 2013-08                                                      \\\\\n",
       "\t 36900                                                         & WORKERS COMPENSATION COURT                                    & 2013-08-28                                                    & 2013-08-28                                                    & DMI  DELL K-12/GOVT                                           & COMPUTERS, COMPUTER PERIPHERAL EQUIPMENT, SOFTWARE            & Dell Wireless Mouse Blue PCE                                  & 107.95                                                        & 0 days                                                        & 2013-08                                                      \\\\\n",
       "\t 36900                                                         & WORKERS COMPENSATION COURT                                    & 2013-09-26                                                    & 2013-09-27                                                    & CDW GOVERNMENT                                                & CATALOG MERCHANTS                                             & KINGSTON 8GB DT 101 GEN PCB                                   &  31.00                                                        & 1 days                                                        & 2013-09                                                      \\\\\n",
       "\t 36900                                                         & WORKERS COMPENSATION COURT                                    & 2013-10-22                                                    & 2013-10-23                                                    & CDW GOVERNMENT                                                & CATALOG MERCHANTS                                             & APC BATTERY UPS SURGE 10 PCB                                  & 195.00                                                        & 1 days                                                        & 2013-10                                                      \\\\\n",
       "\t 36900                                                         & WORKERS COMPENSATION COURT                                    & 2014-01-07                                                    & 2014-01-08                                                    & SHI CORP                                                      & COMPUTERS, COMPUTER PERIPHERAL EQUIPMENT, SOFTWARE            & GENERAL PURCHASE                                              & 217.00                                                        & 1 days                                                        & 2014-01                                                      \\\\\n",
       "\t 36900                                                         & WORKERS COMPENSATION COURT                                    & 2014-01-08                                                    & 2014-01-09                                                    & CDW GOVERNMENT                                                & CATALOG MERCHANTS                                             & STARTECH 6FT DVI DUAL LI PCB                                  &  50.00                                                        & 1 days                                                        & 2014-01                                                      \\\\\n",
       "\t 36900                                                         & WORKERS COMPENSATION COURT                                    & 2014-01-27                                                    & 2014-01-28                                                    & SYNERGY DATACOM SUPPLY                                        & TELECOMMUNICATION EQUIPMENT AND TELEPHONE SALES               & Telecommunication Services EA                                 & 324.71                                                        & 1 days                                                        & 2014-01                                                      \\\\\n",
       "\\end{tabular}\n"
      ],
      "text/markdown": [
       "\n",
       "| Agency_Number | Agency_Name | Transaction_Date | Posted_Date | Vendor | Merchant_Category | Description | Amount | Time | month_yr |\n",
       "|---|---|---|---|---|---|---|---|---|---|\n",
       "| 26500                                                   | `DEPARTMENT OF EDUCATION                                | 2013-06-29                                              | 2013-07-01                                              | FACEBK  CK7ZD4WK52                                      | ADVERTISING SERVICES                                    | GENERAL PURCHASE                                        |  415.85                                                 | 2 days                                                  | 2013-06                                                 |\n",
       "| 26500                                                   | `DEPARTMENT OF EDUCATION                                | 2013-07-01                                              | 2013-07-01                                              | FACEBK  MB2EF4WL52                                      | ADVERTISING SERVICES                                    | GENERAL PURCHASE                                        |   96.14                                                 | 0 days                                                  | 2013-07                                                 |\n",
       "| 26500                                                   | `DEPARTMENT OF EDUCATION                                | 2013-07-01                                              | 2013-07-02                                              | Amazon.com                                              | BOOK STORES                                             | Magna Cart Personal Hand T PCE                          |   68.00                                                 | 1 days                                                  | 2013-07                                                 |\n",
       "| 26500                                                   | `DEPARTMENT OF EDUCATION                                | 2013-07-03                                              | 2013-07-04                                              | WAL-MART #2804                                          | GROCERY STORES,AND SUPERMARKETS                         | GENERAL PURCHASE                                        |   82.28                                                 | 1 days                                                  | 2013-07                                                 |\n",
       "| 26500                                                   | `DEPARTMENT OF EDUCATION                                | 2013-07-03                                              | 2013-07-04                                              | WAL-MART #2804                                          | GROCERY STORES,AND SUPERMARKETS                         | GENERAL PURCHASE                                        |   -2.58                                                 | 1 days                                                  | 2013-07                                                 |\n",
       "| 26500                                                   | `DEPARTMENT OF EDUCATION                                | 2013-07-03                                              | 2013-07-04                                              | TECH-LOCK INC                                           | BUSINESS SERVICES NOT ELSEWHERE CLASSIFIED              | GENERAL PURCHASE                                        |    9.50                                                 | 1 days                                                  | 2013-07                                                 |\n",
       "| 26500                                                   | `DEPARTMENT OF EDUCATION                                | 2013-07-03                                              | 2013-07-04                                              | JOURNYHSE   HUGHES                                      | TRAVEL AGENCIES                                         | GENERAL PURCHASE                                        |   25.00                                                 | 1 days                                                  | 2013-07                                                 |\n",
       "| 26500                                                   | `DEPARTMENT OF EDUCATION                                | 2013-07-03                                              | 2013-07-04                                              | JOURNYHSE   KNIGHT                                      | TRAVEL AGENCIES                                         | GENERAL PURCHASE                                        |   25.00                                                 | 1 days                                                  | 2013-07                                                 |\n",
       "| 26500                                                   | `DEPARTMENT OF EDUCATION                                | 2013-07-03                                              | 2013-07-04                                              | JOURNYHSE   HONEYSUCKL                                  | TRAVEL AGENCIES                                         | GENERAL PURCHASE                                        |   25.00                                                 | 1 days                                                  | 2013-07                                                 |\n",
       "| 26500                                                   | `DEPARTMENT OF EDUCATION                                | 2013-07-03                                              | 2013-07-05                                              | AMERICAN AI 0017289901645                               | AMERICAN AIRLINES                                       | AIR TRAVEL                                              |  721.60                                                 | 2 days                                                  | 2013-07                                                 |\n",
       "| 26500                                                   | `DEPARTMENT OF EDUCATION                                | 2013-07-03                                              | 2013-07-05                                              | AMERICAN AI 0017289901648                               | AMERICAN AIRLINES                                       | AIR TRAVEL                                              |  851.60                                                 | 2 days                                                  | 2013-07                                                 |\n",
       "| 26500                                                   | `DEPARTMENT OF EDUCATION                                | 2013-07-03                                              | 2013-07-05                                              | GAYLORD NATIONAL F/D                                    | GAYLORD OPRYLAND                                        | GENERAL PURCHASE                                        |  -76.32                                                 | 2 days                                                  | 2013-07                                                 |\n",
       "| 26500                                                   | `DEPARTMENT OF EDUCATION                                | 2013-07-03                                              | 2013-07-05                                              | OFFICE DEPOT #1079                                      | COMBINATION CATALOG AND RETAIL MERCHANT                 | CHAIRMIDBACKLEATHERBL NMB                               |  179.99                                                 | 2 days                                                  | 2013-07                                                 |\n",
       "| 26500                                                   | `DEPARTMENT OF EDUCATION                                | 2013-07-03                                              | 2013-07-05                                              | AMERICAN AI 0017289901722                               | AMERICAN AIRLINES                                       | AIR TRAVEL                                              |  721.60                                                 | 2 days                                                  | 2013-07                                                 |\n",
       "| 26500                                                   | `DEPARTMENT OF EDUCATION                                | 2013-07-03                                              | 2013-07-09                                              | TOYS FOR SPECIAL CHILDREN                               | HOBBY,TOY,AND GAME STORES                               | GENERAL PURCHASE                                        | 1005.55                                                 | 6 days                                                  | 2013-07                                                 |\n",
       "| 26500                                                   | `DEPARTMENT OF EDUCATION                                | 2013-07-05                                              | 2013-07-08                                              | AMERICAN AI 0017290513281                               | AMERICAN AIRLINES                                       | AIR TRAVEL                                              |  620.60                                                 | 3 days                                                  | 2013-07                                                 |\n",
       "| 26500                                                   | `DEPARTMENT OF EDUCATION                                | 2013-07-05                                              | 2013-07-08                                              | JOURNYHSE   BLUNDELL                                    | TRAVEL AGENCIES                                         | GENERAL PURCHASE                                        |   25.00                                                 | 3 days                                                  | 2013-07                                                 |\n",
       "| 26500                                                   | `DEPARTMENT OF EDUCATION                                | 2013-07-08                                              | 2013-07-09                                              | JOURNYHSE   SHARP                                       | TRAVEL AGENCIES                                         | GENERAL PURCHASE                                        |   25.00                                                 | 1 days                                                  | 2013-07                                                 |\n",
       "| 26500                                                   | `DEPARTMENT OF EDUCATION                                | 2013-07-08                                              | 2013-07-09                                              | JOURNYHSE   REEVES                                      | TRAVEL AGENCIES                                         | GENERAL PURCHASE                                        |   25.00                                                 | 1 days                                                  | 2013-07                                                 |\n",
       "| 26500                                                   | `DEPARTMENT OF EDUCATION                                | 2013-07-08                                              | 2013-07-09                                              | JOURNYHSE   VALENZUELA                                  | TRAVEL AGENCIES                                         | GENERAL PURCHASE                                        |   25.00                                                 | 1 days                                                  | 2013-07                                                 |\n",
       "| 26500                                                   | `DEPARTMENT OF EDUCATION                                | 2013-07-08                                              | 2013-07-09                                              | JOURNYHSE   LOFTIN                                      | TRAVEL AGENCIES                                         | GENERAL PURCHASE                                        |   25.00                                                 | 1 days                                                  | 2013-07                                                 |\n",
       "| 26500                                                   | `DEPARTMENT OF EDUCATION                                | 2013-07-08                                              | 2013-07-10                                              | AMERICAN AI 0017290513339                               | AMERICAN AIRLINES                                       | AIR TRAVEL                                              |  721.60                                                 | 2 days                                                  | 2013-07                                                 |\n",
       "| 26500                                                   | `DEPARTMENT OF EDUCATION                                | 2013-07-08                                              | 2013-07-10                                              | AMERICAN AI 0017290513361                               | AMERICAN AIRLINES                                       | AIR TRAVEL                                              |  721.60                                                 | 2 days                                                  | 2013-07                                                 |\n",
       "| 26500                                                   | `DEPARTMENT OF EDUCATION                                | 2013-07-08                                              | 2013-07-10                                              | AMERICAN AI 0017290513338                               | AMERICAN AIRLINES                                       | AIR TRAVEL                                              |  721.60                                                 | 2 days                                                  | 2013-07                                                 |\n",
       "| 26500                                                   | `DEPARTMENT OF EDUCATION                                | 2013-07-08                                              | 2013-07-10                                              | AMERICAN AI 0017290513360                               | AMERICAN AIRLINES                                       | AIR TRAVEL                                              |  721.60                                                 | 2 days                                                  | 2013-07                                                 |\n",
       "| 26500                                                   | `DEPARTMENT OF EDUCATION                                | 2013-07-09                                              | 2013-07-10                                              | STAPLES                                                 | STATIONERY, OFFICE SUPPLIES, PRINTING AND WRITING PAPER | CLEANING PAD CRT SCREEN TW BX                           |   17.38                                                 | 1 days                                                  | 2013-07                                                 |\n",
       "| 26500                                                   | `DEPARTMENT OF EDUCATION                                | 2013-07-09                                              | 2013-07-10                                              | JOURNYHSE   BARRESI                                     | TRAVEL AGENCIES                                         | GENERAL PURCHASE                                        |   25.00                                                 | 1 days                                                  | 2013-07                                                 |\n",
       "| 26500                                                   | `DEPARTMENT OF EDUCATION                                | 2013-07-09                                              | 2013-07-10                                              | STAPLES                                                 | STATIONERY, OFFICE SUPPLIES, PRINTING AND WRITING PAPER | BATTERY ALKALN D 12/PK PK|STAPLES PAD PERF LTR WHI      |   35.09                                                 | 1 days                                                  | 2013-07                                                 |\n",
       "| 26500                                                   | `DEPARTMENT OF EDUCATION                                | 2013-07-09                                              | 2013-07-11                                              | HOBBY LOBBY #124                                        | HOBBY,TOY,AND GAME STORES                               | GENERAL PURCHASE                                        |  114.47                                                 | 2 days                                                  | 2013-07                                                 |\n",
       "| 26500                                                   | `DEPARTMENT OF EDUCATION                                | 2013-07-09                                              | 2013-07-11                                              | AMERICAN AI 0017290513398                               | AMERICAN AIRLINES                                       | AIR TRAVEL                                              |  583.60                                                 | 2 days                                                  | 2013-07                                                 |\n",
       "| ... | ... | ... | ... | ... | ... | ... | ... | ... | ... |\n",
       "| 88000                                                         | WILL ROGERS MEMORIAL COMMISSION                               | 2014-03-11                                                    | 2014-03-12                                                    | AMAZON MKTPLACE PMTS                                          | BOOK STORES                                                   | VIZIO E241-A1 24-inch 1080 PCE                                | 225.49                                                        | 1 days                                                        | 2014-03                                                       |\n",
       "| 88000                                                         | WILL ROGERS MEMORIAL COMMISSION                               | 2014-03-11                                                    | 2014-03-12                                                    | Amazon.com                                                    | COMPUTER NETWORK/INFORMATION SERVICES                         | VIZIO E320i-B2 32-Inch 720 PCE                                | 294.74                                                        | 1 days                                                        | 2014-03                                                       |\n",
       "| 88000                                                         | WILL ROGERS MEMORIAL COMMISSION                               | 2014-03-19                                                    | 2014-03-20                                                    | PRYOR PRINTING INC                                            | MISCELLANEOUS PUBLISHING AND PRINTING SERVICES                | GENERAL PURCHASE                                              | 294.89                                                        | 1 days                                                        | 2014-03                                                       |\n",
       "| 88000                                                         | WILL ROGERS MEMORIAL COMMISSION                               | 2014-03-21                                                    | 2014-03-24                                                    | BACKBLAZE BACKUP                                              | COMPUTERS, COMPUTER PERIPHERAL EQUIPMENT, SOFTWARE            | GENERAL PURCHASE                                              | 450.00                                                        | 3 days                                                        | 2014-03                                                       |\n",
       "| 88000                                                         | WILL ROGERS MEMORIAL COMMISSION                               | 2014-03-24                                                    | 2014-03-24                                                    | RACKSPACE EMAIL & APPS                                        | COMPUTER NETWORK/INFORMATION SERVICES                         | GENERAL PURCHASE                                              | 109.00                                                        | 0 days                                                        | 2014-03                                                       |\n",
       "| 88000                                                         | WILL ROGERS MEMORIAL COMMISSION                               | 2014-04-09                                                    | 2014-04-09                                                    | GOTPRINT.COM                                                  | MISCELLANEOUS PUBLISHING AND PRINTING SERVICES                | GENERAL PURCHASE                                              |  55.29                                                        | 0 days                                                        | 2014-04                                                       |\n",
       "| 88000                                                         | WILL ROGERS MEMORIAL COMMISSION                               | 2014-04-22                                                    | 2014-04-23                                                    | USPS 39174902033603861                                        | POSTAGE STAMPS                                                | GENERAL PURCHASE                                              |  51.00                                                        | 1 days                                                        | 2014-04                                                       |\n",
       "| 88000                                                         | WILL ROGERS MEMORIAL COMMISSION                               | 2014-04-24                                                    | 2014-04-24                                                    | RACKSPACE EMAIL & APPS                                        | COMPUTER NETWORK/INFORMATION SERVICES                         | GENERAL PURCHASE                                              | 109.00                                                        | 0 days                                                        | 2014-04                                                       |\n",
       "| 88000                                                         | WILL ROGERS MEMORIAL COMMISSION                               | 2014-04-25                                                    | 2014-04-28                                                    | TULSAWORLD.COM                                                | BUSINESS SERVICES NOT ELSEWHERE CLASSIFIED                    | 30 DAY JOB POSTING   30 DA                                    | 350.00                                                        | 3 days                                                        | 2014-04                                                       |\n",
       "| 88000                                                         | WILL ROGERS MEMORIAL COMMISSION                               | 2014-04-25                                                    | 2014-04-28                                                    | JOBTARGET LLC                                                 | EMPLOYMENT AGENCIES AND TEMPORARY HELP SERVICES               | GENERAL PURCHASE                                              | 250.00                                                        | 3 days                                                        | 2014-04                                                       |\n",
       "| 88000                                                         | WILL ROGERS MEMORIAL COMMISSION                               | 2014-05-01                                                    | 2014-05-05                                                    | SOUTH CENTRAL INDUSTRIES                                      | DIRCT MARKETING/DIRCT MARKETERS--NOT ELSEWHERE CLASSIFIED     | GENERAL PURCHASE                                              | 503.84                                                        | 4 days                                                        | 2014-05                                                       |\n",
       "| 88000                                                         | WILL ROGERS MEMORIAL COMMISSION                               | 2014-05-06                                                    | 2014-05-07                                                    | AMAZON MKTPLACE PMTS                                          | BOOK STORES                                                   | Cutler Hammer BAB3050H 50A PCE                                | 120.98                                                        | 1 days                                                        | 2014-05                                                       |\n",
       "| 88000                                                         | WILL ROGERS MEMORIAL COMMISSION                               | 2014-05-14                                                    | 2014-05-15                                                    | ADVENTURE AWNINGS AND SIG                                     | DURABLE GOODS, NOT ELSEWHERE CLASSIFIED                       | GENERAL PURCHASE                                              |  40.00                                                        | 1 days                                                        | 2014-05                                                       |\n",
       "| 88000                                                         | WILL ROGERS MEMORIAL COMMISSION                               | 2014-05-15                                                    | 2014-05-16                                                    | Amazon.com                                                    | BOOK STORES                                                   | VIZIO E420i-B0 42-Inch 108 PCE                                | 428.00                                                        | 1 days                                                        | 2014-05                                                       |\n",
       "| 88000                                                         | WILL ROGERS MEMORIAL COMMISSION                               | 2014-05-24                                                    | 2014-05-26                                                    | RACKSPACE EMAIL & APPS                                        | COMPUTER NETWORK/INFORMATION SERVICES                         | GENERAL PURCHASE                                              | 109.00                                                        | 2 days                                                        | 2014-05                                                       |\n",
       "| 88000                                                         | WILL ROGERS MEMORIAL COMMISSION                               | 2014-05-30                                                    | 2014-06-02                                                    | BUDDY'S GRILL                                                 | EATING PLACES AND RESTAURANTS                                 | GENERAL PURCHASE                                              | 494.00                                                        | 3 days                                                        | 2014-05                                                       |\n",
       "| 88000                                                         | WILL ROGERS MEMORIAL COMMISSION                               | 2014-06-24                                                    | 2014-06-24                                                    | RACKSPACE EMAIL & APPS                                        | COMPUTER NETWORK/INFORMATION SERVICES                         | GENERAL PURCHASE                                              | 109.00                                                        | 0 days                                                        | 2014-06                                                       |\n",
       "| 88000                                                         | WILL ROGERS MEMORIAL COMMISSION                               | 2014-06-28                                                    | 2014-06-30                                                    | ATT BILL PAYMENT                                              | CABLE, SATELLITE, AND OTHER PAY TELEVISION AND RADIO SERVICES | 132186573 ITM                                                 |  98.00                                                        | 2 days                                                        | 2014-06                                                       |\n",
       "| 86500                                                         | WORKER'S COMP. COMMISSION                                     | 2014-03-12                                                    | 2014-03-14                                                    | STONECE.COM                                                   | BUSINESS AND SECRETARIAL SCHOOLS                              | GENERAL PURCHASE                                              |  60.00                                                        | 2 days                                                        | 2014-03                                                       |\n",
       "| 36900                                                         | WORKERS COMPENSATION COURT                                    | 2013-07-24                                                    | 2013-07-24                                                    | DMI  DELL K-12/GOVT                                           | COMPUTERS, COMPUTER PERIPHERAL EQUIPMENT, SOFTWARE            | EAR CUSHION FOAM 2 CS351 C PCE|EAR CUSHIONS LTHR 2            |  41.76                                                        | 0 days                                                        | 2013-07                                                       |\n",
       "| 36900                                                         | WORKERS COMPENSATION COURT                                    | 2013-07-24                                                    | 2013-07-24                                                    | DMI  DELL K-12/GOVT                                           | COMPUTERS, COMPUTER PERIPHERAL EQUIPMENT, SOFTWARE            | American Power Conversion PCE                                 | 130.82                                                        | 0 days                                                        | 2013-07                                                       |\n",
       "| 36900                                                         | WORKERS COMPENSATION COURT                                    | 2013-08-02                                                    | 2013-08-05                                                    | SHI CORP                                                      | COMPUTERS, COMPUTER PERIPHERAL EQUIPMENT, SOFTWARE            | GENERAL PURCHASE                                              | 217.00                                                        | 3 days                                                        | 2013-08                                                       |\n",
       "| 36900                                                         | WORKERS COMPENSATION COURT                                    | 2013-08-16                                                    | 2013-08-19                                                    | DMI  DELL K-12/GOVT                                           | COMPUTERS, COMPUTER PERIPHERAL EQUIPMENT, SOFTWARE            | EAR CUSHION FOAM 2 CS351 C PCE|SPAREEAR CUSHIONLEA            |  83.52                                                        | 3 days                                                        | 2013-08                                                       |\n",
       "| 36900                                                         | WORKERS COMPENSATION COURT                                    | 2013-08-27                                                    | 2013-08-29                                                    | SHI CORP                                                      | COMPUTERS, COMPUTER PERIPHERAL EQUIPMENT, SOFTWARE            | GENERAL PURCHASE                                              |  87.00                                                        | 2 days                                                        | 2013-08                                                       |\n",
       "| 36900                                                         | WORKERS COMPENSATION COURT                                    | 2013-08-28                                                    | 2013-08-28                                                    | DMI  DELL K-12/GOVT                                           | COMPUTERS, COMPUTER PERIPHERAL EQUIPMENT, SOFTWARE            | Dell Wireless Mouse Blue PCE                                  | 107.95                                                        | 0 days                                                        | 2013-08                                                       |\n",
       "| 36900                                                         | WORKERS COMPENSATION COURT                                    | 2013-09-26                                                    | 2013-09-27                                                    | CDW GOVERNMENT                                                | CATALOG MERCHANTS                                             | KINGSTON 8GB DT 101 GEN PCB                                   |  31.00                                                        | 1 days                                                        | 2013-09                                                       |\n",
       "| 36900                                                         | WORKERS COMPENSATION COURT                                    | 2013-10-22                                                    | 2013-10-23                                                    | CDW GOVERNMENT                                                | CATALOG MERCHANTS                                             | APC BATTERY UPS SURGE 10 PCB                                  | 195.00                                                        | 1 days                                                        | 2013-10                                                       |\n",
       "| 36900                                                         | WORKERS COMPENSATION COURT                                    | 2014-01-07                                                    | 2014-01-08                                                    | SHI CORP                                                      | COMPUTERS, COMPUTER PERIPHERAL EQUIPMENT, SOFTWARE            | GENERAL PURCHASE                                              | 217.00                                                        | 1 days                                                        | 2014-01                                                       |\n",
       "| 36900                                                         | WORKERS COMPENSATION COURT                                    | 2014-01-08                                                    | 2014-01-09                                                    | CDW GOVERNMENT                                                | CATALOG MERCHANTS                                             | STARTECH 6FT DVI DUAL LI PCB                                  |  50.00                                                        | 1 days                                                        | 2014-01                                                       |\n",
       "| 36900                                                         | WORKERS COMPENSATION COURT                                    | 2014-01-27                                                    | 2014-01-28                                                    | SYNERGY DATACOM SUPPLY                                        | TELECOMMUNICATION EQUIPMENT AND TELEPHONE SALES               | Telecommunication Services EA                                 | 324.71                                                        | 1 days                                                        | 2014-01                                                       |\n",
       "\n"
      ],
      "text/plain": [
       "       Agency_Number Agency_Name                     Transaction_Date\n",
       "1      26500         `DEPARTMENT OF EDUCATION        2013-06-29      \n",
       "2      26500         `DEPARTMENT OF EDUCATION        2013-07-01      \n",
       "3      26500         `DEPARTMENT OF EDUCATION        2013-07-01      \n",
       "4      26500         `DEPARTMENT OF EDUCATION        2013-07-03      \n",
       "5      26500         `DEPARTMENT OF EDUCATION        2013-07-03      \n",
       "6      26500         `DEPARTMENT OF EDUCATION        2013-07-03      \n",
       "7      26500         `DEPARTMENT OF EDUCATION        2013-07-03      \n",
       "8      26500         `DEPARTMENT OF EDUCATION        2013-07-03      \n",
       "9      26500         `DEPARTMENT OF EDUCATION        2013-07-03      \n",
       "10     26500         `DEPARTMENT OF EDUCATION        2013-07-03      \n",
       "11     26500         `DEPARTMENT OF EDUCATION        2013-07-03      \n",
       "12     26500         `DEPARTMENT OF EDUCATION        2013-07-03      \n",
       "13     26500         `DEPARTMENT OF EDUCATION        2013-07-03      \n",
       "14     26500         `DEPARTMENT OF EDUCATION        2013-07-03      \n",
       "15     26500         `DEPARTMENT OF EDUCATION        2013-07-03      \n",
       "16     26500         `DEPARTMENT OF EDUCATION        2013-07-05      \n",
       "17     26500         `DEPARTMENT OF EDUCATION        2013-07-05      \n",
       "18     26500         `DEPARTMENT OF EDUCATION        2013-07-08      \n",
       "19     26500         `DEPARTMENT OF EDUCATION        2013-07-08      \n",
       "20     26500         `DEPARTMENT OF EDUCATION        2013-07-08      \n",
       "21     26500         `DEPARTMENT OF EDUCATION        2013-07-08      \n",
       "22     26500         `DEPARTMENT OF EDUCATION        2013-07-08      \n",
       "23     26500         `DEPARTMENT OF EDUCATION        2013-07-08      \n",
       "24     26500         `DEPARTMENT OF EDUCATION        2013-07-08      \n",
       "25     26500         `DEPARTMENT OF EDUCATION        2013-07-08      \n",
       "26     26500         `DEPARTMENT OF EDUCATION        2013-07-09      \n",
       "27     26500         `DEPARTMENT OF EDUCATION        2013-07-09      \n",
       "28     26500         `DEPARTMENT OF EDUCATION        2013-07-09      \n",
       "29     26500         `DEPARTMENT OF EDUCATION        2013-07-09      \n",
       "30     26500         `DEPARTMENT OF EDUCATION        2013-07-09      \n",
       "...    ...           ...                             ...             \n",
       "442429 88000         WILL ROGERS MEMORIAL COMMISSION 2014-03-11      \n",
       "442430 88000         WILL ROGERS MEMORIAL COMMISSION 2014-03-11      \n",
       "442431 88000         WILL ROGERS MEMORIAL COMMISSION 2014-03-19      \n",
       "442432 88000         WILL ROGERS MEMORIAL COMMISSION 2014-03-21      \n",
       "442433 88000         WILL ROGERS MEMORIAL COMMISSION 2014-03-24      \n",
       "442434 88000         WILL ROGERS MEMORIAL COMMISSION 2014-04-09      \n",
       "442435 88000         WILL ROGERS MEMORIAL COMMISSION 2014-04-22      \n",
       "442436 88000         WILL ROGERS MEMORIAL COMMISSION 2014-04-24      \n",
       "442437 88000         WILL ROGERS MEMORIAL COMMISSION 2014-04-25      \n",
       "442438 88000         WILL ROGERS MEMORIAL COMMISSION 2014-04-25      \n",
       "442439 88000         WILL ROGERS MEMORIAL COMMISSION 2014-05-01      \n",
       "442440 88000         WILL ROGERS MEMORIAL COMMISSION 2014-05-06      \n",
       "442441 88000         WILL ROGERS MEMORIAL COMMISSION 2014-05-14      \n",
       "442442 88000         WILL ROGERS MEMORIAL COMMISSION 2014-05-15      \n",
       "442443 88000         WILL ROGERS MEMORIAL COMMISSION 2014-05-24      \n",
       "442444 88000         WILL ROGERS MEMORIAL COMMISSION 2014-05-30      \n",
       "442445 88000         WILL ROGERS MEMORIAL COMMISSION 2014-06-24      \n",
       "442446 88000         WILL ROGERS MEMORIAL COMMISSION 2014-06-28      \n",
       "442447 86500         WORKER'S COMP. COMMISSION       2014-03-12      \n",
       "442448 36900         WORKERS COMPENSATION COURT      2013-07-24      \n",
       "442449 36900         WORKERS COMPENSATION COURT      2013-07-24      \n",
       "442450 36900         WORKERS COMPENSATION COURT      2013-08-02      \n",
       "442451 36900         WORKERS COMPENSATION COURT      2013-08-16      \n",
       "442452 36900         WORKERS COMPENSATION COURT      2013-08-27      \n",
       "442453 36900         WORKERS COMPENSATION COURT      2013-08-28      \n",
       "442454 36900         WORKERS COMPENSATION COURT      2013-09-26      \n",
       "442455 36900         WORKERS COMPENSATION COURT      2013-10-22      \n",
       "442456 36900         WORKERS COMPENSATION COURT      2014-01-07      \n",
       "442457 36900         WORKERS COMPENSATION COURT      2014-01-08      \n",
       "442458 36900         WORKERS COMPENSATION COURT      2014-01-27      \n",
       "       Posted_Date Vendor                   \n",
       "1      2013-07-01  FACEBK  CK7ZD4WK52       \n",
       "2      2013-07-01  FACEBK  MB2EF4WL52       \n",
       "3      2013-07-02  Amazon.com               \n",
       "4      2013-07-04  WAL-MART #2804           \n",
       "5      2013-07-04  WAL-MART #2804           \n",
       "6      2013-07-04  TECH-LOCK INC            \n",
       "7      2013-07-04  JOURNYHSE   HUGHES       \n",
       "8      2013-07-04  JOURNYHSE   KNIGHT       \n",
       "9      2013-07-04  JOURNYHSE   HONEYSUCKL   \n",
       "10     2013-07-05  AMERICAN AI 0017289901645\n",
       "11     2013-07-05  AMERICAN AI 0017289901648\n",
       "12     2013-07-05  GAYLORD NATIONAL F/D     \n",
       "13     2013-07-05  OFFICE DEPOT #1079       \n",
       "14     2013-07-05  AMERICAN AI 0017289901722\n",
       "15     2013-07-09  TOYS FOR SPECIAL CHILDREN\n",
       "16     2013-07-08  AMERICAN AI 0017290513281\n",
       "17     2013-07-08  JOURNYHSE   BLUNDELL     \n",
       "18     2013-07-09  JOURNYHSE   SHARP        \n",
       "19     2013-07-09  JOURNYHSE   REEVES       \n",
       "20     2013-07-09  JOURNYHSE   VALENZUELA   \n",
       "21     2013-07-09  JOURNYHSE   LOFTIN       \n",
       "22     2013-07-10  AMERICAN AI 0017290513339\n",
       "23     2013-07-10  AMERICAN AI 0017290513361\n",
       "24     2013-07-10  AMERICAN AI 0017290513338\n",
       "25     2013-07-10  AMERICAN AI 0017290513360\n",
       "26     2013-07-10  STAPLES                  \n",
       "27     2013-07-10  JOURNYHSE   BARRESI      \n",
       "28     2013-07-10  STAPLES                  \n",
       "29     2013-07-11  HOBBY LOBBY #124         \n",
       "30     2013-07-11  AMERICAN AI 0017290513398\n",
       "...    ...         ...                      \n",
       "442429 2014-03-12  AMAZON MKTPLACE PMTS     \n",
       "442430 2014-03-12  Amazon.com               \n",
       "442431 2014-03-20  PRYOR PRINTING INC       \n",
       "442432 2014-03-24  BACKBLAZE BACKUP         \n",
       "442433 2014-03-24  RACKSPACE EMAIL & APPS   \n",
       "442434 2014-04-09  GOTPRINT.COM             \n",
       "442435 2014-04-23  USPS 39174902033603861   \n",
       "442436 2014-04-24  RACKSPACE EMAIL & APPS   \n",
       "442437 2014-04-28  TULSAWORLD.COM           \n",
       "442438 2014-04-28  JOBTARGET LLC            \n",
       "442439 2014-05-05  SOUTH CENTRAL INDUSTRIES \n",
       "442440 2014-05-07  AMAZON MKTPLACE PMTS     \n",
       "442441 2014-05-15  ADVENTURE AWNINGS AND SIG\n",
       "442442 2014-05-16  Amazon.com               \n",
       "442443 2014-05-26  RACKSPACE EMAIL & APPS   \n",
       "442444 2014-06-02  BUDDY'S GRILL            \n",
       "442445 2014-06-24  RACKSPACE EMAIL & APPS   \n",
       "442446 2014-06-30  ATT BILL PAYMENT         \n",
       "442447 2014-03-14  STONECE.COM              \n",
       "442448 2013-07-24  DMI  DELL K-12/GOVT      \n",
       "442449 2013-07-24  DMI  DELL K-12/GOVT      \n",
       "442450 2013-08-05  SHI CORP                 \n",
       "442451 2013-08-19  DMI  DELL K-12/GOVT      \n",
       "442452 2013-08-29  SHI CORP                 \n",
       "442453 2013-08-28  DMI  DELL K-12/GOVT      \n",
       "442454 2013-09-27  CDW GOVERNMENT           \n",
       "442455 2013-10-23  CDW GOVERNMENT           \n",
       "442456 2014-01-08  SHI CORP                 \n",
       "442457 2014-01-09  CDW GOVERNMENT           \n",
       "442458 2014-01-28  SYNERGY DATACOM SUPPLY   \n",
       "       Merchant_Category                                            \n",
       "1      ADVERTISING SERVICES                                         \n",
       "2      ADVERTISING SERVICES                                         \n",
       "3      BOOK STORES                                                  \n",
       "4      GROCERY STORES,AND SUPERMARKETS                              \n",
       "5      GROCERY STORES,AND SUPERMARKETS                              \n",
       "6      BUSINESS SERVICES NOT ELSEWHERE CLASSIFIED                   \n",
       "7      TRAVEL AGENCIES                                              \n",
       "8      TRAVEL AGENCIES                                              \n",
       "9      TRAVEL AGENCIES                                              \n",
       "10     AMERICAN AIRLINES                                            \n",
       "11     AMERICAN AIRLINES                                            \n",
       "12     GAYLORD OPRYLAND                                             \n",
       "13     COMBINATION CATALOG AND RETAIL MERCHANT                      \n",
       "14     AMERICAN AIRLINES                                            \n",
       "15     HOBBY,TOY,AND GAME STORES                                    \n",
       "16     AMERICAN AIRLINES                                            \n",
       "17     TRAVEL AGENCIES                                              \n",
       "18     TRAVEL AGENCIES                                              \n",
       "19     TRAVEL AGENCIES                                              \n",
       "20     TRAVEL AGENCIES                                              \n",
       "21     TRAVEL AGENCIES                                              \n",
       "22     AMERICAN AIRLINES                                            \n",
       "23     AMERICAN AIRLINES                                            \n",
       "24     AMERICAN AIRLINES                                            \n",
       "25     AMERICAN AIRLINES                                            \n",
       "26     STATIONERY, OFFICE SUPPLIES, PRINTING AND WRITING PAPER      \n",
       "27     TRAVEL AGENCIES                                              \n",
       "28     STATIONERY, OFFICE SUPPLIES, PRINTING AND WRITING PAPER      \n",
       "29     HOBBY,TOY,AND GAME STORES                                    \n",
       "30     AMERICAN AIRLINES                                            \n",
       "...    ...                                                          \n",
       "442429 BOOK STORES                                                  \n",
       "442430 COMPUTER NETWORK/INFORMATION SERVICES                        \n",
       "442431 MISCELLANEOUS PUBLISHING AND PRINTING SERVICES               \n",
       "442432 COMPUTERS, COMPUTER PERIPHERAL EQUIPMENT, SOFTWARE           \n",
       "442433 COMPUTER NETWORK/INFORMATION SERVICES                        \n",
       "442434 MISCELLANEOUS PUBLISHING AND PRINTING SERVICES               \n",
       "442435 POSTAGE STAMPS                                               \n",
       "442436 COMPUTER NETWORK/INFORMATION SERVICES                        \n",
       "442437 BUSINESS SERVICES NOT ELSEWHERE CLASSIFIED                   \n",
       "442438 EMPLOYMENT AGENCIES AND TEMPORARY HELP SERVICES              \n",
       "442439 DIRCT MARKETING/DIRCT MARKETERS--NOT ELSEWHERE CLASSIFIED    \n",
       "442440 BOOK STORES                                                  \n",
       "442441 DURABLE GOODS, NOT ELSEWHERE CLASSIFIED                      \n",
       "442442 BOOK STORES                                                  \n",
       "442443 COMPUTER NETWORK/INFORMATION SERVICES                        \n",
       "442444 EATING PLACES AND RESTAURANTS                                \n",
       "442445 COMPUTER NETWORK/INFORMATION SERVICES                        \n",
       "442446 CABLE, SATELLITE, AND OTHER PAY TELEVISION AND RADIO SERVICES\n",
       "442447 BUSINESS AND SECRETARIAL SCHOOLS                             \n",
       "442448 COMPUTERS, COMPUTER PERIPHERAL EQUIPMENT, SOFTWARE           \n",
       "442449 COMPUTERS, COMPUTER PERIPHERAL EQUIPMENT, SOFTWARE           \n",
       "442450 COMPUTERS, COMPUTER PERIPHERAL EQUIPMENT, SOFTWARE           \n",
       "442451 COMPUTERS, COMPUTER PERIPHERAL EQUIPMENT, SOFTWARE           \n",
       "442452 COMPUTERS, COMPUTER PERIPHERAL EQUIPMENT, SOFTWARE           \n",
       "442453 COMPUTERS, COMPUTER PERIPHERAL EQUIPMENT, SOFTWARE           \n",
       "442454 CATALOG MERCHANTS                                            \n",
       "442455 CATALOG MERCHANTS                                            \n",
       "442456 COMPUTERS, COMPUTER PERIPHERAL EQUIPMENT, SOFTWARE           \n",
       "442457 CATALOG MERCHANTS                                            \n",
       "442458 TELECOMMUNICATION EQUIPMENT AND TELEPHONE SALES              \n",
       "       Description                                        Amount  Time  \n",
       "1      GENERAL PURCHASE                                    415.85 2 days\n",
       "2      GENERAL PURCHASE                                     96.14 0 days\n",
       "3      Magna Cart Personal Hand T PCE                       68.00 1 days\n",
       "4      GENERAL PURCHASE                                     82.28 1 days\n",
       "5      GENERAL PURCHASE                                     -2.58 1 days\n",
       "6      GENERAL PURCHASE                                      9.50 1 days\n",
       "7      GENERAL PURCHASE                                     25.00 1 days\n",
       "8      GENERAL PURCHASE                                     25.00 1 days\n",
       "9      GENERAL PURCHASE                                     25.00 1 days\n",
       "10     AIR TRAVEL                                          721.60 2 days\n",
       "11     AIR TRAVEL                                          851.60 2 days\n",
       "12     GENERAL PURCHASE                                    -76.32 2 days\n",
       "13     CHAIRMIDBACKLEATHERBL NMB                           179.99 2 days\n",
       "14     AIR TRAVEL                                          721.60 2 days\n",
       "15     GENERAL PURCHASE                                   1005.55 6 days\n",
       "16     AIR TRAVEL                                          620.60 3 days\n",
       "17     GENERAL PURCHASE                                     25.00 3 days\n",
       "18     GENERAL PURCHASE                                     25.00 1 days\n",
       "19     GENERAL PURCHASE                                     25.00 1 days\n",
       "20     GENERAL PURCHASE                                     25.00 1 days\n",
       "21     GENERAL PURCHASE                                     25.00 1 days\n",
       "22     AIR TRAVEL                                          721.60 2 days\n",
       "23     AIR TRAVEL                                          721.60 2 days\n",
       "24     AIR TRAVEL                                          721.60 2 days\n",
       "25     AIR TRAVEL                                          721.60 2 days\n",
       "26     CLEANING PAD CRT SCREEN TW BX                        17.38 1 days\n",
       "27     GENERAL PURCHASE                                     25.00 1 days\n",
       "28     BATTERY ALKALN D 12/PK PK|STAPLES PAD PERF LTR WHI   35.09 1 days\n",
       "29     GENERAL PURCHASE                                    114.47 2 days\n",
       "30     AIR TRAVEL                                          583.60 2 days\n",
       "...    ...                                                ...     ...   \n",
       "442429 VIZIO E241-A1 24-inch 1080 PCE                     225.49  1 days\n",
       "442430 VIZIO E320i-B2 32-Inch 720 PCE                     294.74  1 days\n",
       "442431 GENERAL PURCHASE                                   294.89  1 days\n",
       "442432 GENERAL PURCHASE                                   450.00  3 days\n",
       "442433 GENERAL PURCHASE                                   109.00  0 days\n",
       "442434 GENERAL PURCHASE                                    55.29  0 days\n",
       "442435 GENERAL PURCHASE                                    51.00  1 days\n",
       "442436 GENERAL PURCHASE                                   109.00  0 days\n",
       "442437 30 DAY JOB POSTING   30 DA                         350.00  3 days\n",
       "442438 GENERAL PURCHASE                                   250.00  3 days\n",
       "442439 GENERAL PURCHASE                                   503.84  4 days\n",
       "442440 Cutler Hammer BAB3050H 50A PCE                     120.98  1 days\n",
       "442441 GENERAL PURCHASE                                    40.00  1 days\n",
       "442442 VIZIO E420i-B0 42-Inch 108 PCE                     428.00  1 days\n",
       "442443 GENERAL PURCHASE                                   109.00  2 days\n",
       "442444 GENERAL PURCHASE                                   494.00  3 days\n",
       "442445 GENERAL PURCHASE                                   109.00  0 days\n",
       "442446 132186573 ITM                                       98.00  2 days\n",
       "442447 GENERAL PURCHASE                                    60.00  2 days\n",
       "442448 EAR CUSHION FOAM 2 CS351 C PCE|EAR CUSHIONS LTHR 2  41.76  0 days\n",
       "442449 American Power Conversion PCE                      130.82  0 days\n",
       "442450 GENERAL PURCHASE                                   217.00  3 days\n",
       "442451 EAR CUSHION FOAM 2 CS351 C PCE|SPAREEAR CUSHIONLEA  83.52  3 days\n",
       "442452 GENERAL PURCHASE                                    87.00  2 days\n",
       "442453 Dell Wireless Mouse Blue PCE                       107.95  0 days\n",
       "442454 KINGSTON 8GB DT 101 GEN PCB                         31.00  1 days\n",
       "442455 APC BATTERY UPS SURGE 10 PCB                       195.00  1 days\n",
       "442456 GENERAL PURCHASE                                   217.00  1 days\n",
       "442457 STARTECH 6FT DVI DUAL LI PCB                        50.00  1 days\n",
       "442458 Telecommunication Services EA                      324.71  1 days\n",
       "       month_yr\n",
       "1      2013-06 \n",
       "2      2013-07 \n",
       "3      2013-07 \n",
       "4      2013-07 \n",
       "5      2013-07 \n",
       "6      2013-07 \n",
       "7      2013-07 \n",
       "8      2013-07 \n",
       "9      2013-07 \n",
       "10     2013-07 \n",
       "11     2013-07 \n",
       "12     2013-07 \n",
       "13     2013-07 \n",
       "14     2013-07 \n",
       "15     2013-07 \n",
       "16     2013-07 \n",
       "17     2013-07 \n",
       "18     2013-07 \n",
       "19     2013-07 \n",
       "20     2013-07 \n",
       "21     2013-07 \n",
       "22     2013-07 \n",
       "23     2013-07 \n",
       "24     2013-07 \n",
       "25     2013-07 \n",
       "26     2013-07 \n",
       "27     2013-07 \n",
       "28     2013-07 \n",
       "29     2013-07 \n",
       "30     2013-07 \n",
       "...    ...     \n",
       "442429 2014-03 \n",
       "442430 2014-03 \n",
       "442431 2014-03 \n",
       "442432 2014-03 \n",
       "442433 2014-03 \n",
       "442434 2014-04 \n",
       "442435 2014-04 \n",
       "442436 2014-04 \n",
       "442437 2014-04 \n",
       "442438 2014-04 \n",
       "442439 2014-05 \n",
       "442440 2014-05 \n",
       "442441 2014-05 \n",
       "442442 2014-05 \n",
       "442443 2014-05 \n",
       "442444 2014-05 \n",
       "442445 2014-06 \n",
       "442446 2014-06 \n",
       "442447 2014-03 \n",
       "442448 2013-07 \n",
       "442449 2013-07 \n",
       "442450 2013-08 \n",
       "442451 2013-08 \n",
       "442452 2013-08 \n",
       "442453 2013-08 \n",
       "442454 2013-09 \n",
       "442455 2013-10 \n",
       "442456 2014-01 \n",
       "442457 2014-01 \n",
       "442458 2014-01 "
      ]
     },
     "metadata": {},
     "output_type": "display_data"
    }
   ],
   "source": [
    "time_by_agency <- ccard %>% group_by(Agency_Name) %>%\n",
    "    mutate(Transaction_Date=as.Date(Transaction_Date,format=\"%m/%d/%Y %H:%M\")) %>%\n",
    "    mutate(Posted_Date=as.Date(Posted_Date,format=\"%m/%d/%Y %H:%M\")) %>%\n",
    "    arrange(Agency_Name,Transaction_Date, Posted_Date) %>%\n",
    "    mutate(Time = Posted_Date-Transaction_Date)\n",
    "\n",
    "# Adding month_yr column into the dataframe\n",
    "time_by_agency$month_yr <- format(as.Date(time_by_agency$Transaction_Date), \"%Y-%m\")\n",
    "\n",
    "time_by_agency[,c(\"Agency_Number\",\"Agency_Name\", \"Transaction_Date\",\"Posted_Date\",\"Vendor\",\"Merchant_Category\",\n",
    "                  \"Description\",\"Amount\",\"Time\", \"month_yr\")][,1:10]"
   ]
  },
  {
   "cell_type": "markdown",
   "metadata": {},
   "source": [
    "### 1: Average amount charged per month by agency<a class=\"anchor\" id=\"feature1\"></a>\n",
    "\n",
    "This feature will provide an estimation of the average amount spent per month for each agency. If there are any anomalies present, such as unusual high charges per month, it would be noticed and investigated further. "
   ]
  },
  {
   "cell_type": "code",
   "execution_count": 13,
   "metadata": {},
   "outputs": [],
   "source": [
    "mean_by_agency <- time_by_agency %>%\n",
    "          group_by(Agency_Name, month_yr) %>%\n",
    "          summarise(month_average = mean(Amount))"
   ]
  },
  {
   "cell_type": "markdown",
   "metadata": {},
   "source": [
    "From the output result, we will be able to track the monthly payment of each agency, below is an example of using scatter chart to identify monthly spending"
   ]
  },
  {
   "cell_type": "code",
   "execution_count": 14,
   "metadata": {},
   "outputs": [],
   "source": [
    "sample_1 <- mean_by_agency %>% filter(Agency_Name == \"ATTORNEY GENERAL\")"
   ]
  },
  {
   "cell_type": "code",
   "execution_count": 15,
   "metadata": {},
   "outputs": [
    {
     "data": {
      "image/png": "[encoded data removed]",
      "text/plain": [
       "plot without title"
      ]
     },
     "metadata": {},
     "output_type": "display_data"
    }
   ],
   "source": [
    "ggplot(sample_1, aes(x = month_yr , y = month_average)) +\n",
    "        geom_point(alpha = 0.5 , size = 1.5, color = \"blue\", fill = \"blue\") + \n",
    "        labs(x = 'Time' , y = 'Monthly Spending')"
   ]
  },
  {
   "cell_type": "markdown",
   "metadata": {},
   "source": [
    "**Conclusion**: The chart above shows that agency Attorney General made an unusually large payment in the month of June of 2013. However, their monthly spending after that seems very regular. Additionally, this feature shows that the agency payment would be predictable, such as decreasing spend every 3 months. This insight highlights the business use of this feature and shows how it will be helpful with detecting anomalies."
   ]
  },
  {
   "cell_type": "markdown",
   "metadata": {},
   "source": [
    "### 2: Total number of transactions per month by agency<a class=\"anchor\" id=\"feature2\"></a>\n",
    "\n",
    "This feature helps detecting if an agency has made more transactions than they previously had, indicating potential of fraud. It filters by agency name and shows the number of transactions over time. "
   ]
  },
  {
   "cell_type": "code",
   "execution_count": 16,
   "metadata": {},
   "outputs": [],
   "source": [
    "count_by_agency  <- time_by_agency %>%\n",
    "          group_by(Agency_Name, month_yr) %>%\n",
    "          summarise(count = n())"
   ]
  },
  {
   "cell_type": "code",
   "execution_count": 17,
   "metadata": {},
   "outputs": [
    {
     "data": {
      "text/html": [
       "13"
      ],
      "text/latex": [
       "13"
      ],
      "text/markdown": [
       "13"
      ],
      "text/plain": [
       "[1] 13"
      ]
     },
     "metadata": {},
     "output_type": "display_data"
    }
   ],
   "source": [
    "sample_2 <- count_by_agency %>% filter(Agency_Name == \"ATTORNEY GENERAL\")\n",
    "nrow(sample_2)"
   ]
  },
  {
   "cell_type": "code",
   "execution_count": 18,
   "metadata": {},
   "outputs": [
    {
     "data": {
      "image/png": "[encoded data removed]",
      "text/plain": [
       "plot without title"
      ]
     },
     "metadata": {},
     "output_type": "display_data"
    }
   ],
   "source": [
    "ggplot() + geom_bar(aes(reorder(sample_2$month_yr,sample_2$count),sample_2$count), stat = 'identity',\n",
    "                    color = \"blue\", fill = \"steelblue\") + \n",
    "  theme_minimal() + \n",
    "  theme(axis.text.x = element_text(angle = 90, hjust = 1)) + labs(\n",
    "    title = \"Total Number of Transactions per Month by Agency\",\n",
    "    x = \"Time\",\n",
    "    y = \"Number of Transactions\") "
   ]
  },
  {
   "cell_type": "markdown",
   "metadata": {},
   "source": [
    "**Conclusion**: Through the chart, it shows that there is an upward trend of transactions, which is likely to not be problematic. If there are sudden increases, it may predict the possibility of fraud and that further exploration is needed."
   ]
  },
  {
   "cell_type": "markdown",
   "metadata": {},
   "source": [
    "### 3: Average spending amount per transaction for each agency<a class=\"anchor\" id=\"feature3\"></a>\n",
    "This feature shows the average amount spend in the transaction by an agency. It helps to show if there is a sudden increase compared to all agencies or if tracked monthly, shows how the transactions change."
   ]
  },
  {
   "cell_type": "code",
   "execution_count": 19,
   "metadata": {},
   "outputs": [],
   "source": [
    "# Sort and subtract mean value in descending order\n",
    "mean_data <- ccard %>% group_by(Agency_Name) %>%\n",
    "    summarise(mean_amount = mean(Amount)) %>%\n",
    "    arrange(desc(mean_amount)) %>% ungroup() \n",
    "# Subtract top-30 highest mean values\n",
    "sample_3 <- mean_data[1:15,]"
   ]
  },
  {
   "cell_type": "code",
   "execution_count": 20,
   "metadata": {},
   "outputs": [
    {
     "data": {
      "image/png": "[encoded data removed]",
      "text/plain": [
       "plot without title"
      ]
     },
     "metadata": {},
     "output_type": "display_data"
    }
   ],
   "source": [
    "gg2 <- ggplot() + geom_bar(aes(reorder(sample_3$Agency_Name,sample_3$mean_amount),sample_3$mean_amount), stat = 'identity',\n",
    "                           color = \"blue\", fill = \"steelblue\") + \n",
    "  theme_minimal() + \n",
    "  theme(text = element_text(size=7),\n",
    "    axis.text.x = element_text(angle = 90, hjust = 1)) + labs(\n",
    "    title = \"Average Amount per Transaction by Agency Name\",\n",
    "    x = \"Agency Name\",\n",
    "    y = \"Value\")\n",
    "gg2 + coord_flip()"
   ]
  },
  {
   "cell_type": "code",
   "execution_count": 21,
   "metadata": {},
   "outputs": [
    {
     "data": {
      "text/html": [
       "<table>\n",
       "<thead><tr><th scope=col>Year_Month</th><th scope=col>Agency_Number</th><th scope=col>Agency_Name</th><th scope=col>Cardholder_Last_Name</th><th scope=col>Cardholder_First_Initial</th><th scope=col>Description</th><th scope=col>Amount</th><th scope=col>Vendor</th><th scope=col>Transaction_Date</th><th scope=col>Posted_Date</th><th scope=col>Merchant_Category</th><th scope=col>Time</th><th scope=col>month_yr</th></tr></thead>\n",
       "<tbody>\n",
       "\t<tr><td>201307                       </td><td>81500                        </td><td>EMPLOYEES BENEFITS DEPARTMENT</td><td>81500                        </td><td>8                            </td><td>GENERAL PURCHASE             </td><td>343148.50                    </td><td>PAYMENT ADJUSTMENT           </td><td>2013-06-13                   </td><td>2013-07-03                   </td><td>OTHER FEES                   </td><td>20 days                      </td><td>2013-06                      </td></tr>\n",
       "\t<tr><td>201307                       </td><td>81500                        </td><td>EMPLOYEES BENEFITS DEPARTMENT</td><td>81500                        </td><td>8                            </td><td>GENERAL PURCHASE             </td><td>    90.72                    </td><td>CBR MAN CK                   </td><td>2013-07-08                   </td><td>2013-07-09                   </td><td>OTHER FEES                   </td><td> 1 days                      </td><td>2013-07                      </td></tr>\n",
       "</tbody>\n",
       "</table>\n"
      ],
      "text/latex": [
       "\\begin{tabular}{r|lllllllllllll}\n",
       " Year\\_Month & Agency\\_Number & Agency\\_Name & Cardholder\\_Last\\_Name & Cardholder\\_First\\_Initial & Description & Amount & Vendor & Transaction\\_Date & Posted\\_Date & Merchant\\_Category & Time & month\\_yr\\\\\n",
       "\\hline\n",
       "\t 201307                        & 81500                         & EMPLOYEES BENEFITS DEPARTMENT & 81500                         & 8                             & GENERAL PURCHASE              & 343148.50                     & PAYMENT ADJUSTMENT            & 2013-06-13                    & 2013-07-03                    & OTHER FEES                    & 20 days                       & 2013-06                      \\\\\n",
       "\t 201307                        & 81500                         & EMPLOYEES BENEFITS DEPARTMENT & 81500                         & 8                             & GENERAL PURCHASE              &     90.72                     & CBR MAN CK                    & 2013-07-08                    & 2013-07-09                    & OTHER FEES                    &  1 days                       & 2013-07                      \\\\\n",
       "\\end{tabular}\n"
      ],
      "text/markdown": [
       "\n",
       "| Year_Month | Agency_Number | Agency_Name | Cardholder_Last_Name | Cardholder_First_Initial | Description | Amount | Vendor | Transaction_Date | Posted_Date | Merchant_Category | Time | month_yr |\n",
       "|---|---|---|---|---|---|---|---|---|---|---|---|---|\n",
       "| 201307                        | 81500                         | EMPLOYEES BENEFITS DEPARTMENT | 81500                         | 8                             | GENERAL PURCHASE              | 343148.50                     | PAYMENT ADJUSTMENT            | 2013-06-13                    | 2013-07-03                    | OTHER FEES                    | 20 days                       | 2013-06                       |\n",
       "| 201307                        | 81500                         | EMPLOYEES BENEFITS DEPARTMENT | 81500                         | 8                             | GENERAL PURCHASE              |     90.72                     | CBR MAN CK                    | 2013-07-08                    | 2013-07-09                    | OTHER FEES                    |  1 days                       | 2013-07                       |\n",
       "\n"
      ],
      "text/plain": [
       "  Year_Month Agency_Number Agency_Name                   Cardholder_Last_Name\n",
       "1 201307     81500         EMPLOYEES BENEFITS DEPARTMENT 81500               \n",
       "2 201307     81500         EMPLOYEES BENEFITS DEPARTMENT 81500               \n",
       "  Cardholder_First_Initial Description      Amount    Vendor            \n",
       "1 8                        GENERAL PURCHASE 343148.50 PAYMENT ADJUSTMENT\n",
       "2 8                        GENERAL PURCHASE     90.72 CBR MAN CK        \n",
       "  Transaction_Date Posted_Date Merchant_Category Time    month_yr\n",
       "1 2013-06-13       2013-07-03  OTHER FEES        20 days 2013-06 \n",
       "2 2013-07-08       2013-07-09  OTHER FEES         1 days 2013-07 "
      ]
     },
     "metadata": {},
     "output_type": "display_data"
    }
   ],
   "source": [
    "emp_bene <- time_by_agency %>% filter(Agency_Name == \"EMPLOYEES BENEFITS DEPARTMENT\") %>% group_by(Vendor,Merchant_Category)\n",
    "emp_bene"
   ]
  },
  {
   "cell_type": "markdown",
   "metadata": {},
   "source": [
    "***Conclusion***: This feature shows an average amount of spending per transaction and the chart above shows that Employees Benefits Department has extremely high average spending per transaction, which would need to be investigated further. Additionally, we could use this feature to make comparsons for upcoming monthly expenses by agency.\n",
    "\n",
    "In this case, the agency only made 2 transactions, which are both in 2013 while the data is up to June, 2014. The agency has not used the card for almost a year and the amounts of these transactions are odd. "
   ]
  },
  {
   "cell_type": "markdown",
   "metadata": {},
   "source": [
    "### 4: The average amount spent per day every month <a class=\"anchor\" id=\"feature4\"></a>\n",
    "\n",
    "This feature helps to show how much an agency spends per day each month. If there is a increase of the average expenses, it indicates that something has changed and should be investigated. "
   ]
  },
  {
   "cell_type": "code",
   "execution_count": 22,
   "metadata": {},
   "outputs": [],
   "source": [
    "daily_by_agency <- time_by_agency %>%\n",
    "          group_by(Agency_Name, month_yr) %>%\n",
    "          summarise(daily_amount = sum(Amount)/30)"
   ]
  },
  {
   "cell_type": "code",
   "execution_count": 23,
   "metadata": {},
   "outputs": [],
   "source": [
    "# Example of using the \n",
    "sample_4 <- daily_by_agency%>% filter(Agency_Name == \"ATTORNEY GENERAL\") "
   ]
  },
  {
   "cell_type": "code",
   "execution_count": 24,
   "metadata": {},
   "outputs": [
    {
     "data": {
      "image/png": "[encoded data removed]",
      "text/plain": [
       "plot without title"
      ]
     },
     "metadata": {},
     "output_type": "display_data"
    }
   ],
   "source": [
    "gg4 <- ggplot() + geom_bar(aes(sample_4$month_yr,sample_4$daily_amount), \n",
    "                           stat = 'identity',color = \"blue\", fill = \"steelblue\") + \n",
    "  theme_minimal() + \n",
    "  theme(axis.text.x = element_text(angle = 90, hjust = 1)) + labs(\n",
    "    title = \"Average amount spent per day every month\",\n",
    "    x = \"Time\",\n",
    "    y = \"Daily Expense\") \n",
    "\n",
    "gg4"
   ]
  },
  {
   "cell_type": "markdown",
   "metadata": {},
   "source": [
    "***Conclusion***: As shown in the graph, there is a sudden increase that indicates a change in normal behaviour for this agency. If the feature is monitored, it can help predict if anomalies are present."
   ]
  },
  {
   "cell_type": "markdown",
   "metadata": {},
   "source": [
    "### 5: Total number of transactions with the same vendor during the past 30 days/per month <a class=\"anchor\" id=\"feature5\"></a>\n",
    "\n",
    "This feature shows how often an agency makes transaction with vendors. It takes the transactions over the past 30 days and compares how many transactions are made per vendor."
   ]
  },
  {
   "cell_type": "code",
   "execution_count": 25,
   "metadata": {},
   "outputs": [],
   "source": [
    "count_by_agency_vendor <- time_by_agency %>% group_by(Agency_Name, Vendor, month_yr) %>%\n",
    "    summarise(count_amt = n()) %>%\n",
    "    arrange(desc(count_amt)) %>% ungroup() "
   ]
  },
  {
   "cell_type": "code",
   "execution_count": 26,
   "metadata": {},
   "outputs": [
    {
     "data": {
      "text/html": [
       "82"
      ],
      "text/latex": [
       "82"
      ],
      "text/markdown": [
       "82"
      ],
      "text/plain": [
       "[1] 82"
      ]
     },
     "metadata": {},
     "output_type": "display_data"
    }
   ],
   "source": [
    "# 2014-06 is the lastest month in the dataset\n",
    "sample_5 <- count_by_agency_vendor%>% filter(Agency_Name == \"ATTORNEY GENERAL\", month_yr == \"2014-06\" ) \n",
    "nrow(sample_5)"
   ]
  },
  {
   "cell_type": "code",
   "execution_count": 27,
   "metadata": {},
   "outputs": [
    {
     "data": {
      "image/png": "[encoded data removed]",
      "text/plain": [
       "plot without title"
      ]
     },
     "metadata": {},
     "output_type": "display_data"
    }
   ],
   "source": [
    "# Top 10 total number of transactions with the same merchant in the past 30 days\n",
    "sample_5 <- sample_5[1:10,]\n",
    "\n",
    "gg5 <- ggplot() + geom_bar(aes(reorder(sample_5$Vendor,sample_5$count_amt),sample_5$count_amt), stat = 'identity',\n",
    "                          color = \"blue\", fill = \"steelblue\") + \n",
    "  theme_minimal() + \n",
    "  theme(text = element_text(size=8),\n",
    "        axis.text.x = element_text(angle = 90, hjust = 1)) + \n",
    "  labs(title = \"Top 10 total number of transactions with the same merchant\",\n",
    "        x = \"Vendor\",\n",
    "        y = \"Total Transactions\")\n",
    "gg5 +coord_flip()"
   ]
  },
  {
   "cell_type": "markdown",
   "metadata": {},
   "source": [
    "***Conclusion*** : As shown in the graph, this agency has the highest number of transactions with Staples. If this figure was tracked on a moving average basis, it can help determine if there is a change in the frequency of transaction to help predict anomalies if there is a change."
   ]
  },
  {
   "cell_type": "markdown",
   "metadata": {},
   "source": [
    "### 6: Average Amount per day spent on the same vendor during the last 30 days <a class=\"anchor\" id=\"feature6\"></a>\n",
    "\n",
    "This feature looks at the transactions an agency makes over the last 30 days and tracks the average amount spent per day. It looks at a single month for a single agency, but can be expanded to track the amounts across all agencies."
   ]
  },
  {
   "cell_type": "code",
   "execution_count": 28,
   "metadata": {},
   "outputs": [],
   "source": [
    "mean_by_agency_vendor <- time_by_agency %>% group_by(Agency_Name, Vendor, month_yr) %>%\n",
    "    summarise(mean_vendor = mean(Amount)) %>%\n",
    "    arrange(desc(mean_vendor)) %>% ungroup() "
   ]
  },
  {
   "cell_type": "code",
   "execution_count": 29,
   "metadata": {},
   "outputs": [
    {
     "data": {
      "text/html": [
       "82"
      ],
      "text/latex": [
       "82"
      ],
      "text/markdown": [
       "82"
      ],
      "text/plain": [
       "[1] 82"
      ]
     },
     "metadata": {},
     "output_type": "display_data"
    }
   ],
   "source": [
    "# 2014-06 is the lastest month in the dataset\n",
    "sample_6 <- mean_by_agency_vendor%>% filter(Agency_Name == \"ATTORNEY GENERAL\", month_yr == \"2014-06\" ) \n",
    "nrow(sample_6)"
   ]
  },
  {
   "cell_type": "code",
   "execution_count": 30,
   "metadata": {},
   "outputs": [
    {
     "data": {
      "image/png": "[encoded data removed]",
      "text/plain": [
       "plot without title"
      ]
     },
     "metadata": {},
     "output_type": "display_data"
    }
   ],
   "source": [
    "# Top 10 total number of transactions with the same merchant in the past 30 days\n",
    "sample_6 <- sample_6[1:10,]\n",
    "\n",
    "gg6 <- ggplot() + geom_bar(aes(reorder(sample_6$Vendor,sample_6$mean_vendor),sample_6$mean_vendor),\n",
    "                           stat = 'identity',color = \"blue\", fill = \"steelblue\") + \n",
    "  theme_minimal() + \n",
    "  theme(text = element_text(size=8),\n",
    "        axis.text.x = element_text(angle = 90, hjust = 1)) + \n",
    "  labs(title = \"Top 10 Average Amount Spent on the Same Vendor During a 30 Day Period\",\n",
    "        x = \"Vendor\",\n",
    "        y = \"Average Amount\")\n",
    "gg6 +coord_flip()"
   ]
  },
  {
   "cell_type": "markdown",
   "metadata": {},
   "source": [
    "***Insights*** :The feature shows that the agency, ATTORNEY GENERAL, spent over $800 on Thomsom West, almost 4 times than the second ranked average amount spending in June 2014. This amount may possibly not be abnormal if its similar for other months, but would require further investigation. \n",
    "\n",
    "This feature helps to identify the average amount spent per month with different vendor and would help to keep track if there is any irregular amount spent on these vendors. If there is a sudden increase, it can help predict if anomalies are present. "
   ]
  },
  {
   "cell_type": "markdown",
   "metadata": {},
   "source": [
    "### 7: Total number of transactions with the same merchant category <a class=\"anchor\" id=\"feature7\"></a>\n",
    "This feature counts the number of transactions an agency has per merchant category. It looks at a single agency at a time and sums the amount within each category."
   ]
  },
  {
   "cell_type": "code",
   "execution_count": 31,
   "metadata": {},
   "outputs": [],
   "source": [
    "count_by_agency_merchant <- ccard %>% group_by(Agency_Name, Merchant_Category) %>%\n",
    "    summarise(count_amount = n()) %>%\n",
    "    arrange(desc(count_amount)) %>% ungroup() "
   ]
  },
  {
   "cell_type": "code",
   "execution_count": 32,
   "metadata": {},
   "outputs": [
    {
     "data": {
      "text/html": [
       "18"
      ],
      "text/latex": [
       "18"
      ],
      "text/markdown": [
       "18"
      ],
      "text/plain": [
       "[1] 18"
      ]
     },
     "metadata": {},
     "output_type": "display_data"
    }
   ],
   "source": [
    "sample_7 <- count_by_agency_merchant%>% filter(Agency_Name == \"ARDMORE HIGHER EDUCATION CENTER\")\n",
    "nrow(sample_7)"
   ]
  },
  {
   "cell_type": "code",
   "execution_count": 33,
   "metadata": {},
   "outputs": [
    {
     "data": {
      "image/png": "[encoded data removed]",
      "text/plain": [
       "plot without title"
      ]
     },
     "metadata": {},
     "output_type": "display_data"
    }
   ],
   "source": [
    "# Visualize the top 20 most spending merchant category for one agency\n",
    "gg7 <- ggplot() + geom_bar(aes(reorder(sample_7$Merchant_Category,sample_7$count_amount),sample_7$count_amount),\n",
    "                           stat = 'identity',color = \"blue\", fill = \"steelblue\") + \n",
    "  theme_minimal() + \n",
    "  theme(text = element_text(size=8),\n",
    "      axis.text.x = element_text(angle = 90, hjust = 1)) + \n",
    "  labs(title = \"Total Number of Transactions with the Same Category\",\n",
    "        x = \"Category\",\n",
    "        y = \"Value\")\n",
    "gg7 + coord_flip()"
   ]
  },
  {
   "cell_type": "markdown",
   "metadata": {},
   "source": [
    "***Conclusion***: The above graph shows the amount of transactions an agency has within a certain category. If monitored over time, it can show if there is a sudden increase for a category, indicating a possible issue. This feature helps in predicting anomalies by showing what an agency typically spends on by category and notices if there is change that should be investigated. "
   ]
  },
  {
   "cell_type": "markdown",
   "metadata": {},
   "source": [
    "### 8: The Average Amount Spent on the Same Merchant  Category<a class=\"anchor\" id=\"feature8\"></a>\n",
    "This feature looks at the average amount that is spent by an agency for a merchant category. It looks at the amount that is spent to compare changes that occur over time."
   ]
  },
  {
   "cell_type": "code",
   "execution_count": 34,
   "metadata": {},
   "outputs": [],
   "source": [
    "mean_by_agency_merchant <- ccard %>% group_by(Agency_Name, Merchant_Category) %>%\n",
    "    summarise(mean_amount = mean(Amount)) %>%\n",
    "    arrange(desc(mean_amount)) %>% ungroup() "
   ]
  },
  {
   "cell_type": "code",
   "execution_count": 35,
   "metadata": {},
   "outputs": [],
   "source": [
    "sample_8 <- mean_by_agency_merchant%>% filter(Agency_Name == \"ARDMORE HIGHER EDUCATION CENTER\")"
   ]
  },
  {
   "cell_type": "code",
   "execution_count": 36,
   "metadata": {},
   "outputs": [
    {
     "name": "stderr",
     "output_type": "stream",
     "text": [
      "Warning message:\n",
      "\"Removed 2 rows containing missing values (position_stack).\""
     ]
    },
    {
     "data": {
      "image/png": "[encoded data removed]",
      "text/plain": [
       "plot without title"
      ]
     },
     "metadata": {},
     "output_type": "display_data"
    }
   ],
   "source": [
    "# Visualize the top 20 most spending merchant category for one agency\n",
    "sample_8 <- sample_8[1:20,]\n",
    "\n",
    "gg8 <- ggplot() + geom_bar(aes(reorder(sample_8$Merchant_Category,sample_8$mean_amount),sample_8$mean_amount),\n",
    "                           stat = 'identity', color = \"blue\", fill = \"steelblue\") + \n",
    "  theme_minimal() + \n",
    "  theme(axis.text.x = element_text(angle = 90, hjust = 1)) + \n",
    "  labs(title = \"Top 20 Most Spending Merchant Category\",\n",
    "        x = \"Category\",\n",
    "        y = \"Value\")+\n",
    "  theme(plot.title = element_text(size = 8),\n",
    "        text = element_text(size=7))\n",
    "\n",
    "gg8 + coord_flip()"
   ]
  },
  {
   "cell_type": "markdown",
   "metadata": {},
   "source": [
    "***Conclusion***: This feature helps to indicate what is a typical charge for an agency based on historical data. If future charges suddenly are higher than average, it helps to predict fraud by highlighting transactions that are much higher than what is expected. Through showing transactions that are higher, it can indicate issues which should be investigated."
   ]
  },
  {
   "cell_type": "markdown",
   "metadata": {},
   "source": [
    "### 9: Percentage of expenses by merchant category for an agency <a class=\"anchor\" id=\"feature9\"></a>\n",
    "This feature takes transactions from a single agency and finds the percent of expenses by a category. It first makes a subset to find the sum of all transactions to determine what the percent transactions there are by category."
   ]
  },
  {
   "cell_type": "code",
   "execution_count": 37,
   "metadata": {},
   "outputs": [
    {
     "data": {
      "text/html": [
       "76143"
      ],
      "text/latex": [
       "76143"
      ],
      "text/markdown": [
       "76143"
      ],
      "text/plain": [
       "[1] 76143"
      ]
     },
     "metadata": {},
     "output_type": "display_data"
    }
   ],
   "source": [
    "# Change Agency_Name to explore different organizations\n",
    "sample_9 <- ccard%>%filter(Agency_Name == \"UNIVERSITY OF OKLAHOMA\")\n",
    "nrow(sample_9)"
   ]
  },
  {
   "cell_type": "code",
   "execution_count": 38,
   "metadata": {},
   "outputs": [],
   "source": [
    "sum_by_agency_merchant <- sample_9 %>% group_by(Agency_Name, Merchant_Category) %>%\n",
    "    summarise(total = sum(Amount)) %>%\n",
    "    arrange(desc(total))%>% ungroup() "
   ]
  },
  {
   "cell_type": "code",
   "execution_count": 39,
   "metadata": {},
   "outputs": [],
   "source": [
    "percent_by_agency_merchant <- sum_by_agency_merchant %>%\n",
    "    mutate(row = rep(1:nrow(sum_by_agency_merchant)),\n",
    "          percent = total/sum(total)*100) %>%\n",
    "          arrange(desc(percent)) %>%\n",
    "    select(Agency_Name,Merchant_Category,total, percent)"
   ]
  },
  {
   "cell_type": "code",
   "execution_count": 40,
   "metadata": {},
   "outputs": [
    {
     "data": {
      "image/png": "[encoded data removed]",
      "text/plain": [
       "plot without title"
      ]
     },
     "metadata": {},
     "output_type": "display_data"
    }
   ],
   "source": [
    "# Visualize the top 20 highest percentage of expense by merchant category for an agency\n",
    "percent_by_agency_merchant <- percent_by_agency_merchant[1:20,]\n",
    "\n",
    "gg9 <- ggplot() + geom_bar(aes(reorder(percent_by_agency_merchant$Merchant_Category,\n",
    "                                       percent_by_agency_merchant$percent),\n",
    "                                       percent_by_agency_merchant$percent),\n",
    "                           stat = 'identity',color = \"blue\", fill = \"steelblue\") + \n",
    "  theme_minimal() + \n",
    "  theme(axis.text.x = element_text(angle = 1, hjust = 1)) + \n",
    "  labs(title = \"Percentage of expense by merchant category for an agency\",\n",
    "        x = \"Category\",\n",
    "        y = \"Percentage\")+\n",
    "  theme(plot.title = element_text(size = 8),\n",
    "        text = element_text(size=8))\n",
    "\n",
    "gg9 + coord_flip()"
   ]
  },
  {
   "cell_type": "markdown",
   "metadata": {},
   "source": [
    "***Conclusion***: This feature highlights what an agency typically spends their money on and gives a percentage by category. Through monitoring it over time, it can predict if there is unusual activity if the percentage quickly changes."
   ]
  },
  {
   "cell_type": "markdown",
   "metadata": {},
   "source": [
    "### 10: Percentage of Expense by Vendor for an Agency <a class=\"anchor\" id=\"feature10\"></a>\n",
    "This feature takes a sample from a single agency and groups their expenses by vendors. It then divides this number by the total transactions to find the percentage of dollars it spends at that vendor."
   ]
  },
  {
   "cell_type": "code",
   "execution_count": 41,
   "metadata": {},
   "outputs": [
    {
     "data": {
      "text/html": [
       "1495"
      ],
      "text/latex": [
       "1495"
      ],
      "text/markdown": [
       "1495"
      ],
      "text/plain": [
       "[1] 1495"
      ]
     },
     "metadata": {},
     "output_type": "display_data"
    }
   ],
   "source": [
    "# Change Agency_Name to explore different organizations\n",
    "sample_10 <- ccard%>%filter(Agency_Name == \"ATTORNEY GENERAL\")\n",
    "nrow(sample_10)"
   ]
  },
  {
   "cell_type": "code",
   "execution_count": 42,
   "metadata": {},
   "outputs": [],
   "source": [
    "sum_by_agency_vendor <- sample_10 %>% group_by(Agency_Name, Vendor) %>%\n",
    "    summarise(total = sum(Amount)) %>%\n",
    "    arrange(desc(total))%>% ungroup() "
   ]
  },
  {
   "cell_type": "code",
   "execution_count": 43,
   "metadata": {},
   "outputs": [],
   "source": [
    "percent_by_agency_vendor <- sum_by_agency_vendor %>%\n",
    "    mutate(row = rep(1:nrow(sum_by_agency_vendor)),\n",
    "          percent = total/sum(total)*100) %>%\n",
    "          arrange(desc(percent)) %>%\n",
    "    select(Agency_Name,Vendor,total, percent)"
   ]
  },
  {
   "cell_type": "code",
   "execution_count": 44,
   "metadata": {},
   "outputs": [
    {
     "data": {
      "image/png": "[encoded data removed]",
      "text/plain": [
       "plot without title"
      ]
     },
     "metadata": {},
     "output_type": "display_data"
    }
   ],
   "source": [
    "# Visualize the top 20 highest percentage of expense by vendor for an agency\n",
    "percent_by_agency_vendor <- percent_by_agency_vendor[1:20,]\n",
    "\n",
    "gg10 <- ggplot() + geom_bar(aes(reorder(percent_by_agency_vendor$Vendor,\n",
    "                                        percent_by_agency_vendor$percent),\n",
    "                                percent_by_agency_vendor$percent),\n",
    "                            stat = 'identity',color = \"blue\", fill = \"steelblue\") + \n",
    "  theme_minimal() + \n",
    "  theme(axis.text.x = element_text(angle = 90, hjust = 1)) + \n",
    "  labs(title = \"Percentage of Expenses by Vendor for An Agency\",\n",
    "        x = \"Vendor\",\n",
    "        y = \"Percentage\")+\n",
    "  theme(plot.title = element_text(size = 8),\n",
    "        text = element_text(size=7))\n",
    "\n",
    "gg10 + coord_flip()"
   ]
  },
  {
   "cell_type": "markdown",
   "metadata": {},
   "source": [
    "***Conclusion***: The above graph creates a representation of where this agency spends their money. If this figure was tracked over time, it can help to predict if anything unusual is happening by comparing the change in percentages. Although new vendors may alter this list, it provides an idea of where their money is typically spent which can be further categorized for increased accuracy."
   ]
  },
  {
   "cell_type": "markdown",
   "metadata": {},
   "source": [
    "### 11: Total number of transactions with the same vendor during the past 3 months<a class=\"anchor\" id=\"feature11\"></a>\n",
    "This feature takes the transaction from the latest 3 months of the dataset and then counts the number of transactions each agency has with all of their vendors. It then filters down the dataset to a single agency to compare their transactions with vendors. "
   ]
  },
  {
   "cell_type": "code",
   "execution_count": 45,
   "metadata": {},
   "outputs": [],
   "source": [
    "total_by_agency_vendor <- time_by_agency %>% group_by(Agency_Name, Vendor) %>%\n",
    "    # lastest month in the dataset is 2014-06\n",
    "    filter(month_yr >= \"2014-04\")%>%\n",
    "    summarise(total_trans = n()) %>%\n",
    "    arrange(desc(total_trans)) %>% ungroup() "
   ]
  },
  {
   "cell_type": "code",
   "execution_count": 46,
   "metadata": {},
   "outputs": [
    {
     "data": {
      "text/html": [
       "215"
      ],
      "text/latex": [
       "215"
      ],
      "text/markdown": [
       "215"
      ],
      "text/plain": [
       "[1] 215"
      ]
     },
     "metadata": {},
     "output_type": "display_data"
    }
   ],
   "source": [
    "# Change Agency_Name to explore different organizations\n",
    "sample_11 <- total_by_agency_vendor%>%filter(Agency_Name == \"ATTORNEY GENERAL\")\n",
    "nrow(sample_11)"
   ]
  },
  {
   "cell_type": "code",
   "execution_count": 47,
   "metadata": {},
   "outputs": [
    {
     "data": {
      "image/png": "[encoded data removed]",
      "text/plain": [
       "plot without title"
      ]
     },
     "metadata": {},
     "output_type": "display_data"
    }
   ],
   "source": [
    "# Visualize the top 20 most spending merchant category for one agency\n",
    "sample_11 <- sample_11[1:20,]\n",
    "\n",
    "gg11 <- ggplot() + geom_bar(aes(reorder(sample_11$Vendor,sample_11$total_trans),sample_11$total_trans),\n",
    "                            stat = 'identity',color = \"blue\", fill = \"steelblue\") + \n",
    "  theme_minimal() + \n",
    "  theme(axis.text.x = element_text(angle = 90, hjust = 1)) + \n",
    "  labs(title = \"Total Number of Transactions by Vendor over The Past 3 Months\",\n",
    "        x = \"Vendor\",\n",
    "        y = \"Total Transactions\")+\n",
    "  theme(plot.title = element_text(size = 8),\n",
    "        text = element_text(size=7))\n",
    "\n",
    "gg11 + coord_flip()"
   ]
  },
  {
   "cell_type": "markdown",
   "metadata": {},
   "source": [
    "***Conclusion:*** This feature helps to identify who an agency typically makes transactions with. These numbers can then be tracked over time to predict if any changes may indicate the presence of anomalies. "
   ]
  },
  {
   "cell_type": "markdown",
   "metadata": {},
   "source": [
    "### 12: Maximum Amount Spent by Vendor over a 30 Day Period<a class=\"anchor\" id=\"feature12\"></a>\n",
    "\n",
    "This feature helps to identify any unsually large each month to vendors. It groups the amounts by agency and vendor to apply a filter based on month. It then aggregrates all transactions to find the max before filtering it by agency."
   ]
  },
  {
   "cell_type": "code",
   "execution_count": 48,
   "metadata": {},
   "outputs": [],
   "source": [
    "max_by_agency_vendor <- time_by_agency %>% group_by(Agency_Name, Vendor) %>%\n",
    "    # lastest month in the dataset is 2014-06\n",
    "    filter(month_yr == \"2014-06\")%>%\n",
    "    summarise(max_trans = max(Amount)) %>%\n",
    "    arrange(desc(max_trans)) %>% ungroup() "
   ]
  },
  {
   "cell_type": "code",
   "execution_count": 49,
   "metadata": {},
   "outputs": [
    {
     "data": {
      "text/html": [
       "82"
      ],
      "text/latex": [
       "82"
      ],
      "text/markdown": [
       "82"
      ],
      "text/plain": [
       "[1] 82"
      ]
     },
     "metadata": {},
     "output_type": "display_data"
    }
   ],
   "source": [
    "# Change Agency_Name to explore different organizations\n",
    "sample_12 <- max_by_agency_vendor%>%filter(Agency_Name == \"ATTORNEY GENERAL\")\n",
    "nrow(sample_12)"
   ]
  },
  {
   "cell_type": "code",
   "execution_count": 50,
   "metadata": {},
   "outputs": [
    {
     "data": {
      "image/png": "[encoded data removed]",
      "text/plain": [
       "plot without title"
      ]
     },
     "metadata": {},
     "output_type": "display_data"
    }
   ],
   "source": [
    "# Total Number of Transactions by Vendor over The Past 3 Months\n",
    "sample_12 <- sample_12[1:20,]\n",
    "\n",
    "gg12 <- ggplot() + geom_bar(aes(reorder(sample_12$Vendor,sample_12$max_trans),sample_12$max_trans),\n",
    "                            stat = 'identity',color = \"blue\", fill = \"steelblue\") + \n",
    "  theme_minimal() + \n",
    "  theme(axis.text.x = element_text(angle = 90, hjust = 1)) + \n",
    "  labs(title = \"Maximun Amount Spent by Vendor in a 30 Day Period\",\n",
    "        x = \"Vendor\",\n",
    "        y = \"Amount\")+\n",
    "  theme(plot.title = element_text(size = 8),\n",
    "        text = element_text(size=7))\n",
    "\n",
    "gg12 + coord_flip()"
   ]
  },
  {
   "cell_type": "markdown",
   "metadata": {},
   "source": [
    "***Conclusion:*** Through tracking this feature, any changes in spending can be noticed. If these amounts differ greatly over time, it can help to predict if there is suspicious behaviour which should be investigated further."
   ]
  },
  {
   "cell_type": "markdown",
   "metadata": {},
   "source": [
    "### 13: Maximum Amount Spent by Merchant Category in a 30 Day Period<a class=\"anchor\" id=\"feature13\"></a>\n",
    "This feature is similar to feature 12, but it groups by merchant category instead of vendor to provide a broader idea of what an agency is spending money on. It filters the transactions by month before summing them to find the max for a 30 day period."
   ]
  },
  {
   "cell_type": "code",
   "execution_count": 51,
   "metadata": {},
   "outputs": [],
   "source": [
    "max_by_agency_mer <- time_by_agency %>% group_by(Agency_Name, Merchant_Category) %>%\n",
    "    # lastest month in the dataset is 2014-06\n",
    "    filter(month_yr == \"2014-06\")%>%\n",
    "    summarise(max_trans_mer = max(Amount)) %>%\n",
    "    arrange(desc(max_trans_mer)) %>% ungroup() "
   ]
  },
  {
   "cell_type": "code",
   "execution_count": 52,
   "metadata": {},
   "outputs": [
    {
     "data": {
      "text/html": [
       "31"
      ],
      "text/latex": [
       "31"
      ],
      "text/markdown": [
       "31"
      ],
      "text/plain": [
       "[1] 31"
      ]
     },
     "metadata": {},
     "output_type": "display_data"
    }
   ],
   "source": [
    "# Change Agency_Name to explore different organizations\n",
    "sample_13 <- max_by_agency_mer%>%filter(Agency_Name == \"ATTORNEY GENERAL\")\n",
    "nrow(sample_13)"
   ]
  },
  {
   "cell_type": "code",
   "execution_count": 53,
   "metadata": {},
   "outputs": [
    {
     "data": {
      "image/png": "[encoded data removed]",
      "text/plain": [
       "plot without title"
      ]
     },
     "metadata": {},
     "output_type": "display_data"
    }
   ],
   "source": [
    "# Total Number of Transactions by Merchant Category over The Past 3 Months\n",
    "sample_13<- sample_13[1:20,]\n",
    "\n",
    "gg13 <- ggplot() + geom_bar(aes(reorder(sample_13$Merchant_Category,sample_13$max_trans_mer),sample_13$max_trans_mer),\n",
    "                            stat = 'identity',color = \"blue\", fill = \"steelblue\") + \n",
    "  theme_minimal() + \n",
    "  theme(axis.text.x = element_text(angle = 90, hjust = 1)) + \n",
    "  labs(title = \"Maximum Amount Spent by Merchant Category in a 30 Day Period\",\n",
    "        x = \"Merchant Category\",\n",
    "        y = \"Amount\")+\n",
    "  theme(plot.title = element_text(size = 8),\n",
    "        text = element_text(size=7))\n",
    "\n",
    "gg13 + coord_flip()"
   ]
  },
  {
   "cell_type": "markdown",
   "metadata": {},
   "source": [
    "***Conclusion:*** When used with feature 12, this feature helps to detect if there are any large changes month-to-month for the transactions of an agency. By looking at the broader view of merchant category, it can help to predict if there are changes in spending pattern, regardless if vendors change."
   ]
  },
  {
   "cell_type": "markdown",
   "metadata": {},
   "source": [
    "### 14: Known Monthly Vendors for Agency (3+ transactions over past 3 months) <a class=\"anchor\" id=\"feature14\"></a>\n",
    "This feature filters transactions by agency and then groups them by vendor and time. It then takes only transactions from the past 3 months before grouping by vendor and filtering the count to be 3 or larger."
   ]
  },
  {
   "cell_type": "code",
   "execution_count": 54,
   "metadata": {},
   "outputs": [],
   "source": [
    "sample14 = filter(ccard, Agency_Name == \"UNIVERSITY OF OKLAHOMA\")"
   ]
  },
  {
   "cell_type": "code",
   "execution_count": 55,
   "metadata": {},
   "outputs": [],
   "source": [
    "monthly_vendors <- sample14 %>% group_by(Vendor, Year_Month) %>%\n",
    "    summarise(total = sum(Amount)) %>%\n",
    "    arrange(order(Vendor, -Year_Month))%>% ungroup()"
   ]
  },
  {
   "cell_type": "code",
   "execution_count": 56,
   "metadata": {},
   "outputs": [],
   "source": [
    "last_3_months = filter(monthly_vendors, Year_Month >= 2014-04)"
   ]
  },
  {
   "cell_type": "code",
   "execution_count": 57,
   "metadata": {},
   "outputs": [],
   "source": [
    "known_vendors = last_3_months %>%\n",
    "                    group_by(Vendor) %>%\n",
    "                    filter(n() >= 3)"
   ]
  },
  {
   "cell_type": "code",
   "execution_count": 58,
   "metadata": {},
   "outputs": [],
   "source": [
    "distinct_known_vendors =  known_vendors %>% distinct(Vendor)"
   ]
  },
  {
   "cell_type": "code",
   "execution_count": 59,
   "metadata": {},
   "outputs": [
    {
     "data": {
      "text/html": [
       "<table>\n",
       "<thead><tr><th scope=col>Vendor</th></tr></thead>\n",
       "<tbody>\n",
       "\t<tr><td>003 CENTURYLINK MY ACCOUN</td></tr>\n",
       "\t<tr><td>045 OBI               086</td></tr>\n",
       "\t<tr><td>1000BULBS.COM            </td></tr>\n",
       "\t<tr><td>183 BUILD-OKLAHOMA       </td></tr>\n",
       "\t<tr><td>2XL CORP/CARE-GYMWIPES   </td></tr>\n",
       "\t<tr><td>37S BASECAMP 1932438     </td></tr>\n",
       "\t<tr><td>37S BASECAMP 2038751     </td></tr>\n",
       "\t<tr><td>37S BASECAMP 2052769     </td></tr>\n",
       "\t<tr><td>37S BASECAMP 2309927     </td></tr>\n",
       "\t<tr><td>37S HIGHRISE 1999665     </td></tr>\n",
       "\t<tr><td>3D ROBOTICS INC          </td></tr>\n",
       "\t<tr><td>500 NORMAN TRANSCRIPT    </td></tr>\n",
       "\t<tr><td><span style=white-space:pre-wrap>A &amp; D SUPPLY OKC         </span></td></tr>\n",
       "\t<tr><td><span style=white-space:pre-wrap>A &amp; N CORPORATION        </span></td></tr>\n",
       "\t<tr><td>A AND D SUPPLY OF OKC    </td></tr>\n",
       "</tbody>\n",
       "</table>\n"
      ],
      "text/latex": [
       "\\begin{tabular}{r|l}\n",
       " Vendor\\\\\n",
       "\\hline\n",
       "\t 003 CENTURYLINK MY ACCOUN\\\\\n",
       "\t 045 OBI               086\\\\\n",
       "\t 1000BULBS.COM            \\\\\n",
       "\t 183 BUILD-OKLAHOMA       \\\\\n",
       "\t 2XL CORP/CARE-GYMWIPES   \\\\\n",
       "\t 37S BASECAMP 1932438     \\\\\n",
       "\t 37S BASECAMP 2038751     \\\\\n",
       "\t 37S BASECAMP 2052769     \\\\\n",
       "\t 37S BASECAMP 2309927     \\\\\n",
       "\t 37S HIGHRISE 1999665     \\\\\n",
       "\t 3D ROBOTICS INC          \\\\\n",
       "\t 500 NORMAN TRANSCRIPT    \\\\\n",
       "\t A \\& D SUPPLY OKC         \\\\\n",
       "\t A \\& N CORPORATION        \\\\\n",
       "\t A AND D SUPPLY OF OKC    \\\\\n",
       "\\end{tabular}\n"
      ],
      "text/markdown": [
       "\n",
       "| Vendor |\n",
       "|---|\n",
       "| 003 CENTURYLINK MY ACCOUN |\n",
       "| 045 OBI               086 |\n",
       "| 1000BULBS.COM             |\n",
       "| 183 BUILD-OKLAHOMA        |\n",
       "| 2XL CORP/CARE-GYMWIPES    |\n",
       "| 37S BASECAMP 1932438      |\n",
       "| 37S BASECAMP 2038751      |\n",
       "| 37S BASECAMP 2052769      |\n",
       "| 37S BASECAMP 2309927      |\n",
       "| 37S HIGHRISE 1999665      |\n",
       "| 3D ROBOTICS INC           |\n",
       "| 500 NORMAN TRANSCRIPT     |\n",
       "| A & D SUPPLY OKC          |\n",
       "| A & N CORPORATION         |\n",
       "| A AND D SUPPLY OF OKC     |\n",
       "\n"
      ],
      "text/plain": [
       "   Vendor                   \n",
       "1  003 CENTURYLINK MY ACCOUN\n",
       "2  045 OBI               086\n",
       "3  1000BULBS.COM            \n",
       "4  183 BUILD-OKLAHOMA       \n",
       "5  2XL CORP/CARE-GYMWIPES   \n",
       "6  37S BASECAMP 1932438     \n",
       "7  37S BASECAMP 2038751     \n",
       "8  37S BASECAMP 2052769     \n",
       "9  37S BASECAMP 2309927     \n",
       "10 37S HIGHRISE 1999665     \n",
       "11 3D ROBOTICS INC          \n",
       "12 500 NORMAN TRANSCRIPT    \n",
       "13 A & D SUPPLY OKC         \n",
       "14 A & N CORPORATION        \n",
       "15 A AND D SUPPLY OF OKC    "
      ]
     },
     "metadata": {},
     "output_type": "display_data"
    }
   ],
   "source": [
    "distinct_known_vendors[1:15,]"
   ]
  },
  {
   "cell_type": "markdown",
   "metadata": {},
   "source": [
    "***Conclusion***: This feature essentially creates a whitelist for transactions for a certain agency. As these transactions with these vendors occur at least monthly on average, they are most likely valid. This can help with predicting fraud by limiting the amount of data that is analyzed, provided that it mets other criteria provided by other features. "
   ]
  },
  {
   "cell_type": "markdown",
   "metadata": {},
   "source": [
    "### 15: Average of Total Number of Transactions for Known Vendors by Month<a class=\"anchor\" id=\"feature15\"></a>\n",
    "This feature creates a sample set of data that filters by agency and transaction over the past 3 months to limit the amount of data being manipulated. It then groups by vendor and filters out vendors that have less than an average of 1 transaction a month. Next, it groups by agency and vendor, counts their number of transactions and then divides the count by 3 to find the average monthly number of transactions."
   ]
  },
  {
   "cell_type": "code",
   "execution_count": 60,
   "metadata": {},
   "outputs": [
    {
     "data": {
      "text/html": [
       "3863"
      ],
      "text/latex": [
       "3863"
      ],
      "text/markdown": [
       "3863"
      ],
      "text/plain": [
       "[1] 3863"
      ]
     },
     "metadata": {},
     "output_type": "display_data"
    }
   ],
   "source": [
    "# Change Agency_Name to explore different organizations and pick any month as the count_ven has the same values per month\n",
    "sample_15 <- time_by_agency%>%filter(Agency_Name == \"DEPARTMENT OF TRANSPORTATION\", month_yr >= \"2014-04\")\n",
    "nrow(sample_15)"
   ]
  },
  {
   "cell_type": "code",
   "execution_count": 61,
   "metadata": {},
   "outputs": [
    {
     "data": {
      "text/html": [
       "2988"
      ],
      "text/latex": [
       "2988"
      ],
      "text/markdown": [
       "2988"
      ],
      "text/plain": [
       "[1] 2988"
      ]
     },
     "metadata": {},
     "output_type": "display_data"
    }
   ],
   "source": [
    "known_vendors = sample_15 %>%\n",
    "                    group_by(Vendor) %>%\n",
    "                    filter(n() >= 3)\n",
    "nrow(known_vendors)"
   ]
  },
  {
   "cell_type": "code",
   "execution_count": 62,
   "metadata": {},
   "outputs": [],
   "source": [
    "freq_monthly_vendor <- known_vendors%>% group_by(Agency_Name, Vendor) %>% \n",
    "                    # n()/3 to get number transactions per month as monthly vendor contains data of the lastest 3 months\n",
    "                    summarise(count_ven = n()/3, count_ven = round(count_ven))%>%\n",
    "                    arrange(desc(count_ven))%>% ungroup()"
   ]
  },
  {
   "cell_type": "code",
   "execution_count": 63,
   "metadata": {},
   "outputs": [
    {
     "data": {
      "text/html": [
       "<table>\n",
       "<thead><tr><th scope=col>Agency_Name</th><th scope=col>Vendor</th><th scope=col>count_ven</th></tr></thead>\n",
       "<tbody>\n",
       "\t<tr><td>DEPARTMENT OF TRANSPORTATION</td><td>WW GRAINGER                 </td><td>50                          </td></tr>\n",
       "\t<tr><td>DEPARTMENT OF TRANSPORTATION</td><td>OK NATURAL GAS/TNB          </td><td>49                          </td></tr>\n",
       "\t<tr><td>DEPARTMENT OF TRANSPORTATION</td><td>FASTENAL COMPANY01          </td><td>38                          </td></tr>\n",
       "\t<tr><td>DEPARTMENT OF TRANSPORTATION</td><td>OG&amp;E/USPAYMENTSBILLPAY  </td><td>38                          </td></tr>\n",
       "\t<tr><td>DEPARTMENT OF TRANSPORTATION</td><td>STAPLES                     </td><td>38                          </td></tr>\n",
       "\t<tr><td>DEPARTMENT OF TRANSPORTATION</td><td>OREILLY AUTO  00002659      </td><td>32                          </td></tr>\n",
       "</tbody>\n",
       "</table>\n"
      ],
      "text/latex": [
       "\\begin{tabular}{r|lll}\n",
       " Agency\\_Name & Vendor & count\\_ven\\\\\n",
       "\\hline\n",
       "\t DEPARTMENT OF TRANSPORTATION & WW GRAINGER                  & 50                          \\\\\n",
       "\t DEPARTMENT OF TRANSPORTATION & OK NATURAL GAS/TNB           & 49                          \\\\\n",
       "\t DEPARTMENT OF TRANSPORTATION & FASTENAL COMPANY01           & 38                          \\\\\n",
       "\t DEPARTMENT OF TRANSPORTATION & OG\\&E/USPAYMENTSBILLPAY     & 38                          \\\\\n",
       "\t DEPARTMENT OF TRANSPORTATION & STAPLES                      & 38                          \\\\\n",
       "\t DEPARTMENT OF TRANSPORTATION & OREILLY AUTO  00002659       & 32                          \\\\\n",
       "\\end{tabular}\n"
      ],
      "text/markdown": [
       "\n",
       "| Agency_Name | Vendor | count_ven |\n",
       "|---|---|---|\n",
       "| DEPARTMENT OF TRANSPORTATION | WW GRAINGER                  | 50                           |\n",
       "| DEPARTMENT OF TRANSPORTATION | OK NATURAL GAS/TNB           | 49                           |\n",
       "| DEPARTMENT OF TRANSPORTATION | FASTENAL COMPANY01           | 38                           |\n",
       "| DEPARTMENT OF TRANSPORTATION | OG&E/USPAYMENTSBILLPAY       | 38                           |\n",
       "| DEPARTMENT OF TRANSPORTATION | STAPLES                      | 38                           |\n",
       "| DEPARTMENT OF TRANSPORTATION | OREILLY AUTO  00002659       | 32                           |\n",
       "\n"
      ],
      "text/plain": [
       "  Agency_Name                  Vendor                 count_ven\n",
       "1 DEPARTMENT OF TRANSPORTATION WW GRAINGER            50       \n",
       "2 DEPARTMENT OF TRANSPORTATION OK NATURAL GAS/TNB     49       \n",
       "3 DEPARTMENT OF TRANSPORTATION FASTENAL COMPANY01     38       \n",
       "4 DEPARTMENT OF TRANSPORTATION OG&E/USPAYMENTSBILLPAY 38       \n",
       "5 DEPARTMENT OF TRANSPORTATION STAPLES                38       \n",
       "6 DEPARTMENT OF TRANSPORTATION OREILLY AUTO  00002659 32       "
      ]
     },
     "metadata": {},
     "output_type": "display_data"
    }
   ],
   "source": [
    "head(freq_monthly_vendor)"
   ]
  },
  {
   "cell_type": "code",
   "execution_count": 64,
   "metadata": {},
   "outputs": [
    {
     "data": {
      "image/png": "[encoded data removed]",
      "text/plain": [
       "plot without title"
      ]
     },
     "metadata": {},
     "output_type": "display_data"
    }
   ],
   "source": [
    "# Top 10 Highest Number of Transactions with Known Vendors by Month\n",
    "freq_monthly_vendor<- freq_monthly_vendor[1:10,]\n",
    "\n",
    "gg15 <- ggplot() + geom_bar(aes(reorder(freq_monthly_vendor$Vendor,\n",
    "                                        freq_monthly_vendor$count_ven),\n",
    "                                freq_monthly_vendor$count_ven),\n",
    "                            stat = 'identity',color = \"blue\", fill = \"steelblue\") + \n",
    "  theme_minimal() + \n",
    "  theme(axis.text.x = element_text(angle = 90, hjust = 1)) + \n",
    "  labs(title = \"Top 10 Highest Number of Transactions with Known Vendors by Month\",\n",
    "        x = \"Vendor\",\n",
    "        y = \"Total Transactions\")+\n",
    "  theme(plot.title = element_text(size = 8),\n",
    "        text = element_text(size=7))\n",
    "\n",
    "gg15 + coord_flip()"
   ]
  },
  {
   "cell_type": "markdown",
   "metadata": {},
   "source": [
    "***Conclusion***: This feature helps to find vendors that have a sudden increase to the number of transactions they have per month. By using a rolling average over 3 months, it evens out the peaks to find a better representation of their number of transactions. These averages can then by compared to previous figures to help predict anomalies if large changes are noticed."
   ]
  },
  {
   "cell_type": "markdown",
   "metadata": {},
   "source": [
    "### 16: Rare vendor identify (1-2 transactions) over past 3 months<a class=\"anchor\" id=\"feature16\"></a>\n",
    "This feature is similar to feature 14, but finds rare vendors instead of frequent ones. It creates a sample for transactions by a single agency before grouping them by vendor and date. It then filters for the last 3 months before grouping again to find vendors with 1 or 2 transactions."
   ]
  },
  {
   "cell_type": "code",
   "execution_count": 65,
   "metadata": {},
   "outputs": [],
   "source": [
    "rare_vendor <- ccard %>% group_by(Agency_Name, Vendor, Year_Month) %>%\n",
    "    summarise(num_trans = n()) %>%\n",
    "    filter(num_trans <= 2)%>%\n",
    "    filter(Year_Month >= 201404)%>%\n",
    "    arrange(order(Vendor, -Year_Month))%>% ungroup()"
   ]
  },
  {
   "cell_type": "code",
   "execution_count": 66,
   "metadata": {},
   "outputs": [],
   "source": [
    "sample_16 <- rare_vendor%>%filter(Agency_Name == \"UNIVERSITY OF OKLAHOMA\")"
   ]
  },
  {
   "cell_type": "code",
   "execution_count": 67,
   "metadata": {},
   "outputs": [
    {
     "data": {
      "text/html": [
       "<table>\n",
       "<thead><tr><th scope=col>Vendor</th></tr></thead>\n",
       "<tbody>\n",
       "\t<tr><td>PAYPAL  BLUETOAD         </td></tr>\n",
       "\t<tr><td>OREILLY AUTO  00003129   </td></tr>\n",
       "\t<tr><td>AMERICAN AI 0017446958078</td></tr>\n",
       "\t<tr><td>JOURNYHSE   SIMPSON      </td></tr>\n",
       "\t<tr><td>BEST WESTERN INN AND CONF</td></tr>\n",
       "\t<tr><td>FAIRFIELD INN&amp;SUITES MUSK</td></tr>\n",
       "\t<tr><td><span style=white-space:pre-wrap>STANLEY SUPPLY &amp; SVCS    </span></td></tr>\n",
       "\t<tr><td>SQ  THE GOVERNOR'S CLUB 3</td></tr>\n",
       "\t<tr><td>STAPLES DIRECT           </td></tr>\n",
       "\t<tr><td>DMI  DELL K-12/GOVT      </td></tr>\n",
       "\t<tr><td>ENTERPRISE RENT-A-CAR    </td></tr>\n",
       "\t<tr><td>JOURNYHSE   KITCHEN      </td></tr>\n",
       "\t<tr><td>MCLAIN-CHITWOOD OFFICE PR</td></tr>\n",
       "\t<tr><td><span style=white-space:pre-wrap>NATIONAL COWBOY &amp; WEST   </span></td></tr>\n",
       "\t<tr><td>BCI ALLEGIANCE, LLC      </td></tr>\n",
       "</tbody>\n",
       "</table>\n"
      ],
      "text/latex": [
       "\\begin{tabular}{r|l}\n",
       " Vendor\\\\\n",
       "\\hline\n",
       "\t PAYPAL  BLUETOAD         \\\\\n",
       "\t OREILLY AUTO  00003129   \\\\\n",
       "\t AMERICAN AI 0017446958078\\\\\n",
       "\t JOURNYHSE   SIMPSON      \\\\\n",
       "\t BEST WESTERN INN AND CONF\\\\\n",
       "\t FAIRFIELD INN\\&SUITES MUSK\\\\\n",
       "\t STANLEY SUPPLY \\& SVCS    \\\\\n",
       "\t SQ  THE GOVERNOR'S CLUB 3\\\\\n",
       "\t STAPLES DIRECT           \\\\\n",
       "\t DMI  DELL K-12/GOVT      \\\\\n",
       "\t ENTERPRISE RENT-A-CAR    \\\\\n",
       "\t JOURNYHSE   KITCHEN      \\\\\n",
       "\t MCLAIN-CHITWOOD OFFICE PR\\\\\n",
       "\t NATIONAL COWBOY \\& WEST   \\\\\n",
       "\t BCI ALLEGIANCE, LLC      \\\\\n",
       "\\end{tabular}\n"
      ],
      "text/markdown": [
       "\n",
       "| Vendor |\n",
       "|---|\n",
       "| PAYPAL  BLUETOAD          |\n",
       "| OREILLY AUTO  00003129    |\n",
       "| AMERICAN AI 0017446958078 |\n",
       "| JOURNYHSE   SIMPSON       |\n",
       "| BEST WESTERN INN AND CONF |\n",
       "| FAIRFIELD INN&SUITES MUSK |\n",
       "| STANLEY SUPPLY & SVCS     |\n",
       "| SQ  THE GOVERNOR'S CLUB 3 |\n",
       "| STAPLES DIRECT            |\n",
       "| DMI  DELL K-12/GOVT       |\n",
       "| ENTERPRISE RENT-A-CAR     |\n",
       "| JOURNYHSE   KITCHEN       |\n",
       "| MCLAIN-CHITWOOD OFFICE PR |\n",
       "| NATIONAL COWBOY & WEST    |\n",
       "| BCI ALLEGIANCE, LLC       |\n",
       "\n"
      ],
      "text/plain": [
       "   Vendor                   \n",
       "1  PAYPAL  BLUETOAD         \n",
       "2  OREILLY AUTO  00003129   \n",
       "3  AMERICAN AI 0017446958078\n",
       "4  JOURNYHSE   SIMPSON      \n",
       "5  BEST WESTERN INN AND CONF\n",
       "6  FAIRFIELD INN&SUITES MUSK\n",
       "7  STANLEY SUPPLY & SVCS    \n",
       "8  SQ  THE GOVERNOR'S CLUB 3\n",
       "9  STAPLES DIRECT           \n",
       "10 DMI  DELL K-12/GOVT      \n",
       "11 ENTERPRISE RENT-A-CAR    \n",
       "12 JOURNYHSE   KITCHEN      \n",
       "13 MCLAIN-CHITWOOD OFFICE PR\n",
       "14 NATIONAL COWBOY & WEST   \n",
       "15 BCI ALLEGIANCE, LLC      "
      ]
     },
     "metadata": {},
     "output_type": "display_data"
    }
   ],
   "source": [
    "distinct_new_vendors =  rare_vendor %>% distinct(Vendor)\n",
    "\n",
    "distinct_new_vendors[1:15,]"
   ]
  },
  {
   "cell_type": "markdown",
   "metadata": {},
   "source": [
    "***Conclusion:*** This feature helps to find transactions with vendors that are more infrequent. By creating a list, it provides a lens on what transactions should be more carefully considered. If unusually large transactions are placed with these merchants, it can help predict if unusual activity is present which should be investigated further."
   ]
  },
  {
   "cell_type": "markdown",
   "metadata": {},
   "source": [
    "### 17: Maximum amount spent on rare vendor<a class=\"anchor\" id=\"feature17\"></a>\n",
    "This feature groups by agency and vendor before finding the maximum charge for them. It then finds the unique vendors by filtering the number of transactions to be 1 or 2. Next, it creates a filter for a single agency to find the maximum value of the transactions by that vendor."
   ]
  },
  {
   "cell_type": "code",
   "execution_count": 68,
   "metadata": {},
   "outputs": [],
   "source": [
    "max_rare_vendor <- time_by_agency %>% group_by(Agency_Name, Vendor) %>%\n",
    "    summarise(num_trans = n(),\n",
    "             max = max(Amount)) %>%\n",
    "    filter(num_trans <= 2)%>%\n",
    "    arrange(order(Vendor))%>% ungroup()"
   ]
  },
  {
   "cell_type": "code",
   "execution_count": 69,
   "metadata": {},
   "outputs": [],
   "source": [
    "sample_17 <- max_rare_vendor%>%filter(Agency_Name == \"UNIVERSITY OF OKLAHOMA\")%>%arrange(desc(max))"
   ]
  },
  {
   "cell_type": "code",
   "execution_count": 71,
   "metadata": {},
   "outputs": [
    {
     "data": {
      "image/png": "[encoded data removed]",
      "text/plain": [
       "plot without title"
      ]
     },
     "metadata": {},
     "output_type": "display_data"
    }
   ],
   "source": [
    "sample_17<- sample_17[1:20,]\n",
    "\n",
    "gg17 <- ggplot() + geom_bar(aes(reorder(sample_17$Vendor,sample_17$max),sample_17$max),\n",
    "                            stat = 'identity',color = \"blue\", fill = \"steelblue\") + \n",
    "  theme_minimal() + \n",
    "  theme(axis.text.x = element_text(angle = 90, hjust = 1)) + \n",
    "  labs(title = \"Maximum Amount Spent on Rare Vendor\",\n",
    "        x = \"Merchant Category\",\n",
    "        y = \"Amount\")+\n",
    "  theme(plot.title = element_text(size = 8),\n",
    "        text = element_text(size=7))\n",
    "\n",
    "gg17 + coord_flip()"
   ]
  },
  {
   "cell_type": "markdown",
   "metadata": {},
   "source": [
    "***Conclusion:*** This feature helps to see the values of unique vendors for an agency. By determining the maximum amount of the sales, it helps to identify big purchases which may need further investigation. Through highlighting these figures, it helps to predict anomalies by determing what transactions are unusual."
   ]
  },
  {
   "cell_type": "markdown",
   "metadata": {},
   "source": [
    "### 18: Number of Transactions by Unique Users for an Agency<a class=\"anchor\" id=\"feature18\"></a>\n",
    "This feature groups transactions by date, cardholder name and agency name to count the number of transactions each person made in a day. It then filters by a certain agency, a certain period of time and also by the number of transactions if desired. The results ar ethen visualized in a list or by a chart."
   ]
  },
  {
   "cell_type": "code",
   "execution_count": 72,
   "metadata": {},
   "outputs": [],
   "source": [
    "count_daily_trans <- time_by_agency %>% \n",
    "        group_by(Transaction_Date,Cardholder_Last_Name, Cardholder_First_Initial,Agency_Name) %>%\n",
    "        summarize(count_trans = n())%>%\n",
    "        arrange((Transaction_Date),desc(count_trans)) %>% ungroup() "
   ]
  },
  {
   "cell_type": "code",
   "execution_count": 73,
   "metadata": {},
   "outputs": [],
   "source": [
    "# Change Agency_Name to explore different organizations\n",
    "sample_18 <- count_daily_trans%>%filter(Agency_Name == \"UNIVERSITY OF OKLAHOMA\",\n",
    "                                       Transaction_Date >= \"2014-06-01\",\n",
    "                                       count_trans >= 2)"
   ]
  },
  {
   "cell_type": "code",
   "execution_count": 75,
   "metadata": {},
   "outputs": [
    {
     "data": {
      "image/png": "[encoded data removed]",
      "text/plain": [
       "plot without title"
      ]
     },
     "metadata": {},
     "output_type": "display_data"
    }
   ],
   "source": [
    "gg18 <- ggplot() + geom_bar(aes(sample_18$Transaction_Date,sample_18$count_trans), stat = 'identity',\n",
    "                           color = \"blue\", fill = \"steelblue\") + \n",
    "  theme_minimal() + \n",
    "  theme(axis.text.x = element_text(angle = 90, hjust = 1)) + \n",
    "  labs(title = \"Number of daily transactions per mechant by cardholder\",\n",
    "        x = \"Transaction Date\",\n",
    "        y = \"Number of Transactions\")+\n",
    "  theme(plot.title = element_text(size = 10),\n",
    "        text = element_text(size=10))\n",
    "\n",
    "gg18 #+ coord_flip()"
   ]
  },
  {
   "cell_type": "markdown",
   "metadata": {},
   "source": [
    "***Conclusion***: This feature helps to see how many transactions are made by a single users on a certain date. Through comparing it against historical information, it can see if the number of transactions is exceedingly high and may indicate fraud. These figures can help predict fraud by noticing the change in the number of transactions a user makes and flags any large changes which may indicate suspicious behavior."
   ]
  },
  {
   "cell_type": "markdown",
   "metadata": {},
   "source": [
    "### 19: Month over Month Expense Changes<a class=\"anchor\" id=\"feature19\"></a>\n",
    "This feature helps calculates the monthly expenses for an agency every month. It then compares them against the previous month and creates a month over month percentage change. These figures are then tracked and compared against the previous month."
   ]
  },
  {
   "cell_type": "code",
   "execution_count": 76,
   "metadata": {},
   "outputs": [],
   "source": [
    "# Total monthly expenses by agency\n",
    "monthly_expenses <- time_by_agency %>% \n",
    "        group_by(Agency_Name, month_yr) %>%\n",
    "        summarize(monthly_cost = sum(Amount))"
   ]
  },
  {
   "cell_type": "code",
   "execution_count": 77,
   "metadata": {},
   "outputs": [],
   "source": [
    "# Calculate MoM \n",
    "monthly_report <- monthly_expenses %>%\n",
    "      mutate(MoM = (monthly_cost - lag(monthly_cost)) / lag(monthly_cost))\n",
    "monthly_report <- monthly_report %>%\n",
    "    mutate(MoM = round(MoM * 100, 1))"
   ]
  },
  {
   "cell_type": "code",
   "execution_count": 78,
   "metadata": {},
   "outputs": [],
   "source": [
    "# Change Agency_Name to explore different organizations\n",
    "sample_19 <- monthly_report%>%filter(Agency_Name == \"ATTORNEY GENERAL\")"
   ]
  },
  {
   "cell_type": "code",
   "execution_count": 79,
   "metadata": {},
   "outputs": [
    {
     "name": "stderr",
     "output_type": "stream",
     "text": [
      "Warning message:\n",
      "\"Removed 1 rows containing missing values (position_stack).\""
     ]
    },
    {
     "data": {
      "image/png": "[encoded data removed]",
      "text/plain": [
       "plot without title"
      ]
     },
     "metadata": {},
     "output_type": "display_data"
    }
   ],
   "source": [
    "gg19 <- ggplot() + geom_bar(aes(sample_19$month_yr,sample_19$MoM), stat = 'identity',\n",
    "                           color = \"blue\", fill = \"steelblue\") + \n",
    "  theme_minimal() + \n",
    "  theme(axis.text.x = element_text(angle = 90, hjust = 1)) + \n",
    "  labs(title = \"Month over Month Expense Change in Percentages\",\n",
    "        x = \"Time\",\n",
    "        y = \"Month over month changes\")+\n",
    "  theme(plot.title = element_text(size = 10),\n",
    "        text = element_text(size=10))\n",
    "\n",
    "gg19 #+ coord_flip()"
   ]
  },
  {
   "cell_type": "markdown",
   "metadata": {},
   "source": [
    "***Conclusion***: This feature helps to visualize how the charges an agency has change over time. If there are sudden increases or decreases, it may mean there is suspicious behaviour which should be monitored. Through tracking these percent changes, it helps to predict anomalies by highlighting how the transactions change over time."
   ]
  },
  {
   "cell_type": "markdown",
   "metadata": {},
   "source": [
    "### 20: Total Number of Transaction per Day for an agency <a class=\"anchor\" id=\"feature20\"></a>\n",
    "This feature groups by agency and transaction date to count how many transactions are made per day. It then filters by agency and time by specifying a month to examine."
   ]
  },
  {
   "cell_type": "code",
   "execution_count": 80,
   "metadata": {},
   "outputs": [],
   "source": [
    "total_by_agency <- time_by_agency %>% group_by(Agency_Name, Transaction_Date) %>%\n",
    "    summarise(total_trans = n()) %>%ungroup() "
   ]
  },
  {
   "cell_type": "code",
   "execution_count": 81,
   "metadata": {},
   "outputs": [],
   "source": [
    "# Change Agency_Name to explore different organizations\n",
    "sample_20 <- total_by_agency%>%filter(Agency_Name == \"ATTORNEY GENERAL\",                                       \n",
    "                                      Transaction_Date >= \"2014-06-01\")"
   ]
  },
  {
   "cell_type": "code",
   "execution_count": 82,
   "metadata": {},
   "outputs": [
    {
     "data": {
      "image/png": "[encoded data removed]",
      "text/plain": [
       "plot without title"
      ]
     },
     "metadata": {},
     "output_type": "display_data"
    }
   ],
   "source": [
    "gg20 <- ggplot() + geom_bar(aes(sample_20$Transaction_Date,sample_20$total_trans), stat = 'identity',\n",
    "                           color = \"blue\", fill = \"steelblue\") + \n",
    "  theme_minimal() + \n",
    "  theme(axis.text.x = element_text(angle = 90, hjust = 1)) + \n",
    "  labs(title = \"Total number of transaction per day for an agency\",\n",
    "        x = \"Date\",\n",
    "        y = \"Total Transaction\")+\n",
    "  theme(plot.title = element_text(size = 10),\n",
    "        text = element_text(size=10))\n",
    "\n",
    "gg20 #+ coord_flip()"
   ]
  },
  {
   "cell_type": "markdown",
   "metadata": {},
   "source": [
    "***Conclusion***: This feature helps to visualize how many transactions an agency has over time. Through comparing this chart and its figures against other days, it creates a pattern of spending which can be monitored. Also, it can help predict fraud by catching very high amounts of transactions in a day which are above the average which indicates suspicious behavior."
   ]
  }
 ],
 "metadata": {
  "kernelspec": {
   "display_name": "Python 3",
   "language": "python",
   "name": "python3"
  },
  "language_info": {
   "codemirror_mode": {
    "name": "ipython",
    "version": 3
   },
   "file_extension": ".py",
   "mimetype": "text/x-python",
   "name": "python",
   "nbconvert_exporter": "python",
   "pygments_lexer": "ipython3",
   "version": "3.7.3"
  }
 },
 "nbformat": 4,
 "nbformat_minor": 4
}
