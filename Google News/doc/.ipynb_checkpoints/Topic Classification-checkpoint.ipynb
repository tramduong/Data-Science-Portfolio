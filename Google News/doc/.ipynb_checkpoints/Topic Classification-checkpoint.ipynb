{
 "cells": [
  {
   "cell_type": "markdown",
   "metadata": {},
   "source": [
    "# Topic Classification"
   ]
  },
  {
   "cell_type": "markdown",
   "metadata": {},
   "source": [
    "### Load Word2Vec model and Other Functions"
   ]
  },
  {
   "cell_type": "code",
   "execution_count": 3,
   "metadata": {},
   "outputs": [],
   "source": [
    "import gensim, operator\n",
    "from scipy import spatial\n",
    "import numpy as np\n",
    "from gensim.models import KeyedVectors\n",
    "\n",
    "model_path = '/github/'"
   ]
  },
  {
   "cell_type": "code",
   "execution_count": 4,
   "metadata": {},
   "outputs": [
    {
     "name": "stdout",
     "output_type": "stream",
     "text": [
      "Loading Word2Vec model...\n",
      "Finished loading Word2Vec model...\n"
     ]
    }
   ],
   "source": [
    "def load_wordvec_model(modelName, modelFile, flagBin):\n",
    "    print('Loading ' + modelName + ' model...')\n",
    "    model = KeyedVectors.load_word2vec_format(model_path + modelFile, binary=flagBin)\n",
    "    print('Finished loading ' + modelName + ' model...')\n",
    "    return model\n",
    "\n",
    "model_word2vec = load_wordvec_model('Word2Vec', 'GoogleNews-vectors-negative300.bin.gz', True)\n",
    "#model_fasttext = load_wordvec_model('FastText', 'fastText_wiki_en.vec', False)"
   ]
  },
  {
   "cell_type": "code",
   "execution_count": 5,
   "metadata": {},
   "outputs": [],
   "source": [
    "def vec_similarity(input1, input2, vectors):\n",
    "    term_vectors = [np.zeros(300), np.zeros(300)]\n",
    "    terms = [input1, input2]\n",
    "        \n",
    "    for index, term in enumerate(terms):\n",
    "        for i, t in enumerate(term.split(' ')):\n",
    "            try:\n",
    "                term_vectors[index] += vectors[t]\n",
    "            except:\n",
    "                term_vectors[index] += 0\n",
    "        \n",
    "    result = (1 - spatial.distance.cosine(term_vectors[0], term_vectors[1]))\n",
    "    if result is 'nan':\n",
    "        result = 0\n",
    "        \n",
    "    return result"
   ]
  },
  {
   "cell_type": "code",
   "execution_count": 6,
   "metadata": {},
   "outputs": [],
   "source": [
    "# function checks whether the input words are present in the vocabulary for the model\n",
    "def vocab_check(vectors, words):\n",
    "    \n",
    "    output = list()\n",
    "    for word in words:\n",
    "        if word in vectors.vocab:\n",
    "            output.append(word.strip())\n",
    "            \n",
    "    return output"
   ]
  },
  {
   "cell_type": "code",
   "execution_count": 7,
   "metadata": {},
   "outputs": [],
   "source": [
    "# function calculates similarity between two strings using a particular word vector model\n",
    "def calc_similarity(input1, input2, vectors):\n",
    "    s1words = set(vocab_check(vectors, input1.split()))\n",
    "    s2words = set(vocab_check(vectors, input2.split()))\n",
    "    \n",
    "    try:\n",
    "        output = vectors.n_similarity(s1words, s2words)\n",
    "    except:\n",
    "        output = 0\n",
    "    return output"
   ]
  },
  {
   "cell_type": "markdown",
   "metadata": {},
   "source": [
    "### Data Exploration with Sematic Similartity"
   ]
  },
  {
   "cell_type": "code",
   "execution_count": 8,
   "metadata": {},
   "outputs": [],
   "source": [
    "# Load json data into list of dictionaries\n",
    "import json\n",
    "google_json=open(\"/github/google_deduplicated.json\").readlines()"
   ]
  },
  {
   "cell_type": "code",
   "execution_count": 9,
   "metadata": {},
   "outputs": [],
   "source": [
    "# Prints the number of newsfeeds (JSON objects) in the collection\n",
    "newsfeeds_read = []\n",
    "for line in google_json:\n",
    "    newsfeeds_read.append(json.loads(line))"
   ]
  },
  {
   "cell_type": "code",
   "execution_count": 10,
   "metadata": {},
   "outputs": [],
   "source": [
    "# Create randome title list \n",
    "import random\n",
    "title_list = [x['title'] for x in newsfeeds_read]\n",
    "article_title = random.choice(title_list)"
   ]
  },
  {
   "cell_type": "code",
   "execution_count": 11,
   "metadata": {},
   "outputs": [],
   "source": [
    "# Create similartity score list \n",
    "sim_list=[]\n",
    "\n",
    "for i in title_list:\n",
    "    try:\n",
    "        sim = calc_similarity(article_title, i, model_word2vec)\n",
    "        sim_list.append(sim)\n",
    "    except:\n",
    "        #sim_list.append(0, 'ERROR ZERO DIV '+i)\n",
    "        sim_list.append(0)"
   ]
  },
  {
   "cell_type": "code",
   "execution_count": 12,
   "metadata": {},
   "outputs": [],
   "source": [
    "# Finidng most similar titles in a descending order of similarity scores\n",
    "import pandas as pd\n",
    "df = pd.DataFrame(list(zip(title_list, sim_list)),columns =['Title', 'Similarity'])\n",
    "most_similar = df.sort_values(['Similarity'], ascending=0)"
   ]
  },
  {
   "cell_type": "code",
   "execution_count": null,
   "metadata": {
    "scrolled": true
   },
   "outputs": [],
   "source": [
    "most_similar[:600]"
   ]
  },
  {
   "cell_type": "markdown",
   "metadata": {},
   "source": [
    "### Extractive Text Summarization  "
   ]
  },
  {
   "cell_type": "code",
   "execution_count": 14,
   "metadata": {},
   "outputs": [],
   "source": [
    "from sumy.parsers.plaintext import PlaintextParser\n",
    "from sumy.parsers.html import HtmlParser\n",
    "from sumy.nlp.tokenizers import Tokenizer\n",
    "from sumy.summarizers.lex_rank import LexRankSummarizer\n",
    "\n",
    "class TextSummary(object):\n",
    "\n",
    "    def __init__(self, feeds_str, num_sents):\n",
    "        self.summary = str()\n",
    "        \n",
    "        parser = PlaintextParser.from_string(feeds_str, Tokenizer(\"english\"))\n",
    "        summarizer = LexRankSummarizer()\n",
    "\n",
    "        sentences = summarizer(parser.document, num_sents)  # Summarize the document with 5 sentences\n",
    "        for sentence in sentences:\n",
    "            self.summary += (sentence.__unicode__())\n",
    "\n",
    "    def output(self):\n",
    "        return self.summary"
   ]
  },
  {
   "cell_type": "code",
   "execution_count": 15,
   "metadata": {},
   "outputs": [],
   "source": [
    "feed_text = []\n",
    "\n",
    "for feed in google_json:\n",
    "    a = json.loads(feed)\n",
    "    feed_text.append(a['text'])"
   ]
  },
  {
   "cell_type": "markdown",
   "metadata": {},
   "source": [
    "### LDA topics (Assignment 8)\n",
    "       {0: ['cloud', 'technology', 'team', 'digital', 'health', 'network', 'platform', 'design', 'tool', 'develop'],\n",
    "        1: ['page', 'https', 'website', 'web', 'site', 'chrome', 'browser', 'link', 'file', 'user'],\n",
    "        2: ['trump', 'podcast', 'president', 'tech', 'law', 'privacy', 'government', 'order', 'tweet', 'claim'], \n",
    "        3: ['police', 'black', 'coronavirus', 'city', 'health', 'case', 'officer', 'floyd', 'protest', 'pm'],\n",
    "        4: ['million', 'india', 'per', 'pay', 'digital', 'increase', 'billion', 'stock', 'businesses', 'revenue'],\n",
    "        5: ['game', 'good', 'really', 'lot', 'school', 'nt', 'things', 'students', 'something', 'every'],\n",
    "        6: ['android', 'phone', 'apps', 'apple', 'de', 'game', 'device', 'pixel', 'store', 'devices'],\n",
    "        7: ['log', 'smart', 'tv', 'amazon', 'music', 'voice', 'stream', 'assistant', 'youtube', 'never']}"
   ]
  },
  {
   "cell_type": "markdown",
   "metadata": {},
   "source": [
    "### Manual Data Exploration"
   ]
  },
  {
   "cell_type": "code",
   "execution_count": null,
   "metadata": {
    "scrolled": false
   },
   "outputs": [],
   "source": [
    "title_list"
   ]
  },
  {
   "cell_type": "code",
   "execution_count": 18,
   "metadata": {},
   "outputs": [],
   "source": [
    "# BUILD YOUR OWN TAXONOMY BASED ON LDA and MANUAL DATA EXPLORATION\n",
    "topic_taxonomy = {\n",
    "    \"Business\" : \n",
    "    {\n",
    "        \"Business Competition\" : \"competition rivalry consumer customer market share conflict fight\",\n",
    "        \"Business Operations\" : \"reopen operations integration program recruiting sales performance investors\",\n",
    "        \"Business Expansion\" : \"growth market arena barrier conglomerate takeover buyout buy venture pilot partnership partner\",\n",
    "        \"Business Tech\" : \"innovate blockchain cloud enterprise applications public robots automation IoT AI research\",\n",
    "        \"Business Law\" : \"sue countersue law lawyer illegal espionage settlement contract breach nda disclosure trade secrets\",\n",
    "        \"Business Performance\" : \"stock market revenue dividend nasdaq ticker dive increase invest investors\"\n",
    "    },\n",
    "    \n",
    "    \"Products\" :\n",
    "    {\n",
    "        \"Product Failure\" : \"recall defect defective failure fail poor issue problem bug\",\n",
    "        \"Product Trends\" : \" innovate innovative virtual platform cloud technology market team digital health network platform design tool\",\n",
    "        \"Product Release\" : \"new release unveil announce offer launch expand develop\"\n",
    "    },\n",
    "    \n",
    "    \"Incident\" :\n",
    "    {\n",
    "        \"Disease Outbreak\": \"Covid-19 health quarantine corona virus coronavirus impact cases recover survivors essential update\",\n",
    "        \"Violent Incident\": \"police city case officer shooting death murder killed robbery crime\",\n",
    "        \"Protests\" : \"black lives matter protest march george floyd racism occupy shooting breonna taylor minority rights\",\n",
    "        \"Security Breach\": \"security hack breach hacker password release data confidential information\"\n",
    "    },\n",
    "    \n",
    "    \"Technology\" :\n",
    "    {\n",
    "        \"Mobile Tech\" :  \"android ios apple iphone samsung huawei google pixel device 5g 4g network tower mobile phone cellphone smartphone\",\n",
    "        \"Gaming Tech\" : \"stadia play store microsoft xbox playstation sony nintendo switch vr virtual reality game gaming\",\n",
    "        \"Streaming Tech\" : \"video youtube netflix hulu disney+ starz hbo amazon prime twitch stream on demand zoom tiktok instagram\",\n",
    "        \"Payment Tech\" : \"credit card contactless venmo paypal google pay apple pay square cash\"\n",
    "    },\n",
    "    \n",
    "    \"Government\" :\n",
    "    {\n",
    "        \"President\" :  \"trump obama president presidential 45th veto election\",\n",
    "        \"Gov Regulations\" : \"embargo law privacy regulation governance ban injunction\",\n",
    "        \"Gov Politics\" : \"congress representatives house senate judicial judge rules ruling bill economy\",\n",
    "        \"Gov Investigation\" : \"probe investigate investigation allege allegation FBI CIA charges accusation\",\n",
    "        \"Gov Relations\" : \"washington europe united nations china beijing india embassy military dispute refugee visa passport\"\n",
    "    },\n",
    "\n",
    "    \"Artificial Intelligence\" : \n",
    "    {\n",
    "        \"AI Assistant\" : \"AI virtual log voice match recognition activation amazon alexa siri google home activate personal assistant notes computer\",\n",
    "        \"AI Market\" : \"AI biotech fintech insurance vehicles healthcare detection self driving global cloud\",\n",
    "        \"AI Home\" : \"AI enabled smart TV music stream lights camera home security google amazon alexa echo mini nest network\"\n",
    "    }\n",
    "}"
   ]
  },
  {
   "cell_type": "code",
   "execution_count": 31,
   "metadata": {},
   "outputs": [],
   "source": [
    "# function takes an input string, runs similarity for each item in topic_taxonomy, sorts and returns top 3 results\n",
    "def classify_topics(input, vectors):\n",
    "    feed_score = dict()\n",
    "    for key, value in topic_taxonomy.items():\n",
    "        max_value_score = dict()\n",
    "        for label, keywords in value.items():\n",
    "            max_value_score[label] = 0\n",
    "            topic = (key + ' ' + keywords).strip()\n",
    "            max_value_score[label] += float(calc_similarity(input, topic, vectors))\n",
    "            \n",
    "        sorted_max_score = sorted(max_value_score.items(), key=operator.itemgetter(1), reverse=True)[0]\n",
    "        feed_score[sorted_max_score[0]] = sorted_max_score[1]\n",
    "    return sorted(feed_score.items(), key=operator.itemgetter(1), reverse=True)[:1]"
   ]
  },
  {
   "cell_type": "code",
   "execution_count": 338,
   "metadata": {},
   "outputs": [],
   "source": [
    "lst1= []\n",
    "lst2=[]\n",
    "for topic in topic_taxonomy.keys():\n",
    "    lst1.append(topic)\n",
    "    lst2.append(list(topic_taxonomy[topic].keys()))"
   ]
  },
  {
   "cell_type": "code",
   "execution_count": 339,
   "metadata": {},
   "outputs": [],
   "source": [
    "newlst= list(zip(lst1,lst2))"
   ]
  },
  {
   "cell_type": "code",
   "execution_count": 340,
   "metadata": {},
   "outputs": [
    {
     "data": {
      "text/plain": [
       "['Product Failure', 'Product Trends', 'Product Release']"
      ]
     },
     "execution_count": 340,
     "metadata": {},
     "output_type": "execute_result"
    }
   ],
   "source": [
    "newlst[1][1]"
   ]
  },
  {
   "cell_type": "code",
   "execution_count": 389,
   "metadata": {},
   "outputs": [
    {
     "data": {
      "text/plain": [
       "[('Business',\n",
       "  ['Business Competition',\n",
       "   'Business Operations',\n",
       "   'Business Expansion',\n",
       "   'Business Tech',\n",
       "   'Business Law',\n",
       "   'Business Performance']),\n",
       " ('Products', ['Product Failure', 'Product Trends', 'Product Release']),\n",
       " ('Incident',\n",
       "  ['Disease Outbreak', 'Violent Incident', 'Protests', 'Security Breach']),\n",
       " ('Technology',\n",
       "  ['Mobile Tech', 'Gaming Tech', 'Streaming Tech', 'Payment Tech']),\n",
       " ('Government',\n",
       "  ['President',\n",
       "   'Gov Regulations',\n",
       "   'Gov Politics',\n",
       "   'Gov Investigation',\n",
       "   'Gov Relations']),\n",
       " ('Artificial Intelligence', ['AI Assistant', 'AI Market', 'AI Home'])]"
      ]
     },
     "execution_count": 389,
     "metadata": {},
     "output_type": "execute_result"
    }
   ],
   "source": [
    "newlst"
   ]
  },
  {
   "cell_type": "code",
   "execution_count": null,
   "metadata": {
    "scrolled": false
   },
   "outputs": [],
   "source": [
    "for i in title_list:\n",
    "    output = classify_topics(i,model_word2vec)\n",
    "\n",
    "    print(i, output)"
   ]
  },
  {
   "cell_type": "code",
   "execution_count": 33,
   "metadata": {},
   "outputs": [],
   "source": [
    "output_list = []\n",
    "titles=[]\n",
    "\n",
    "for i in title_list:\n",
    "    titles.append(i)\n",
    "\n",
    "for i in title_list:\n",
    "    output = classify_topics(i,model_word2vec)\n",
    "    output_list.append(output)"
   ]
  },
  {
   "cell_type": "code",
   "execution_count": 250,
   "metadata": {},
   "outputs": [],
   "source": [
    "labels=[]\n",
    "values=[]\n",
    "\n",
    "for x in range(len(output_list)):\n",
    "    labels.append(output_list[x][0][0])\n",
    "    \n",
    "\n",
    "for x in range(len(output_list)):\n",
    "    values.append(output_list[x][0][1])"
   ]
  },
  {
   "cell_type": "code",
   "execution_count": 251,
   "metadata": {},
   "outputs": [],
   "source": [
    "df = pd.DataFrame(list(zip(titles, labels, values)),columns =['Title', 'Topic','Value'])"
   ]
  },
  {
   "cell_type": "code",
   "execution_count": 390,
   "metadata": {},
   "outputs": [
    {
     "name": "stdout",
     "output_type": "stream",
     "text": [
      "Topic:  Business\n",
      "\n",
      "\n",
      "Subtopic:  Business Competition \n",
      "\n",
      "0.5479925274848938 Reflecting on DuckDuckGo's rise as the privacy-focused search engine and the possibility of increased market share because of EU regulatory pressure (Matt Burgess/WIRED UK)\n",
      "0.5377374887466431 Sources: India's antitrust body is looking into allegations that Google is abusing its market position to unfairly promote its mobile payments app Google Pay (Reuters)\n",
      "0.5278651714324951 Consumer experience of online grocery must improve, says app start-up\n",
      "0.5157110691070557 Google faces India mobile payments competition claim\n",
      "0.5131257176399231 Google sues Sonos, escalating wireless speaker battle amid trade panel probe - Midwest Communication\n",
      "0.5097876787185669 WhatsApp Pay struggles in India’s mobile payments market dominated by Google, Walmart, Paytm\n",
      "0.5092771053314209 Disney+ beats Netflix in consumer satisfaction survey\n",
      "0.5074613094329834 India’s telecom wars to heat up? Google eyes 5% stake in struggling Vodafone-Idea – report\n",
      "0.5002304315567017 Google downplays value of news in fight over $1bn media fund\n",
      "0.5000556707382202 Amazon, Facebook and Google turn to deep network of political allies to battle back antitrust probes\n",
      "\n",
      "\n",
      "Subtopic:  Business Operations \n",
      "\n",
      "0.5958307981491089 OnePlus banks on India R&D to drive product innovation across markets | Business Standard News\n",
      "0.560510516166687 Covid-19: Dubai to reopen business activities from May 27\n",
      "0.559809148311615 Coronavirus: US markets fall amid increase in virus cases and fading hopes for quick economic recovery | Business News | Sky News\n",
      "0.5548047423362732 A CEO who recruits executives for Google and Siemens sees the new 'interim economy' likely replacing full-time jobs with gig work\n",
      "0.5524231791496277 External factors affecting e-commerce efficiency and sales growth\n",
      "0.5508431792259216 Sources: Apple believes Apple Music held a 50%+ weekly US market share of premium hip-hop streams for new releases in 94 out of the last 96 weeks (Tim Ingham/Music Business Worldwide)\n",
      "0.5504409074783325 HurixDigital hires ex-Google Executive Sameer Bora as EVP - Operations and Delivery, to focus on the online learning needs of educational institutions\n",
      "0.547295868396759 Property Transfers - 12 sales for $4.7 million\n",
      "0.5466917753219604 The $20 billion self-driving startup Cruise is adding to its leadership team even as autonomous-vehicle companies are hitting the brakes during the pandemic (GM)\n",
      "0.5444566011428833 Macy’s says reopened stores luring back customers\n",
      "\n",
      "\n",
      "Subtopic:  Business Expansion \n",
      "\n",
      "0.6505877375602722 Sources: Netflix is in talks with Network18, the media unit of Indian conglomerate Reliance Industries, to establish a multiyear content creation partnership (Reuters)\n",
      "0.6167488098144531 KKR, Cinven and Providence launch takeover bid for MásMóvil\n",
      "0.6129469871520996 Report: Jeff Bezos is buying a stake in UK digital supply chain startup Beacon\n",
      "0.5918633341789246 Decora: UK investment fund buys £10m stake in Lisburn blinds manufacturer\n",
      "0.5913022756576538 Austin developer continues buying spree with apartment complex deal - Business - Austin American-Statesman - Austin, TX\n",
      "0.5892524719238281 Anthos: Google's bid for Kubernetes differentiation ... and market share\n",
      "0.5877708196640015 North West-based entrepreneur secures £8.15m to expand property portfolio\n",
      "0.5737400650978088 Amazon reportedly wants Airtel stake for $2 billion ⁠— and a partnership like Jio-Facebook and possibly, Google-Vodafone Idea |\n",
      "0.5725589394569397 Google eyes entry into Indian telecom market with 5% stake purchase in Vodafone Idea: Report\n",
      "0.5722717642784119 More giant foreign firms plan to shift investment into Vietnam\n",
      "Topic:  Products\n",
      "\n",
      "\n",
      "Subtopic:  Product Failure \n",
      "\n",
      "0.5547114610671997 mikenov on Twitter: #Covid19Review: #Coronavirus and failure of #USIntelligence Service… covid-19-review.blogspot.com/p/coronavirus-…\n",
      "0.5474531650543213 Chrome 85 is finally fixing this bothersome problem\n",
      "0.5268161296844482 Common Samsung Galaxy S8 problems and how to fix them\n",
      "0.5166292786598206 Google says 70 percent of serious security bugs are memory safety issues\n",
      "0.5056346654891968 Mickoski: We have a complete systemic failure in dealing with the crisis\n",
      "0.5028896331787109 Ford recalls about 2.5 million vehicles for latch, brake troubles\n",
      "0.48348498344421387 Galaxy S10 owners should update their phones now to fix critical issues\n",
      "0.48150572180747986 Tinder error 5000? Fix it in 5 easy-to-follow steps\n",
      "0.477628231048584 Samsung updates four-year-old, unsupported Galaxy S7 series to fix critical vulnerability\n",
      "0.4765341877937317 Why you should avoid self-diagnosing health problems online\n",
      "\n",
      "\n",
      "Subtopic:  Product Trends \n",
      "\n",
      "0.7470463514328003 NaaS platform launched in France claiming fast, scalable business access to cloud\n",
      "0.7408857345581055 Splunk announces new machine learning enhancements to core platform solutions\n",
      "0.7369316816329956 Douglas Alexandra, a digital marketing and brand activation firm announces a new suite of tools that help small businesses manage their online reputation and increase sales\n",
      "0.7108955383300781 Safaricom, Google partner to leverage on digital data capability\n",
      "0.7096217274665833 Google partners with WWF on digital data platform for sustainable fashion sourcing\n",
      "0.7066527605056763 Ecobank, Google partner to offer digital solutions to SMEs\n",
      "0.6971423029899597 Sponsored: Leveraging Google Cloud to create readily scalable online games\n",
      "0.6866495013237 Ecobank Group and Google collaborating to deliver digital solutions tailored for Ecobank’s Small and Medium-sized Enterprises (SMEs) customers\n",
      "0.680660605430603 Phunware launches mobile solution to give small businesses access to Multiscreen-as-a-Service features\n",
      "0.679611325263977 GoDaddy buys content creation app Over, plans to integrate features into its product suite\n",
      "\n",
      "\n",
      "Subtopic:  Product Release \n",
      "\n",
      "0.6704382300376892 WarnerMedia announces further launch partners for HBO Max\n",
      "0.5834186673164368 Megaport unveils European expansion with deployment of NaaS solution in France\n",
      "0.5717743635177612 AirAsia’s Redbeat Academy unveils SME development programme\n",
      "0.570824921131134 One of Stadia's most anticipated features is launching alongside its ambitious new exclusive, Crayta | GamesRadar+\n",
      "0.565302312374115 Omantel to announce new chairman soon\n",
      "0.5577467679977417 Realme X50t key specifications, launch date revealed in fresh leak - Technology News\n",
      "0.5573707222938538 Pixel Kicks launches new site for StormForce\n",
      "0.542980432510376 Cyberpunk 2077 apparently won’t be available on Stadia at launch\n",
      "0.5361126065254211 Ford to unveil hotly anticipated new Bronco this summer\n",
      "0.5353850722312927 Google launches new search highlighting feature\n",
      "Topic:  Incident\n",
      "\n",
      "\n",
      "Subtopic:  Disease Outbreak \n",
      "\n",
      "0.7606136798858643 First coronavirus infection case detected in Tanahun\n",
      "0.7191710472106934 Covid-19: Sewage may contain the key to stopping new coronavirus outbreaks\n",
      "0.6947405338287354 List 3/3 of sports events affected by coronavirus pandemic\n",
      "0.6760573983192444 China coronavirus panic: City of 2.8m gripped by 'mysterious' new outbreak - breaking-news-today.org/\n",
      "0.6747081279754639 Lockdown 4.0 tops Google’s search trends as people look for containment zones and ways to survive the coronavirus pandemic\n",
      "0.6699112057685852 Charity running events become difficult during coronavirus pandemic\n",
      "0.6683411598205566 Apple's iOS update is here — and it includes coronavirus contact tracing\n",
      "0.6631852388381958 Turkey opens new hospitals as daily coronavirus cases drop\n",
      "0.6610223054885864 Amazon workers are tracking coronavirus cases themselves\n",
      "0.6586374640464783 The coronavirus pandemic highlights the need for a surveillance debate beyond 'privacy'\n",
      "\n",
      "\n",
      "Subtopic:  Violent Incident \n",
      "\n",
      "0.7656497359275818 Police investigate shooting death of 77-year-old Fayetteville man\n",
      "0.7360484600067139 Attempted robbery victim injured as police hunt two men and teenager\n",
      "0.7228763103485107 Ex-Indiana prisons worker charged with murder in stabbings\n",
      "0.7226009964942932 Attempted murder investigation launched after man stabbed in chest\n",
      "0.707332968711853 Police seek connection between stolen vehicle and CT murder suspect | BRProud.com | WVLA | WGMB\n",
      "0.7067210078239441 Dundonald: Man charged with attempted murder after stabbing\n",
      "0.7048490643501282 Police name man accused of stabbing\n",
      "0.7035213112831116 Murder probe launched after man stabbed to death following mass brawl\n",
      "0.6967706680297852 Police constable accused of abetting wife’s suicide\n",
      "0.682953417301178 Police appeal after reported stabbing\n",
      "\n",
      "\n",
      "Subtopic:  Protests \n",
      "\n",
      "0.5996947288513184 “house judiciary committee” – Google News: George Floyd: Barr denies police are systemically racist as protests sweep US – live – The Guardian\n",
      "0.5871340036392212 Thousands in London decry racial injustice, police violence\n",
      "0.5859026312828064 ‘I can’t take the lies anymore!’: Glenn Beck goes on FIERY rant over left’s civil rights HYPOCRISY\n",
      "0.583642840385437 Protests against racism and in support of the blac\n",
      "0.568368136882782 Here's what tech companies have said they'll do to fight racism in wake of George Floyd protests\n",
      "0.561687707901001 George Floyd death: Policeman hugs crying black girl who asked 'are you gonna shoot us?' during protests\n",
      "0.5596727132797241 As George Floyd protests continue, Amazon, Google pledge millions to racial justice organizations\n",
      "0.555757462978363 Thousands of demonstrators protesting police brutality expected in DC Saturday\n",
      "0.5496022701263428 ANC in Nelson Mandela Bay and allies protest against racism\n",
      "0.5457563400268555 Support this black business if black lives really matter to you\n",
      "Topic:  Technology\n",
      "\n",
      "\n",
      "Subtopic:  Mobile Tech \n",
      "\n",
      "0.7558438777923584 Finally, a Google Android TV dongle that doesn’t need a smartphone to work\n",
      "0.7085289359092712 HTC Desire 20 Pro smartphone gets Bluetooth and WiFi certifications\n",
      "0.7005177736282349 iPhone 后盖玻璃与金属中框之间的塑料\n",
      "0.6934922933578491 ZTE's newest dirt-cheap smartphone comes with a removable battery and Android 10\n",
      "0.6877042651176453 How to transfer contacts between iPhone and Android devices\n",
      "0.6769777536392212 FCC confirms Google Android TV dongle and multi-function remote\n",
      "0.6755363345146179 Microsoft Your Phone app now lets you control phone music - BGR India\n",
      "0.6741026043891907 The emails apps the iPhone and iPad\n",
      "0.6689994931221008 Fortnite 12.61.0_13498347 Apk android\n",
      "0.6688302755355835 Lockourier optimized with mobile app\n",
      "\n",
      "\n",
      "Subtopic:  Gaming Tech \n",
      "\n",
      "0.637615442276001 NVIDIA GeForce NOW has over 2k games from 200 publishers\n",
      "0.6274961233139038 DIY VR headset lets you enjoy PC games thanks to a little Arduino\n",
      "0.6273241639137268 nvidia - Video playback freezes after hardware upgrade - Ask Ubuntu\n",
      "0.6223659515380859 C'era una volta una console chiamata Terminator 2 - articolo\n",
      "0.6177246570587158 Razer Kishi review: A smooth play for mobile gaming - CNET\n",
      "0.6146950721740723 Microsoft Edge has a cute game to play when you're offline\n",
      "0.602924108505249 How to use your DSLR as a webcam for a PC or Mac - CNET\n",
      "0.5992048978805542 Chromebook owners get Android versions of DOOM and DOOM II for free — Here’s how\n",
      "0.5987446308135986 Epic Games store to launch on Android, iOS devices - why it makes sense\n",
      "0.5984976291656494 Microsoft’s new app will let parents monitor their child’s Xbox gaming sessions\n",
      "\n",
      "\n",
      "Subtopic:  Streaming Tech \n",
      "\n",
      "0.6549007892608643 There is now a video of the upcoming Google Android TV streaming device\n",
      "0.653354287147522 Youtube TV reports \"This video format is not supported.\" in Firefox - Ask Ubuntu\n",
      "0.6488375663757324 youtube vs tiktok: Roast, rage, jealousy, cringe. Who'll have the last laugh in YouTube vs TikTok's online 'class wars'?\n",
      "0.6488205194473267 Amazon offerte oggi (fino a -69%): speciale bebè e monopattini (con bonus), MateBook D, iPhone 11 779€, AirPods 129€, TV 4K e altre splendide promo\n",
      "0.6389066576957703 7 light-hearted movies on Amazon Prime Video and Netflix to forget about your work stress\n",
      "0.6313621997833252 Youtube New Feature: YouTube rolls out new 'Chapters' feature on app to navigate long videos\n",
      "0.6280354261398315 Google Camera app update allows Pixel 4 and 4XL users capture videos at 8x zoom and more\n",
      "0.6269862055778503 From Hulu to Youtube to Yolamovies, the 10 Best sites for Free Streaming Movies\n",
      "0.6262041926383972 Tweet2Video: Twitter video downloader\n",
      "0.6257377862930298 Google releases online video trend data in India; here’s all you need to know\n",
      "Topic:  Government\n",
      "\n",
      "\n",
      "Subtopic:  President \n",
      "\n",
      "0.6246024966239929 Democrats want to restrict political ad targeting ahead of the 2020 election\n",
      "0.612710177898407 Attempted hacks of Trump and Biden campaigns reveal race to disrupt election\n",
      "0.6073259115219116 Democratic governors to GOP counterparts: oppose deployment\n",
      "0.5882061123847961 Ben Salango wins Democratic nomination for governor in West Virginia primary election\n",
      "0.5852646827697754 Joe Biden wins Democratic presidential primary in Montana\n",
      "0.5788743495941162 Tuesday is election day in Iowa. Here's what to know | Politics and elections | qctimes.com\n",
      "0.5624212026596069 US voters face virus, social unrest in primary elections « TheEricErbShow\n",
      "0.5556595325469971 Chinese, Iranian hackers targeting Trump, Biden election campaigns, says Google\n",
      "0.5523809194564819 Biden looks to clinch nomination as 7 states, DC vote\n",
      "0.5472110509872437 Teacher beats West Virginia Senate president in GOP primary\n",
      "\n",
      "\n",
      "Subtopic:  Gov Regulations \n",
      "\n",
      "0.6370396614074707 Twitter, WhatsApp sanctions loom in EU privacy crackdown\n",
      "0.6069628000259399 California attorney general submits regulations for approval under privacy law\n",
      "0.5887899398803711 New Google rule bans discriminatory targeting for housing ads\n",
      "0.5748873353004456 Google says use existing EU laws to govern AI\n",
      "0.5682357549667358 Court orders dismissal of Trump Muslim travel ban challenges\n",
      "0.5577337741851807 Japan enacts law toughening regulations on tech giants\n",
      "0.5568976402282715 Tech firms ask govt to frame online harm rules within legal scope - Tech - DAWN.COM\n",
      "0.5537392497062683 Google to face $5bn privacy lawsuit as consumer craving for secrecy increases\n",
      "0.5529623031616211 Airlines launch legal action against UK quarantine policy\n",
      "0.5512072443962097 Trump to order review of law protecting social media firms after Twitter spat: report | TheHill\n",
      "\n",
      "\n",
      "Subtopic:  Gov Politics \n",
      "\n",
      "0.6460444927215576 Supreme Court rules in FOIA case long delayed by lawmaker\n",
      "0.6400690078735352 “house judiciary committee” – Google News: Democrats unveil broad police reform bill, pledge to transform law enforcement – The Washington Post\n",
      "0.6335254311561584 “house judiciary committee” – Google News: House plans dramatic action on police reform – Axios\n",
      "0.6305216550827026 “house judiciary committee” – Google News: House GOP leaders vow to keep fighting remote voting during pandemic – CNN\n",
      "0.6242994070053101 “house judiciary committee” – Google News: Gov. Laura Kelly backs negotiated COVID-19 bill as legislators meet in special session – Leavenworth Times\n",
      "0.618450939655304 Appeals court ruling suggests little legal traction for Trump's anti-Twitter campaign\n",
      "0.6105098724365234 Trump sued over social media directive Stimulus watchdog confirmed by Senate Census offices closed due to protests SAT administrator scraps home testing\n",
      "0.6064184904098511 Kosovo lawmakers vote in new center-right prime minister\n",
      "0.6023396253585815 Kansas to ask Supreme Court to save voter citizenship law\n",
      "0.5889809131622314 Lawmakers question federal prisons’ home confinement rules\n",
      "Topic:  Artificial Intelligence\n",
      "\n",
      "\n",
      "Subtopic:  AI Assistant \n",
      "\n",
      "0.6345881819725037 Viral tweet reminds us how much better voice typing is on Google Pixel vs. iPhone [Video]\n",
      "0.6338615417480469 Using the translate feature with screen reading software requires having the synthesizer for the foreign language you request already installed on your screen reader. NVDA users should use the e-Speak NG synthesizer. JAWS users should download and install\n",
      "0.6239581108093262 Gmail login security alert messages now embed an ad for Google Chrome\n",
      "0.6137943267822266 Google Voice added to Gmail web app, now lets you transfer calls on all platforms\n",
      "0.6136289238929749 Is it real new WhatsApp bot works to recognise fake news\n",
      "0.6061913967132568 How to accept a Google Calendar invite on your computer or mobile device\n",
      "0.598939061164856 Google's chat app may finally get end-to-end encryption\n",
      "0.5978620052337646 How to reset my keyboard mapping file - Ask Ubuntu\n",
      "0.5945535898208618 Google lets you text ‘Plus Codes’ that reveal your EXACT location – if your actual address is hard to find\n",
      "0.594058632850647 Google details how it is using a variety of AI techniques to improve the translation quality for languages that don't have a copious amount of written text (Kyle Wiggers/VentureBeat)\n",
      "\n",
      "\n",
      "Subtopic:  AI Market \n",
      "\n",
      "0.6193392276763916 Hack-for-hire firms from India targeting financial services, healthcare amid COVID-19: Google | Banking\n",
      "0.6000860929489136 Opinion: Artificial intelligence should be integrated into our workforce\n",
      "0.5910974144935608 AI tools could improve fake news detection by analyzing users’ interactions and comments\n",
      "0.5891197919845581 Health tech start-up introduces GPS tracking for medical equipment in the community\n",
      "0.5867326259613037 Artificial Intelligence (AI) in Insurance Market Global Outlook 2020 : Google, Microsoft Corporation, Amazon Web Services Inc - 3rd Watch News\n",
      "0.5712171792984009 News roundup: LabCorp CRO boosts Medable, Propeller Health gains 510(k), EU’s 34 medtech startups, Amazon’s healthcare moves, Google’s Arizona privacy lawsuit\n",
      "0.5708098411560059 AI systems are worse at diagnosing disease when training data is skewed by sex\n",
      "0.5661823749542236 EU calls for greater regulation of US tech companies\n",
      "0.560026228427887 Hack-for-hire firms targeting financial services, healthcare | Communications Today\n",
      "0.555166482925415 How Mayo Clinic manages patient data privacy, consent in licensing deals with tech companies\n",
      "\n",
      "\n",
      "Subtopic:  AI Home \n",
      "\n",
      "0.6719580888748169 Here's what Google's new Android TV dongle (and remote control) might look like\n",
      "0.6633495092391968 Massive Google Android TV leak continues with video teaser of where the interface might be heading\n",
      "0.6598238348960876 'Can you Chromecast Apple Music?': How to connect your Google streaming device with Apple's music library\n",
      "0.6541474461555481 Altibox offers Google Nest Wi-Fi gadget for wireless TV viewing\n",
      "0.6492516994476318 Here’s our best look yet at Google’s new Android TV streaming device\n",
      "0.644879937171936 Google creates ‘social distancing’ AR app that puts virtual 2-metre ring around you using camera\n",
      "0.642866849899292 Netatmo outdoor security camera has a siren built in, works with Alexa, Google Assistant, Siri - CNET\n",
      "0.6426864266395569 Android 11's power menu smart home controls enabled by Google Home app\n",
      "0.6419627666473389 Google TV dongle & remote leaked, could launch soon\n",
      "0.6395019888877869 How Google tracks internet browsing history even when Incognito mode is on\n"
     ]
    }
   ],
   "source": [
    "# Topics and subtopics with 10 closest titles\n",
    "\n",
    "newlst[1][0]\n",
    "len(newlst)\n",
    "for x in range(len(newlst)):\n",
    "    print(\"Topic: \", newlst[x][0])\n",
    "    workinglst = newlst[x]\n",
    "    for i in range((len(workinglst)+1)):        \n",
    "        print('\\n\\nSubtopic: ',workinglst[1][i],'\\n')\n",
    "        working =df[df['Topic']==workinglst[1][i]]\n",
    "        short_list = working.sort_values(by='Value', ascending=0)[:10]\n",
    "        for i in range(10):\n",
    "            print(short_list.iloc[i][2],short_list.iloc[i][0])\n",
    "    "
   ]
  }
 ],
 "metadata": {
  "kernelspec": {
   "display_name": "Python 3",
   "language": "python",
   "name": "python3"
  },
  "language_info": {
   "codemirror_mode": {
    "name": "ipython",
    "version": 3
   },
   "file_extension": ".py",
   "mimetype": "text/x-python",
   "name": "python",
   "nbconvert_exporter": "python",
   "pygments_lexer": "ipython3",
   "version": "3.7.3"
  }
 },
 "nbformat": 4,
 "nbformat_minor": 2
}
